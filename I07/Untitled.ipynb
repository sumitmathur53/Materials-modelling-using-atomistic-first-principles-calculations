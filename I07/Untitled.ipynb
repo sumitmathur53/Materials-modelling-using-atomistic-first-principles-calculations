{
 "cells": [
  {
   "cell_type": "code",
   "execution_count": 1,
   "metadata": {},
   "outputs": [],
   "source": [
    "import ase \n",
    "import ase.io\n",
    "import ase.visualize"
   ]
  },
  {
   "cell_type": "code",
   "execution_count": 5,
   "metadata": {},
   "outputs": [],
   "source": [
    "atoms = ase.io.read('POSCAR', format='vasp')\n",
    "ase.visualize.view(atoms)"
   ]
  },
  {
   "cell_type": "code",
   "execution_count": 7,
   "metadata": {},
   "outputs": [],
   "source": [
    "ase.io.write('POSCAR.cif', atoms,format='cif')\n",
    "atoms = ase.io.read('POSCAR.xyz',format='xyz')\n",
    "ase.visualize.view(atoms)"
   ]
  },
  {
   "cell_type": "code",
   "execution_count": 9,
   "metadata": {},
   "outputs": [],
   "source": [
    "atoms = ase.io.read('POSCAR', format='vasp')\n"
   ]
  },
  {
   "cell_type": "code",
   "execution_count": 10,
   "metadata": {},
   "outputs": [
    {
     "data": {
      "text/plain": [
       "array([[4.86063327, 0.        , 0.        ],\n",
       "       [0.        , 5.88550146, 0.        ],\n",
       "       [0.        , 0.        , 9.91419763]])"
      ]
     },
     "execution_count": 10,
     "metadata": {},
     "output_type": "execute_result"
    }
   ],
   "source": [
    "atoms.get_cell()"
   ]
  },
  {
   "cell_type": "code",
   "execution_count": 14,
   "metadata": {},
   "outputs": [
    {
     "data": {
      "text/plain": [
       "array([[0.450883, 0.75    , 0.774056],\n",
       "       [0.049117, 0.75    , 0.274056],\n",
       "       [0.549117, 0.25    , 0.225944],\n",
       "       [0.950883, 0.25    , 0.725944],\n",
       "       [0.901369, 0.75    , 0.593816],\n",
       "       [0.598631, 0.75    , 0.093816],\n",
       "       [0.098631, 0.25    , 0.406184],\n",
       "       [0.401369, 0.25    , 0.906184],\n",
       "       [0.211167, 0.75    , 0.62032 ],\n",
       "       [0.288833, 0.75    , 0.12032 ],\n",
       "       [0.788833, 0.25    , 0.37968 ],\n",
       "       [0.711167, 0.25    , 0.87968 ],\n",
       "       [0.653087, 0.75    , 0.942782],\n",
       "       [0.846913, 0.75    , 0.442782],\n",
       "       [0.346913, 0.25    , 0.057218],\n",
       "       [0.153087, 0.25    , 0.557218],\n",
       "       [0.752787, 0.953795, 0.667108],\n",
       "       [0.747213, 0.546205, 0.167108],\n",
       "       [0.247213, 0.453795, 0.332892],\n",
       "       [0.252787, 0.046205, 0.832892],\n",
       "       [0.247213, 0.046205, 0.332892],\n",
       "       [0.252787, 0.453795, 0.832892],\n",
       "       [0.752787, 0.546205, 0.667108],\n",
       "       [0.747213, 0.953795, 0.167108]])"
      ]
     },
     "execution_count": 14,
     "metadata": {},
     "output_type": "execute_result"
    }
   ],
   "source": [
    "atoms.get_scaled_positions()"
   ]
  },
  {
   "cell_type": "code",
   "execution_count": 16,
   "metadata": {},
   "outputs": [],
   "source": [
    "ase.visualize.view(atoms)"
   ]
  },
  {
   "cell_type": "code",
   "execution_count": 21,
   "metadata": {},
   "outputs": [
    {
     "name": "stdout",
     "output_type": "stream",
     "text": [
      "[[ 4.86063327  0.          0.        ]\n",
      " [ 0.          5.88550146  0.        ]\n",
      " [ 0.          0.         19.82839526]]\n"
     ]
    }
   ],
   "source": [
    "alat = atoms.get_cell()\n",
    "print(alat)\n",
    "alat[2][2] *= 2\n",
    "atoms.set_cell(alat)\n",
    "ase.visualize.view(atoms)"
   ]
  },
  {
   "cell_type": "code",
   "execution_count": 22,
   "metadata": {},
   "outputs": [],
   "source": [
    "atoms.center()\n",
    "ase.visualize.view(atoms)"
   ]
  },
  {
   "cell_type": "code",
   "execution_count": 23,
   "metadata": {},
   "outputs": [],
   "source": [
    "atoms *= (2,2,1)\n",
    "ase.visualize.view(atoms)"
   ]
  },
  {
   "cell_type": "code",
   "execution_count": 24,
   "metadata": {},
   "outputs": [],
   "source": [
    "atoms.translate([0,0,10])\n",
    "ase.visualize.view(atoms)"
   ]
  },
  {
   "cell_type": "code",
   "execution_count": 25,
   "metadata": {},
   "outputs": [],
   "source": [
    "import ase.build"
   ]
  },
  {
   "cell_type": "code",
   "execution_count": 29,
   "metadata": {},
   "outputs": [],
   "source": [
    "atoms = ase.build.bulk('Ar', 'diamond', a = 5.2, cubic=True)\n",
    "ase.visualize.view(atoms)"
   ]
  },
  {
   "cell_type": "code",
   "execution_count": 30,
   "metadata": {},
   "outputs": [],
   "source": [
    "C1 = ase.Atom?"
   ]
  },
  {
   "cell_type": "code",
   "execution_count": 52,
   "metadata": {},
   "outputs": [],
   "source": [
    "Carbon = ase.Atom(position=(0,0,0), symbol = 'C')\n",
    "myN = ase.Atom(position=(0.5,0.5,0.5), symbol = 'N')\n",
    "atoms = ase.Atoms((Carbon,myN), cell=[5,5,6])\n",
    "atoms.center()\n",
    "ase.visualize.view(atoms)"
   ]
  },
  {
   "cell_type": "code",
   "execution_count": null,
   "metadata": {},
   "outputs": [],
   "source": []
  },
  {
   "cell_type": "code",
   "execution_count": 37,
   "metadata": {},
   "outputs": [],
   "source": [
    "s = ase.build.fcc100('Cu', size=(4,6,4), vacuum=10,orthogonal=True)\n",
    "ase.visualize.view(s)"
   ]
  },
  {
   "cell_type": "code",
   "execution_count": 39,
   "metadata": {},
   "outputs": [],
   "source": [
    "atoms = ase.io.read('POSCAR', format='vasp')\n",
    "s = ase.build.surface(atoms, (2,1,1), 10)\n",
    "s.center(vacuum=100, axis=2)\n",
    "ase.visualize.view(s)"
   ]
  },
  {
   "cell_type": "code",
   "execution_count": 42,
   "metadata": {},
   "outputs": [],
   "source": [
    "atoms = ase.build.molecule('NH3', vacuum=3)\n",
    "ase.visualize.view(atoms)"
   ]
  },
  {
   "cell_type": "code",
   "execution_count": 43,
   "metadata": {},
   "outputs": [],
   "source": [
    "s = ase.build.fcc111('Cu', size=(4,6,4), vacuum=10,orthogonal=True)\n",
    "m = ase.build.molecule('NH3', vacuum=3)\n",
    "ase.build.add_adsorbate(s, m, height=2,  position=(4,5))\n",
    "ase.visualize.view(s)"
   ]
  },
  {
   "cell_type": "code",
   "execution_count": 44,
   "metadata": {},
   "outputs": [],
   "source": [
    "atoms = ase.io.read('POSCAR')\n",
    "ase.visualize.view(atoms)"
   ]
  },
  {
   "cell_type": "code",
   "execution_count": 47,
   "metadata": {},
   "outputs": [],
   "source": [
    "atoms = ase.io.read('POSCAR.cif')\n",
    "ase.visualize.view(atoms)"
   ]
  },
  {
   "cell_type": "code",
   "execution_count": null,
   "metadata": {},
   "outputs": [],
   "source": []
  }
 ],
 "metadata": {
  "kernelspec": {
   "display_name": "Python 3",
   "language": "python",
   "name": "python3"
  },
  "language_info": {
   "codemirror_mode": {
    "name": "ipython",
    "version": 3
   },
   "file_extension": ".py",
   "mimetype": "text/x-python",
   "name": "python",
   "nbconvert_exporter": "python",
   "pygments_lexer": "ipython3",
   "version": "3.6.8"
  }
 },
 "nbformat": 4,
 "nbformat_minor": 2
}

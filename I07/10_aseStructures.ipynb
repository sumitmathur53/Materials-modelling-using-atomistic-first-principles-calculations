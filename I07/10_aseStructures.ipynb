{
 "cells": [
  {
   "cell_type": "code",
   "execution_count": 1,
   "metadata": {},
   "outputs": [],
   "source": [
    "# convert one structure type to another\n",
    "import ase\n",
    "import ase.io\n",
    "import ase.visualize \n",
    "import ase.build\n",
    "\n",
    "atoms = ase.io.read('POSCAR')\n",
    "ase.io.write('structure.xyz', atoms, format='xyz')"
   ]
  },
  {
   "cell_type": "code",
   "execution_count": 2,
   "metadata": {},
   "outputs": [],
   "source": [
    "# convert one structure type to another\n",
    "atoms = ase.io.read('structure.xyz')\n",
    "ase.io.write('structure.cif', atoms, format='cif')"
   ]
  },
  {
   "cell_type": "code",
   "execution_count": 7,
   "metadata": {},
   "outputs": [],
   "source": [
    "# structure manipulations\n",
    "atoms = ase.io.read('POSCAR')\n",
    "ase.visualize.view(atoms)"
   ]
  },
  {
   "cell_type": "code",
   "execution_count": 6,
   "metadata": {},
   "outputs": [],
   "source": [
    "atoms = ase.io.read('CONTCAR')\n",
    "ase.visualize.view(atoms)"
   ]
  },
  {
   "cell_type": "code",
   "execution_count": 8,
   "metadata": {},
   "outputs": [
    {
     "name": "stdout",
     "output_type": "stream",
     "text": [
      "[[4.86063327 0.         0.        ]\n",
      " [0.         5.88550146 0.        ]\n",
      " [0.         0.         9.91419763]]\n",
      "[[ 4.86063327  0.          0.        ]\n",
      " [ 0.          5.88550146  0.        ]\n",
      " [ 0.          0.         19.82839526]]\n"
     ]
    }
   ],
   "source": [
    "alat = atoms.get_cell()\n",
    "print(alat)\n",
    "alat[2][2] *= 2\n",
    "print(alat)\n",
    "atoms.set_cell(alat)\n",
    "ase.visualize.view(atoms)"
   ]
  },
  {
   "cell_type": "code",
   "execution_count": 9,
   "metadata": {},
   "outputs": [],
   "source": [
    "atoms.center()\n",
    "ase.visualize.view(atoms)"
   ]
  },
  {
   "cell_type": "code",
   "execution_count": 10,
   "metadata": {},
   "outputs": [],
   "source": [
    "atoms *= (2,2,1)\n",
    "ase.visualize.view(atoms)"
   ]
  },
  {
   "cell_type": "code",
   "execution_count": 11,
   "metadata": {},
   "outputs": [],
   "source": [
    "atoms.translate([0,0,10])\n",
    "ase.visualize.view(atoms)"
   ]
  },
  {
   "cell_type": "code",
   "execution_count": 12,
   "metadata": {},
   "outputs": [
    {
     "name": "stdout",
     "output_type": "stream",
     "text": [
      "1\n"
     ]
    }
   ],
   "source": [
    "# common bulk structures\n",
    "\n",
    "# primitive-fcc cell\n",
    "atoms = ase.build.bulk('Cu', 'fcc', a=3.8)\n",
    "print(len(atoms))\n",
    "ase.visualize.view(atoms)"
   ]
  },
  {
   "cell_type": "code",
   "execution_count": 13,
   "metadata": {},
   "outputs": [
    {
     "name": "stdout",
     "output_type": "stream",
     "text": [
      "4\n"
     ]
    }
   ],
   "source": [
    "# conventional-fcc cell\n",
    "atoms = ase.build.bulk('Cu', 'fcc', a=3.8, cubic=True)\n",
    "print(len(atoms))\n",
    "ase.visualize.view(atoms)"
   ]
  },
  {
   "cell_type": "code",
   "execution_count": 14,
   "metadata": {},
   "outputs": [
    {
     "name": "stdout",
     "output_type": "stream",
     "text": [
      "2\n"
     ]
    }
   ],
   "source": [
    "# conventional-bcc cell\n",
    "atoms = ase.build.bulk('Cu', 'bcc', a=3.8, cubic=True)\n",
    "print(len(atoms))\n",
    "ase.visualize.view(atoms)"
   ]
  },
  {
   "cell_type": "code",
   "execution_count": 15,
   "metadata": {},
   "outputs": [
    {
     "name": "stdout",
     "output_type": "stream",
     "text": [
      "8\n"
     ]
    }
   ],
   "source": [
    "# diamond cell\n",
    "atoms = ase.build.bulk('Si', 'diamond', a=5.4, cubic=True)\n",
    "print(len(atoms))\n",
    "ase.visualize.view(atoms)"
   ]
  },
  {
   "cell_type": "code",
   "execution_count": 19,
   "metadata": {},
   "outputs": [
    {
     "name": "stdout",
     "output_type": "stream",
     "text": [
      "--------------------------------------------------------------------------------\n",
      "C 0.0 0.0 0.0\n",
      "C 2.5 0.25 0.25\n",
      "--------------------------------------------------------------------------------\n",
      "[[10.  0.  0.]\n",
      " [ 0. 10.  0.]\n",
      " [ 0.  0. 10.]]\n",
      "--------------------------------------------------------------------------------\n",
      "[[0.    0.    0.   ]\n",
      " [0.25  0.025 0.025]]\n",
      "['C', 'C']\n",
      "[[0.   0.   0.  ]\n",
      " [2.5  0.25 0.25]]\n"
     ]
    }
   ],
   "source": [
    "# generate bulk-structure from scratch\n",
    "C1 = ase.Atom(position=(0,0,0), symbol='C')\n",
    "C2 = ase.Atom(position=(2.5, 0.25, 0.25), symbol='C')\n",
    "atoms = ase.Atoms((C1,C2), cell=[10.0,10.0,10.0])\n",
    "\n",
    "# print atoms\n",
    "print(\"-\"*80)\n",
    "for atom in atoms:\n",
    "    print(atom.symbol, atom.x, atom.y, atom.z)\n",
    "    \n",
    "# print lattice vectors    \n",
    "print(\"-\"*80)    \n",
    "print(atoms.get_cell())    \n",
    "\n",
    "# print atoms\n",
    "print(\"-\"*80)\n",
    "print(atoms.get_scaled_positions())\n",
    "print(atoms.get_chemical_symbols())\n",
    "print(atoms.get_positions())\n",
    "\n",
    "ase.visualize.view(atoms)"
   ]
  },
  {
   "cell_type": "code",
   "execution_count": 14,
   "metadata": {},
   "outputs": [],
   "source": [
    "# common surfaces\n",
    "s = ase.build.fcc100('Cu', size=(1,1,4), a=3.8, vacuum=5)\n",
    "ase.visualize.view(s)"
   ]
  },
  {
   "cell_type": "code",
   "execution_count": 15,
   "metadata": {},
   "outputs": [],
   "source": [
    "s = ase.build.fcc111('Cu', size=(2,2,4), a=3.8, vacuum=5, orthogonal=True)\n",
    "ase.visualize.view(s)"
   ]
  },
  {
   "cell_type": "code",
   "execution_count": 6,
   "metadata": {},
   "outputs": [],
   "source": [
    "ase.build.fcc111?"
   ]
  },
  {
   "cell_type": "code",
   "execution_count": 10,
   "metadata": {},
   "outputs": [],
   "source": [
    "# uncommon surfaces\n",
    "Cu = ase.build.bulk('Cu', 'fcc', a=5.4, cubic=True)\n",
    "s = ase.build.surface(Cu, (2, 1, 1), 9)\n",
    "s.center(vacuum=10, axis=2)\n",
    "ase.visualize.view(s)"
   ]
  },
  {
   "cell_type": "code",
   "execution_count": 11,
   "metadata": {},
   "outputs": [],
   "source": [
    "# molecules\n",
    "atoms = ase.build.molecule('H2O', vacuum=5)\n",
    "ase.visualize.view(atoms)"
   ]
  },
  {
   "cell_type": "code",
   "execution_count": null,
   "metadata": {},
   "outputs": [],
   "source": [
    "atoms = ase.build.molecule('CO2', vacuum=5)\n",
    "ase.visualize.view(atoms)"
   ]
  },
  {
   "cell_type": "code",
   "execution_count": 12,
   "metadata": {},
   "outputs": [],
   "source": [
    "atoms = ase.build.molecule('NH3', vacuum=5)\n",
    "ase.visualize.view(atoms)"
   ]
  },
  {
   "cell_type": "code",
   "execution_count": 1,
   "metadata": {},
   "outputs": [
    {
     "ename": "NameError",
     "evalue": "name 'ase' is not defined",
     "output_type": "error",
     "traceback": [
      "\u001b[0;31m---------------------------------------------------------------------------\u001b[0m",
      "\u001b[0;31mNameError\u001b[0m                                 Traceback (most recent call last)",
      "\u001b[0;32m<ipython-input-1-0d4fd89cc3c1>\u001b[0m in \u001b[0;36m<module>\u001b[0;34m\u001b[0m\n\u001b[1;32m      1\u001b[0m \u001b[0;31m# adsorbates\u001b[0m\u001b[0;34m\u001b[0m\u001b[0;34m\u001b[0m\u001b[0;34m\u001b[0m\u001b[0m\n\u001b[0;32m----> 2\u001b[0;31m \u001b[0mslab\u001b[0m \u001b[0;34m=\u001b[0m \u001b[0mase\u001b[0m\u001b[0;34m.\u001b[0m\u001b[0mbuild\u001b[0m\u001b[0;34m.\u001b[0m\u001b[0mfcc111\u001b[0m\u001b[0;34m(\u001b[0m\u001b[0;34m'Cu'\u001b[0m\u001b[0;34m,\u001b[0m \u001b[0msize\u001b[0m\u001b[0;34m=\u001b[0m\u001b[0;34m(\u001b[0m\u001b[0;36m3\u001b[0m\u001b[0;34m,\u001b[0m\u001b[0;36m3\u001b[0m\u001b[0;34m,\u001b[0m\u001b[0;36m4\u001b[0m\u001b[0;34m)\u001b[0m\u001b[0;34m,\u001b[0m \u001b[0ma\u001b[0m\u001b[0;34m=\u001b[0m\u001b[0;36m5.4\u001b[0m\u001b[0;34m,\u001b[0m \u001b[0mvacuum\u001b[0m\u001b[0;34m=\u001b[0m\u001b[0;36m10\u001b[0m\u001b[0;34m)\u001b[0m\u001b[0;34m\u001b[0m\u001b[0;34m\u001b[0m\u001b[0m\n\u001b[0m\u001b[1;32m      3\u001b[0m \u001b[0mmol\u001b[0m \u001b[0;34m=\u001b[0m \u001b[0mase\u001b[0m\u001b[0;34m.\u001b[0m\u001b[0mbuild\u001b[0m\u001b[0;34m.\u001b[0m\u001b[0mmolecule\u001b[0m\u001b[0;34m(\u001b[0m\u001b[0;34m'CO'\u001b[0m\u001b[0;34m)\u001b[0m\u001b[0;34m\u001b[0m\u001b[0;34m\u001b[0m\u001b[0m\n\u001b[1;32m      4\u001b[0m \u001b[0mase\u001b[0m\u001b[0;34m.\u001b[0m\u001b[0mvisualize\u001b[0m\u001b[0;34m.\u001b[0m\u001b[0mview\u001b[0m\u001b[0;34m(\u001b[0m\u001b[0ms\u001b[0m\u001b[0;34m)\u001b[0m\u001b[0;34m\u001b[0m\u001b[0;34m\u001b[0m\u001b[0m\n\u001b[1;32m      5\u001b[0m \u001b[0;34m\u001b[0m\u001b[0m\n",
      "\u001b[0;31mNameError\u001b[0m: name 'ase' is not defined"
     ]
    }
   ],
   "source": [
    "# adsorbates\n",
    "slab = ase.build.fcc111('Cu', size=(3,3,4), a=5.4, vacuum=10)\n",
    "mol = ase.build.molecule('CO')\n",
    "ase.visualize.view(s)\n",
    "\n",
    "ase.build.add_adsorbate(slab, mol, height=3, position=(4,5))\n",
    "ase.visualize.view(slab)"
   ]
  },
  {
   "cell_type": "code",
   "execution_count": null,
   "metadata": {},
   "outputs": [],
   "source": []
  }
 ],
 "metadata": {
  "kernelspec": {
   "display_name": "Python 3",
   "language": "python",
   "name": "python3"
  },
  "language_info": {
   "codemirror_mode": {
    "name": "ipython",
    "version": 3
   },
   "file_extension": ".py",
   "mimetype": "text/x-python",
   "name": "python",
   "nbconvert_exporter": "python",
   "pygments_lexer": "ipython3",
   "version": "3.12.1"
  }
 },
 "nbformat": 4,
 "nbformat_minor": 2
}

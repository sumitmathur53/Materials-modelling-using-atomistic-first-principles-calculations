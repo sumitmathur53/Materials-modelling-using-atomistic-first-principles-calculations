{
 "cells": [
  {
   "cell_type": "code",
   "execution_count": 3,
   "metadata": {},
   "outputs": [],
   "source": [
    "import ase\n",
    "import ase.io\n",
    "import ase.build"
   ]
  },
  {
   "cell_type": "code",
   "execution_count": 31,
   "metadata": {},
   "outputs": [
    {
     "data": {
      "text/plain": [
       "[<matplotlib.lines.Line2D at 0x7fd768d62978>]"
      ]
     },
     "execution_count": 31,
     "metadata": {},
     "output_type": "execute_result"
    },
    {
     "data": {
      "image/png": "[encoded data removed]",
      "text/plain": [
       "<Figure size 432x288 with 1 Axes>"
      ]
     },
     "metadata": {
      "needs_background": "light"
     },
     "output_type": "display_data"
    }
   ],
   "source": [
    "atoms = ase.build.bulk('Ar', 'fcc', a = 5.2, cubic=True)\n",
    "\n",
    "from ase.calculators.lj import LennardJones\n",
    "lj = LennardJones(epsilon=1.67e-21, sigma=3.4, rc=3.5*3.4)\n",
    "\n",
    "atoms.set_calculator(lj)\n",
    "\n",
    "alat = [a/10 for a in range(50,61)]\n",
    "energies = []\n",
    "for a in alat:\n",
    "    cell = [[a,0,0], [0,a,0],  [0,0,a]]\n",
    "    atoms.set_cell(cell, scale_atoms=True)\n",
    "    energy = atoms.get_potential_energy()\n",
    "    energies.append(energy)\n",
    "    \n",
    "import matplotlib.pyplot as plt\n",
    "plt.plot(alat, energies, 'ro-')    \n",
    "\n",
    "import ase"
   ]
  },
  {
   "cell_type": "code",
   "execution_count": 32,
   "metadata": {},
   "outputs": [],
   "source": [
    "import ase.calculators"
   ]
  },
  {
   "cell_type": "code",
   "execution_count": 35,
   "metadata": {},
   "outputs": [],
   "source": [
    "import ase.io\n",
    "atoms = ase.io.read('POSCAR', format='vasp')"
   ]
  },
  {
   "cell_type": "code",
   "execution_count": 36,
   "metadata": {},
   "outputs": [],
   "source": [
    "ase.io.write('espresso', atoms, format='espresso-in')"
   ]
  },
  {
   "cell_type": "code",
   "execution_count": 38,
   "metadata": {},
   "outputs": [
    {
     "name": "stdout",
     "output_type": "stream",
     "text": [
      "&CONTROL\r\n",
      "/\r\n",
      "&SYSTEM\r\n",
      "   ntyp             = 3\r\n",
      "   nat              = 24\r\n",
      "   ibrav            = 0\r\n",
      "/\r\n",
      "&ELECTRONS\r\n",
      "/\r\n",
      "&IONS\r\n",
      "/\r\n",
      "&CELL\r\n",
      "/\r\n",
      "\r\n",
      "ATOMIC_SPECIES\r\n",
      "Fe 55.845 Fe_dummy.UPF\r\n",
      "P 30.973761998 P_dummy.UPF\r\n",
      "O 15.999 O_dummy.UPF\r\n",
      "\r\n",
      "K_POINTS gamma\r\n",
      "\r\n",
      "CELL_PARAMETERS angstrom\r\n",
      "4.86063327000000 0.00000000000000 0.00000000000000\r\n",
      "0.00000000000000 5.88550146000000 0.00000000000000\r\n",
      "0.00000000000000 0.00000000000000 9.91419763000000\r\n",
      "\r\n",
      "ATOMIC_POSITIONS angstrom\r\n",
      "Fe 2.1915769107 4.4141260950 7.6741441607 \r\n",
      "Fe 0.2387397243 4.4141260950 2.7170453457 \r\n",
      "Fe 2.6690563593 1.4713753650 2.2400534693 \r\n",
      "Fe 4.6218935457 1.4713753650 7.1971522843 \r\n",
      "P 4.3812241499 4.4141260950 5.8872091799 \r\n",
      "P 2.9097257551 4.4141260950 0.9301103649 \r\n",
      "P 0.4794091201 1.4713753650 4.0269884501 \r\n",
      "P 1.9509075149 1.4713753650 8.9840872651 \r\n",
      "O 1.0264053457 4.4141260950 6.1499750738 \r\n",
      "O 1.4039112893 4.4141260950 1.1928762588 \r\n",
      "O 3.8342279243 1.4713753650 3.7642225562 \r\n",
      "O 3.4567219807 1.4713753650 8.7213213712 \r\n",
      "O 3.1744164004 4.4141260950 9.3469270700 \r\n",
      "O 4.1165335046 4.4141260950 4.3898282550 \r\n",
      "O 1.6862168696 1.4713753650 0.5672705600 \r\n",
      "O 0.7440997654 1.4713753650 5.5243693750 \r\n",
      "O 3.6590215374 5.6135618650 6.6138405526 \r\n",
      "O 3.6319283676 3.2146903250 1.6567417376 \r\n",
      "O 1.2016117326 2.6708111350 3.3003570774 \r\n",
      "O 1.2287049024 0.2719395950 8.2574558924 \r\n",
      "O 1.2016117326 0.2719395950 3.3003570774 \r\n",
      "O 1.2287049024 2.6708111350 8.2574558924 \r\n",
      "O 3.6590215374 3.2146903250 6.6138405526 \r\n",
      "O 3.6319283676 5.6135618650 1.6567417376 \r\n",
      "\r\n"
     ]
    }
   ],
   "source": [
    "!cat espresso"
   ]
  },
  {
   "cell_type": "code",
   "execution_count": null,
   "metadata": {},
   "outputs": [],
   "source": []
  }
 ],
 "metadata": {
  "kernelspec": {
   "display_name": "Python 3",
   "language": "python",
   "name": "python3"
  },
  "language_info": {
   "codemirror_mode": {
    "name": "ipython",
    "version": 3
   },
   "file_extension": ".py",
   "mimetype": "text/x-python",
   "name": "python",
   "nbconvert_exporter": "python",
   "pygments_lexer": "ipython3",
   "version": "3.6.8"
  }
 },
 "nbformat": 4,
 "nbformat_minor": 2
}

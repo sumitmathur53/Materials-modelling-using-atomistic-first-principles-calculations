{
 "cells": [
  {
   "cell_type": "code",
   "execution_count": 1,
   "metadata": {},
   "outputs": [],
   "source": [
    "alias qstat /opt/pbs/bin/qstat "
   ]
  },
  {
   "cell_type": "code",
   "execution_count": 2,
   "metadata": {},
   "outputs": [],
   "source": [
    "import ase\n",
    "import ase.io\n",
    "import ase.visualize\n",
    "import ase.calculators.vasp\n",
    "import matplotlib\n",
    "from matplotlib import pyplot as plt\n",
    "import numpy as np\n",
    "import mywrapper"
   ]
  },
  {
   "cell_type": "code",
   "execution_count": 4,
   "metadata": {},
   "outputs": [],
   "source": [
    "atoms = ase.io.read('primitive.cif')\n",
    "ase.visualize.view(atoms)"
   ]
  },
  {
   "cell_type": "code",
   "execution_count": 5,
   "metadata": {},
   "outputs": [
    {
     "name": "stdout",
     "output_type": "stream",
     "text": [
      "1\n"
     ]
    },
    {
     "data": {
      "image/png": "[encoded data removed]",
      "text/plain": [
       "<Figure size 432x288 with 1 Axes>"
      ]
     },
     "metadata": {
      "needs_background": "light"
     },
     "output_type": "display_data"
    },
    {
     "name": "stdout",
     "output_type": "stream",
     "text": [
      "kpt | dE (meV/atom) | if converged?\n",
      "----------------------------------------\n",
      "  2         681.949     0\n",
      "  4          64.129     0\n",
      "  6          14.437     0\n",
      "  8           0.526     1\n",
      " 10           0.000     1\n"
     ]
    }
   ],
   "source": [
    "# get atoms object [Si unitcell]\n",
    "atoms = ase.io.read('primitive.cif')\n",
    "\n",
    "print(len(atoms.get_positions()))\n",
    "\n",
    "# kpts convergence\n",
    "kpts = [2,4,6,8,10]\n",
    "energies = []\n",
    "\n",
    "for kpt in kpts:\n",
    "    \n",
    "    # dir-name for this kpt calculation\n",
    "    path = 'kgrid/%d' % (kpt)\n",
    "        \n",
    "    # set basic calculator\n",
    "    calc = ase.calculators.vasp.Vasp(\n",
    "            xc=\"pbe\",\n",
    "            kpts=[kpt,kpt,kpt],\n",
    "            encut=400,\n",
    "            ediff=1e-5,\n",
    "            ismear=0,\n",
    "            sigma=0.05,\n",
    "            lwave=False, \n",
    "            )\n",
    "    \n",
    "    atoms.set_calculator(calc)\n",
    "    energy = mywrapper.get_energy(atoms, dir=path)\n",
    "    energies.append(energy)\n",
    "\n",
    "plt.figure(0)\n",
    "plt.plot(kpts, energies, 'ro-')\n",
    "plt.xlabel('Number of k-points in each dimension')\n",
    "plt.ylabel('Total Energy (eV)')\n",
    "plt.title('kgrid-convergence')\n",
    "plt.show()\n",
    "\n",
    "# convert energies to meV/atom\n",
    "natom = len(atoms.get_positions())\n",
    "energies = abs(1000*(np.array(energies) - energies[-1])/natom)\n",
    "print(\"kpt | dE (meV/atom) | if converged?\")\n",
    "print('-'*40)\n",
    "for kpt,e in zip(kpts, energies):\n",
    "    print('%3d %15.3f %5d' % (kpt, e, e<2))"
   ]
  },
  {
   "cell_type": "code",
   "execution_count": 6,
   "metadata": {},
   "outputs": [
    {
     "data": {
      "image/png": "[encoded data removed]",
      "text/plain": [
       "<Figure size 432x288 with 1 Axes>"
      ]
     },
     "metadata": {
      "needs_background": "light"
     },
     "output_type": "display_data"
    },
    {
     "name": "stdout",
     "output_type": "stream",
     "text": [
      "encut (eV) | dE (meV/atom) | if converged?\n",
      "----------------------------------------\n",
      "      250         105.365     0\n",
      "      300           0.167     1\n",
      "      350           6.175     0\n",
      "      400           1.049     1\n",
      "      450           0.673     1\n",
      "      500           0.324     1\n",
      "      550           0.109     1\n",
      "      600           0.000     1\n"
     ]
    }
   ],
   "source": [
    "# encut convergence\n",
    "encuts = [250,300,350,400,450,500,550,600]\n",
    "energies = []\n",
    "\n",
    "for encut in encuts:\n",
    "    \n",
    "    # dir-name for this encut calculation\n",
    "    path = 'encut/%d' % (encut)\n",
    "    \n",
    "    # set basic calculator\n",
    "    calc = ase.calculators.vasp.Vasp(\n",
    "            xc=\"pbe\",\n",
    "            kpts=[8,8,8],\n",
    "            encut=encut,\n",
    "            ediff=1e-5,\n",
    "            ismear=0,\n",
    "            sigma=0.05,\n",
    "            lwave=False,            \n",
    "            )\n",
    "    \n",
    "    atoms.set_calculator(calc)\n",
    "    energy = mywrapper.get_energy(atoms, dir=path)\n",
    "    energies.append(energy)\n",
    "    \n",
    "    \n",
    "plt.figure(1)\n",
    "plt.semilogx(encuts, energies, 'ro-')\n",
    "plt.xlabel('Planewave Energy Cutoff (eV)')\n",
    "plt.ylabel('Total Energy (eV)')\n",
    "plt.title('encut-convergence')\n",
    "plt.show()\n",
    "\n",
    "# convert energies to meV/atom\n",
    "natom = len(atoms.get_positions())\n",
    "energies = abs(1000*(np.array(energies) - energies[-1])/natom)\n",
    "print(\"encut (eV) | dE (meV/atom) | if converged?\")\n",
    "print('-'*40)\n",
    "for encut,e in zip(encuts, energies):\n",
    "    print('%9d %15.3f %5d' % (encut, e, e<2))"
   ]
  },
  {
   "cell_type": "code",
   "execution_count": 7,
   "metadata": {},
   "outputs": [
    {
     "data": {
      "image/png": "[encoded data removed]",
      "text/plain": [
       "<Figure size 432x288 with 1 Axes>"
      ]
     },
     "metadata": {
      "needs_background": "light"
     },
     "output_type": "display_data"
    },
    {
     "name": "stdout",
     "output_type": "stream",
     "text": [
      "sigma (eV) | dE (meV/atom) | if converged?\n",
      "----------------------------------------\n",
      "    0.500           0.146     1\n",
      "    0.200           0.274     1\n",
      "    0.100           0.271     1\n",
      "    0.050           0.194     1\n",
      "    0.001           0.000     1\n"
     ]
    }
   ],
   "source": [
    "# sigma convergence\n",
    "sigmas = [0.5, 0.2, 0.1, 0.05, 0.001]\n",
    "energies = []\n",
    "\n",
    "for sigma in sigmas:\n",
    "    \n",
    "    # dir-name for this kpt calculation\n",
    "    path = 'sigma/%d' % (int(1000*sigma))\n",
    "    \n",
    "    # set basic calculator\n",
    "    calc = ase.calculators.vasp.Vasp(\n",
    "            xc=\"pbe\",\n",
    "            kpts=[8,8,8],\n",
    "            encut=400,\n",
    "            ediff=1e-5,\n",
    "            ismear=0,\n",
    "            sigma=sigma,\n",
    "            lwave=False,            \n",
    "            )\n",
    "    \n",
    "    atoms.set_calculator(calc)\n",
    "    energy = mywrapper.get_energy(atoms, dir=path)\n",
    "    energies.append(energy)\n",
    "    \n",
    "plt.figure(2)\n",
    "plt.semilogx(sigmas, energies, 'ro-')\n",
    "plt.xlabel('sigma (eV)')\n",
    "plt.ylabel('Total Energy (eV)')\n",
    "plt.title('sigma-convergence')\n",
    "plt.show()    \n",
    "\n",
    "# convert energies to meV/atom\n",
    "natom = len(atoms.get_positions())\n",
    "energies = abs(1000* (np.array(energies) - energies[-1])/natom)\n",
    "print(\"sigma (eV) | dE (meV/atom) | if converged?\")\n",
    "print('-'*40)\n",
    "for sigma,e in zip(sigmas, energies):\n",
    "    print('%9.3f %15.3f %5d' % (sigma, e, e<2))"
   ]
  },
  {
   "cell_type": "code",
   "execution_count": 8,
   "metadata": {
    "scrolled": false
   },
   "outputs": [
    {
     "name": "stdout",
     "output_type": "stream",
     "text": [
      "8\n"
     ]
    },
    {
     "data": {
      "image/png": "[encoded data removed]",
      "text/plain": [
       "<Figure size 432x288 with 1 Axes>"
      ]
     },
     "metadata": {
      "needs_background": "light"
     },
     "output_type": "display_data"
    },
    {
     "name": "stdout",
     "output_type": "stream",
     "text": [
      "kpt | dE (meV/atom) | if converged?\n",
      "----------------------------------------\n",
      "   2          61.901     0\n",
      "   4           1.702     1\n",
      "   6           1.013     1\n",
      "   8           0.810     1\n",
      "  10           0.000     1\n"
     ]
    }
   ],
   "source": [
    "#---- kgrid and number of atoms --------------------------------\n",
    "# check computational time for the primitive vs supercell case!\n",
    "\n",
    "# get atoms object [Si unitcell]\n",
    "atoms = ase.io.read('primitive.cif')\n",
    "atoms *= (2,2,2)\n",
    "print(len(atoms.get_positions()))\n",
    "\n",
    "# kpts convergence\n",
    "kpts = [2,4,6,8,10]\n",
    "energies = []\n",
    "\n",
    "for kpt in kpts:\n",
    "    \n",
    "    # dir-name for this kpt calculation\n",
    "    path = 'kgrid_super/%d' % (kpt)\n",
    "    \n",
    "    # set basic calculator\n",
    "    calc = ase.calculators.vasp.Vasp(\n",
    "            xc=\"pbe\",\n",
    "            kpts=[kpt,kpt,kpt],\n",
    "            encut=400,\n",
    "            ediff=1e-5,\n",
    "            ismear=0,\n",
    "            sigma=0.05,\n",
    "            lwave=False,            \n",
    "            )\n",
    "    \n",
    "    atoms.set_calculator(calc)\n",
    "    energy = mywrapper.get_energy(atoms, dir=path)\n",
    "    energies.append(energy)\n",
    "\n",
    "plt.figure(3)\n",
    "plt.plot(kpts, energies, 'ro-')\n",
    "plt.xlabel('Number of k-points in each dimension')\n",
    "plt.ylabel('Total Energy (eV)')\n",
    "plt.title('kgrid-convergence')\n",
    "plt.show()\n",
    "\n",
    "# energies in meV/atom\n",
    "natom = len(atoms.get_positions())\n",
    "energies = abs(1000*(np.array(energies) - energies[-1])/natom)\n",
    "print(\"kpt | dE (meV/atom) | if converged?\")\n",
    "print('-'*40)\n",
    "for kpt,e in zip(kpts, energies):\n",
    "     print('%4d %15.3f %5d' % (kpt, e, e<2))"
   ]
  },
  {
   "cell_type": "code",
   "execution_count": null,
   "metadata": {},
   "outputs": [],
   "source": [
    "computational Cost = natom^4 nkpts^2"
   ]
  },
  {
   "cell_type": "code",
   "execution_count": 9,
   "metadata": {},
   "outputs": [
    {
     "data": {
      "image/png": "[encoded data removed]",
      "text/plain": [
       "<Figure size 432x288 with 1 Axes>"
      ]
     },
     "metadata": {
      "needs_background": "light"
     },
     "output_type": "display_data"
    },
    {
     "name": "stdout",
     "output_type": "stream",
     "text": [
      "encut (eV) | dE (meV/atom) | if converged?\n",
      "----------------------------------------\n",
      "      250         105.366     0\n",
      "      275          29.413     0\n",
      "      300           0.167     1\n",
      "      325           6.552     0\n",
      "      350           6.175     0\n",
      "      375           3.426     0\n",
      "      400           1.049     1\n",
      "      425           0.608     1\n",
      "      450           0.673     1\n",
      "      475           0.612     1\n",
      "      500           0.324     1\n",
      "      525           0.020     1\n",
      "      550           0.099     1\n",
      "      575           0.095     1\n",
      "      600           0.000     1\n"
     ]
    }
   ],
   "source": [
    "# encut convergence on supercell -> any effect?\n",
    "\n",
    "encuts = [250,275, 300,325, 350,375, 400,425, 450,475, 500,525, 550, 575, 600]\n",
    "energies = []\n",
    "\n",
    "for encut in encuts:\n",
    "    \n",
    "    # dir-name for this kpt calculation\n",
    "    path = 'encut_super/%d' % (encut)\n",
    "    \n",
    "    # set basic calculator\n",
    "    calc = ase.calculators.vasp.Vasp(\n",
    "            xc=\"pbe\",\n",
    "            kpts=[4,4,4],\n",
    "            encut=encut,\n",
    "            ediff=1e-5,\n",
    "            ismear=0,\n",
    "            sigma=0.05,\n",
    "            lwave=False,            \n",
    "            )\n",
    "    \n",
    "    atoms.set_calculator(calc)\n",
    "    energy = mywrapper.get_energy(atoms, dir=path)\n",
    "    energies.append(energy)\n",
    "    \n",
    "    \n",
    "plt.figure(4)\n",
    "plt.semilogx(encuts, energies, 'ro-')\n",
    "plt.xlabel('Planewave Energy Cutoff (eV)')\n",
    "plt.ylabel('Total Energy (eV)')\n",
    "plt.title('encut-convergence')\n",
    "plt.show()\n",
    "\n",
    "# energies in meV/atom\n",
    "natom = len(atoms.get_positions())\n",
    "energies = abs(1000*(np.array(energies) - energies[-1])/natom)\n",
    "print(\"encut (eV) | dE (meV/atom) | if converged?\")\n",
    "print('-'*40)\n",
    "for encut,e in zip(encuts, energies):\n",
    "     print('%9d %15.3f %5d' % (encut, e, e<2))"
   ]
  },
  {
   "cell_type": "code",
   "execution_count": null,
   "metadata": {},
   "outputs": [],
   "source": []
  }
 ],
 "metadata": {
  "kernelspec": {
   "display_name": "Python 3",
   "language": "python",
   "name": "python3"
  },
  "language_info": {
   "codemirror_mode": {
    "name": "ipython",
    "version": 3
   },
   "file_extension": ".py",
   "mimetype": "text/x-python",
   "name": "python",
   "nbconvert_exporter": "python",
   "pygments_lexer": "ipython3",
   "version": "3.6.8"
  }
 },
 "nbformat": 4,
 "nbformat_minor": 2
}

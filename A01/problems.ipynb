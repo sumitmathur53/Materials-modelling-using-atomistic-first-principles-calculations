{
 "cells": [
  {
   "cell_type": "code",
   "execution_count": 51,
   "metadata": {},
   "outputs": [],
   "source": [
    "# import ase modules\n",
    "import ase\n",
    "import ase.io\n",
    "import ase.build\n",
    "import ase.visualize\n",
    "\n",
    "# import numpy and other modules\n",
    "import os\n",
    "import numpy as np"
   ]
  },
  {
   "cell_type": "raw",
   "metadata": {},
   "source": [
    "Activity 1 [structures from scratch]: \n",
    "\n",
    "Quite often it is required that we are working on a new/hypotheical material for which the structure-file is not available from any of the material-databases and/or experiments. In such, we can use ASE to help in building a structure from scratch. \n",
    "\n",
    "Assuming that PbTiO3 is one such material for which we know the direct coordinates of atoms inside the unitcell, but we do now have structure-file available from any material database. Your objective is to use ASE to build the atomic-object with PbTiO3 structure and save the atomic-object as a POSCAR file. The atomic positions of atoms for PbTiO3 are:\n",
    "- cubic lattice with lattice-constant: 5 Angstrom\n",
    "- direct/fractional/reduced/scaled coordintes of atoms:\n",
    "     Pb at (0.5,0.5,0.5)\n",
    "     O at (0.5,0.5,0.0), (0.0,0.5,0.5), (0.5,0.0,0.5)\n",
    "     Ti at (0.0,0.0,0.0)\n",
    "save the final atomic object as a POSCAR format in a file named 'PbTiO3_POSCAR'     "
   ]
  },
  {
   "cell_type": "code",
   "execution_count": 46,
   "metadata": {},
   "outputs": [
    {
     "data": {
      "text/plain": [
       "<Popen: returncode: None args: ['c:\\\\Users\\\\skraw\\\\AppData\\\\Local\\\\Programs\\...>"
      ]
     },
     "execution_count": 46,
     "metadata": {},
     "output_type": "execute_result"
    }
   ],
   "source": [
    "\n",
    "Pb = ase.Atom(position=(0.5,0.5,0.5), symbol='Pb')\n",
    "O1 = ase.Atom(position=(0.5,0.5,0.0), symbol='O')\n",
    "O2 = ase.Atom(position=(0.0,0.5,0.5), symbol='O')\n",
    "O3 = ase.Atom(position=(0.5,0.0,0.5), symbol='O')\n",
    "Ti = ase.Atom(position=(0.0,0.0,0.0), symbol='Ti')\n",
    "\n",
    "atoms = ase.Atoms((Pb,O1,O2,O3,Ti), cell=[1.0,1.0,1.0])\n",
    "cell = atoms.get_cell()\n",
    "\n",
    "cell *= 5.0\n",
    "\n",
    "atoms.set_cell(cell,scale_atoms = True)\n",
    "ase.visualize.view(atoms)\n",
    "\n"
   ]
  },
  {
   "cell_type": "code",
   "execution_count": 47,
   "metadata": {},
   "outputs": [],
   "source": [
    "positions = {'Pb': (0.5, 0.5, 0.5),\n",
    "             'O1': (0.5, 0.5, 0.0),\n",
    "             'O2': (0.0, 0.5, 0.5),\n",
    "             'O3': (0.5, 0.0, 0.5),\n",
    "             'Ti': (0.0, 0.0, 0.0)}\n",
    "\n",
    "# Create Atoms object\n",
    "atoms = ase.Atoms(symbols=['Pb', 'O', 'O', 'O', 'Ti'],\n",
    "              scaled_positions=[positions['Pb'],\n",
    "                         positions['O1'],\n",
    "                         positions['O2'],\n",
    "                         positions['O3'],\n",
    "                         positions['Ti']],\n",
    "              cell=[5, 5, 5])\n",
    "\n",
    "cell = atoms.get_cell()\n",
    "atoms.set_cell(cell,scale_atoms = True)\n",
    "\n",
    "cell *= 5.0\n",
    "\n",
    "# Save Atoms object as POSCAR file\n",
    "ase.visualize.view(atoms)\n",
    "\n",
    "ase.io.write('pb_poscar',atoms,format=\"vasp\")"
   ]
  },
  {
   "cell_type": "raw",
   "metadata": {},
   "source": [
    "Activity 2 [super-lattices]:\n",
    "    \n",
    "Many interesting properties arise when we stack multiple materials together. These stackings are called 'superlattices'. \n",
    "\n",
    "In one-dimensional space, let say if I have a material with unitcell A and another material with untiecell B, then ABABABAB..., AABAAB..., AABBAABB..., AAABB, are all examples of superlattices. \n",
    "\n",
    "In two dimensions AABB would look something like:\n",
    "..........\n",
    "...AABB...\n",
    "...AABB...\n",
    "...AABB...\n",
    "...AABB...\n",
    "..........\n",
    "so only in one of the two-directions we have stacing. Similarly we can think of stacking in three-dimensions as a plane of one-material followed by a plane of another material and so on.\n",
    "\n",
    "In this activity, we would like to create one such superlattice of 2-unitcell-thick-PbTiO3 and 3-unitcell-thick-SrTiO3. We will have superlattice oriented along the z-direction, i.e., if we go along z direction we will see 2 unitcells of PbTiO3 and then 3 unitcells of SrTiO3 and then 2 unitcells of PbTiO3 and so on. But in the x and y directions, if we start with PbTiO3 then it would only be PbTiO3 and so on.\n",
    "\n",
    "The bulk files of PbTiO3 and SrTiO3 are provided as PbTiO3_POSCAR and SrTiO3_POSCAR.\n",
    "save the atomic object as a POSCAR format in a file named 'superlattice_POSCAR'"
   ]
  },
  {
   "cell_type": "code",
   "execution_count": 54,
   "metadata": {},
   "outputs": [],
   "source": [
    "positions = {'Sr': (0.5, 0.5, 0.5),\n",
    "             'O1': (0.5, 0.5, 0.0),\n",
    "             'O2': (0.0, 0.5, 0.5),\n",
    "             'O3': (0.5, 0.0, 0.5),\n",
    "             'Ti': (0.0, 0.0, 0.0)}\n",
    "\n",
    "# Create Atoms object\n",
    "atoms = ase.Atoms(symbols=['Sr', 'O', 'O', 'O', 'Ti'],\n",
    "              scaled_positions=[positions['Sr'],\n",
    "                         positions['O1'],\n",
    "                         positions['O2'],\n",
    "                         positions['O3'],\n",
    "                         positions['Ti']],\n",
    "              cell=[5, 5, 5])\n",
    "\n",
    "cell = atoms.get_cell()\n",
    "atoms.set_cell(cell,scale_atoms = True)\n",
    "\n",
    "\n",
    "# Save Atoms object as POSCAR file\n",
    "ase.visualize.view(atoms)\n",
    "\n",
    "ase.io.write('sr_poscar',atoms,format=\"vasp\")"
   ]
  },
  {
   "cell_type": "raw",
   "metadata": {},
   "source": [
    "Activity 3 [Vacancy defects]:\n",
    "    \n",
    "Defects are defined as deviations of atoms from otherwise periodic arrangement in solids. Defects play a major role in determing the material properties for many applications, such as in photovoltaics, light-emmision, etc. Some of the simple defects are: vacancy [atom missing from its normal positions], antisite [two-atoms switch their positions], and substitution [one two is changed by atom of other kind].\n",
    "\n",
    "In this activity we will use ASE to create a structure with one such defect. Remember that all the calculations that we will do with DFT will be periodic, i.e., even though we will use only one unitcell to calculate properties, the preoperties will correspond to as if infinite periodic arrangement of atoms are simulated. So if we want to have a defect (typically defects have very small concentrations like, 1 in 1000), we need to make a large supercell so that defect will not interact with its periodic image.\n",
    "\n",
    "Start with 'PbTiO3_POSCAR' file which is a unit cell of PbTiO3. Make a supercell of size 4x4x4 of PbTiO3 using ASE. Look into ASE documentation for use of 'del' function and use it to delete one randomly selected Pb atom  [check numpy for getting integer in a range] to have a Pb-vacancy defect.\n",
    "\n",
    "save the atomic object as a POSCAR format in a file named 'vacancy_POSCAR'"
   ]
  },
  {
   "cell_type": "code",
   "execution_count": 50,
   "metadata": {},
   "outputs": [],
   "source": [
    "# Load bulk structures of PbTiO3 and SrTiO3\n",
    "pbtio3 = ase.io.read('pb_poscar')\n",
    "srtio3 = ase.io.read('sr_poscar')\n",
    "cell = pbtio3.get_cell()\n",
    "z_pbtio3 = cell[2][2]\n",
    "\n",
    "# Repeat the unit cells to desired thickness\n",
    "pbtio3_repeated = pbtio3.repeat((1, 1, 2))\n",
    "srtio3.translate((0,0,2*z_pbtio3))  # 2 unit cells along the z-direction\n",
    "srtio3_repeated = srtio3.repeat((1, 1, 3))  # 3 unit cells along the z-direction\n",
    "\n",
    "# Combine the two structures along the z-direction\n",
    "superlattice = pbtio3_repeated + srtio3_repeated\n",
    "\n",
    "ase.visualize.view(superlattice)\n",
    "\n",
    "\n",
    "ase.io.write('superlattice_POSCAR', superlattice, format='vasp')"
   ]
  },
  {
   "cell_type": "raw",
   "metadata": {},
   "source": [
    "Activity 4 [antisite defects]:\n",
    "\n",
    "Defects are defined as deviations of atoms from otherwise periodic arrangement in solids. Defects play a major role in determing the material properties for many applications, such as in photovoltaics, light-emmision, etc. Some of the simple defects are: vacancy [atom missing from its normal positions], antisite [two-atoms switch their positions], and substitution [one two is changed by atom of other kind].\n",
    "\n",
    "In this activity we will use ASE to create a structure with one such defect. Remember that all the calculations that we will do with DFT will be periodic, i.e., even though we will use only one unitcell to calculate properties, the preoperties will correspond to as if infinite periodic arrangement of atoms are simulated. So if we want to have a defect (typically defects have very small concentrations like, 1 in 1000), we need to make a large supercell so that defect will not interact with its periodic image.\n",
    "\n",
    "Start with 'PbTiO3_POSCAR' file which is a unit cell of PbTiO3. Make a supercell of size 4x4x4 of PbTiO3 using ASE. Pick any random Pb atom [check numpy for getting integer in a range] and it neighboring Ti atom. Replace the position of these atoms to create an antisite Pb-Ti defect. \n",
    "\n",
    "NOTE that due to periodic boundary conditions, the neighbor Ti of Pb could be on the other-size of the simulation cell! To avoid this complexity, we should select the Pb atom which is not at the boundary of the cell!\n",
    "\n",
    "save the atomic object as a POSCAR format in a file named 'antisite_POSCAR'"
   ]
  },
  {
   "cell_type": "code",
   "execution_count": 55,
   "metadata": {},
   "outputs": [
    {
     "ename": "IndexError",
     "evalue": "list index out of range",
     "output_type": "error",
     "traceback": [
      "\u001b[1;31m---------------------------------------------------------------------------\u001b[0m",
      "\u001b[1;31mIndexError\u001b[0m                                Traceback (most recent call last)",
      "Cell \u001b[1;32mIn[55], line 11\u001b[0m\n\u001b[0;32m      9\u001b[0m \u001b[38;5;66;03m# Choose a random Pb atom and its neighboring Ti atom\u001b[39;00m\n\u001b[0;32m     10\u001b[0m random_pb_atom \u001b[38;5;241m=\u001b[39m np\u001b[38;5;241m.\u001b[39mrandom\u001b[38;5;241m.\u001b[39mchoice(non_boundary_pb_atoms)\n\u001b[1;32m---> 11\u001b[0m neighbor_ti_atom \u001b[38;5;241m=\u001b[39m \u001b[43m[\u001b[49m\u001b[43matom\u001b[49m\u001b[43m \u001b[49m\u001b[38;5;28;43;01mfor\u001b[39;49;00m\u001b[43m \u001b[49m\u001b[43matom\u001b[49m\u001b[43m \u001b[49m\u001b[38;5;129;43;01min\u001b[39;49;00m\u001b[43m \u001b[49m\u001b[43mpbtio3_supercell\u001b[49m\u001b[43m \u001b[49m\u001b[38;5;28;43;01mif\u001b[39;49;00m\u001b[43m \u001b[49m\u001b[43mnp\u001b[49m\u001b[38;5;241;43m.\u001b[39;49m\u001b[43mlinalg\u001b[49m\u001b[38;5;241;43m.\u001b[39;49m\u001b[43mnorm\u001b[49m\u001b[43m(\u001b[49m\u001b[43matom\u001b[49m\u001b[38;5;241;43m.\u001b[39;49m\u001b[43mposition\u001b[49m\u001b[43m \u001b[49m\u001b[38;5;241;43m-\u001b[39;49m\u001b[43m \u001b[49m\u001b[43mrandom_pb_atom\u001b[49m\u001b[38;5;241;43m.\u001b[39;49m\u001b[43mposition\u001b[49m\u001b[43m)\u001b[49m\u001b[43m \u001b[49m\u001b[38;5;241;43m<\u001b[39;49m\u001b[43m \u001b[49m\u001b[38;5;241;43m1.2\u001b[39;49m\u001b[43m \u001b[49m\u001b[38;5;129;43;01mand\u001b[39;49;00m\u001b[43m \u001b[49m\u001b[43matom\u001b[49m\u001b[38;5;241;43m.\u001b[39;49m\u001b[43msymbol\u001b[49m\u001b[43m \u001b[49m\u001b[38;5;241;43m==\u001b[39;49m\u001b[43m \u001b[49m\u001b[38;5;124;43m'\u001b[39;49m\u001b[38;5;124;43mTi\u001b[39;49m\u001b[38;5;124;43m'\u001b[39;49m\u001b[43m]\u001b[49m\u001b[43m[\u001b[49m\u001b[38;5;241;43m0\u001b[39;49m\u001b[43m]\u001b[49m\n\u001b[0;32m     13\u001b[0m \u001b[38;5;66;03m# Swap positions to create an antisite Pb-Ti defect\u001b[39;00m\n\u001b[0;32m     14\u001b[0m random_pb_atom\u001b[38;5;241m.\u001b[39msymbol, neighbor_ti_atom\u001b[38;5;241m.\u001b[39msymbol \u001b[38;5;241m=\u001b[39m neighbor_ti_atom\u001b[38;5;241m.\u001b[39msymbol, random_pb_atom\u001b[38;5;241m.\u001b[39msymbol\n",
      "\u001b[1;31mIndexError\u001b[0m: list index out of range"
     ]
    }
   ],
   "source": [
    "pbtio3_unit_cell = ase.io.read('superlattice_POSCAR')\n",
    "\n",
    "# Create a 4x4x4 supercell of PbTiO3\n",
    "pbtio3_supercell = pbtio3_unit_cell.repeat((4, 4, 4))\n",
    "\n",
    "# Get the list of Pb atoms that are not on the boundary\n",
    "non_boundary_pb_atoms = [atom for atom in pbtio3_supercell if not any([np.isclose(atom.position[i], 0.0) or np.isclose(atom.position[i], pbtio3_supercell.cell[i, i]) for i in range(3)])]\n",
    "\n",
    "# Choose a random Pb atom and its neighboring Ti atom\n",
    "random_pb_atom = np.random.choice(non_boundary_pb_atoms)\n",
    "neighbor_ti_atom = [atom for atom in pbtio3_supercell if np.linalg.norm(atom.position - random_pb_atom.position) < 1.2 and atom.symbol == 'Ti'][0]\n",
    "\n",
    "# Swap positions to create an antisite Pb-Ti defect\n",
    "random_pb_atom.symbol, neighbor_ti_atom.symbol = neighbor_ti_atom.symbol, random_pb_atom.symbol\n",
    "\n",
    "# Save the structure with the antisite defect as a POSCAR file\n",
    "ase.visualize.view(pbtio3_supercell)"
   ]
  },
  {
   "cell_type": "code",
   "execution_count": null,
   "metadata": {},
   "outputs": [],
   "source": []
  }
 ],
 "metadata": {
  "kernelspec": {
   "display_name": "Python 3",
   "language": "python",
   "name": "python3"
  },
  "language_info": {
   "codemirror_mode": {
    "name": "ipython",
    "version": 3
   },
   "file_extension": ".py",
   "mimetype": "text/x-python",
   "name": "python",
   "nbconvert_exporter": "python",
   "pygments_lexer": "ipython3",
   "version": "3.12.1"
  }
 },
 "nbformat": 4,
 "nbformat_minor": 2
}

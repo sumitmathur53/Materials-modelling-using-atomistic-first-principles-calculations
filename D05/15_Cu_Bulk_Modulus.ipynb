{
 "cells": [
  {
   "cell_type": "markdown",
   "metadata": {},
   "source": [
    "## In this activity, our objective is to calculate the Bulk-Modulus of FCC-Cu using different XC-functionals. \n",
    "\n",
    "We will start with a FCC-conventional unitcell of Copper consisting of four atoms in the unitcell. \n",
    "\n",
    "#### Simulation Parameters: \n",
    "- SCF Convergence Threshold: 0.01 meV.\n",
    "- All other parameters should be decided by teams as per convergence requirement of 2 meV/atom. \n",
    "- XC functionals to be tested: `PBE` and `LDA`\n",
    "\n",
    "Tasks:\n",
    "- [Generate Unitcell](#generate_unitcell)\n",
    "- [PBE-kgrid Convergence](#pbe_kgrid)\n",
    "- [PBE-encut Convergence](#pbe_encut)\n",
    "- [PBE-sigma Convergence](#pbe_sigma)\n",
    "- [PBE Energies vs alat](#pbe_alat)\n",
    "- [PBE Bulk Modulus](#pbe_modulus)\n",
    "- [LDA-kgrid Convergence](#lda_kgrid)\n",
    "- [LDA-encut Convergence](#lda_encut)\n",
    "- [LDA-sigma Convergence](#lda_sigma)\n",
    "- [LDA Energies vs alat](#lda_alat)\n",
    "- [LDA Bulk Modulus](#lda_modulus)\n",
    "\n"
   ]
  },
  {
   "cell_type": "code",
   "execution_count": 47,
   "metadata": {},
   "outputs": [],
   "source": [
    "!/opt/pbs/bin/qstat "
   ]
  },
  {
   "cell_type": "code",
   "execution_count": 48,
   "metadata": {},
   "outputs": [],
   "source": [
    "alias qstat /opt/pbs/bin/qstat "
   ]
  },
  {
   "cell_type": "code",
   "execution_count": 49,
   "metadata": {},
   "outputs": [],
   "source": [
    "qstat"
   ]
  },
  {
   "cell_type": "code",
   "execution_count": 11,
   "metadata": {},
   "outputs": [],
   "source": [
    "# load all required modules\n",
    "\n",
    "import os, sys\n",
    "import ase\n",
    "import ase.calculators.vasp\n",
    "import ase.io \n",
    "import ase.units\n",
    "import ase.eos\n",
    "import ase.visualize\n",
    "import matplotlib\n",
    "from matplotlib import pyplot as plt\n",
    "import numpy as np\n",
    "import mywrapper\n",
    "\n",
    "import ase.build\n",
    "import ase.visualize\n",
    "import matplotlib.pyplot as plt"
   ]
  },
  {
   "cell_type": "markdown",
   "metadata": {},
   "source": [
    "<a id='generate_unitcell'></a>\n",
    "### Generate Unitcell"
   ]
  },
  {
   "cell_type": "code",
   "execution_count": 18,
   "metadata": {},
   "outputs": [],
   "source": [
    "# Write a function to generate Cu FCC-unitcell with a given lattice constant\n",
    "def generate_unitcell(a):\n",
    "    '''\n",
    "    Given a lattice constant (a), generate a conventioanl FCC unitcell of Cu\n",
    "    '''\n",
    "    # write your code here\n",
    "    atoms = ase.build.bulk('Cu', 'fcc', a, cubic=True)\n",
    "    \n",
    "    return atoms"
   ]
  },
  {
   "cell_type": "code",
   "execution_count": 20,
   "metadata": {},
   "outputs": [],
   "source": [
    "atoms=generate_unitcell(3.6)\n",
    "\n",
    "ase.visualize.view(atoms)"
   ]
  },
  {
   "cell_type": "code",
   "execution_count": 50,
   "metadata": {},
   "outputs": [],
   "source": [
    "qstat"
   ]
  },
  {
   "cell_type": "markdown",
   "metadata": {},
   "source": [
    "#### For all convergence studies, use lattice-constant value of 3.6 Angstrom, Encut of 350 eV, K-grid of $8\\times8\\times8$ and sigma 0.05 eV."
   ]
  },
  {
   "cell_type": "markdown",
   "metadata": {},
   "source": [
    "## PBE Calculations first"
   ]
  },
  {
   "cell_type": "markdown",
   "metadata": {},
   "source": [
    "<a id='pbe_kgrid'></a>\n",
    "### PBE-Kgrid Convergence"
   ]
  },
  {
   "cell_type": "code",
   "execution_count": 24,
   "metadata": {},
   "outputs": [
    {
     "data": {
      "image/png": "[encoded data removed]",
      "text/plain": [
       "<Figure size 432x288 with 1 Axes>"
      ]
     },
     "metadata": {
      "needs_background": "light"
     },
     "output_type": "display_data"
    },
    {
     "name": "stdout",
     "output_type": "stream",
     "text": [
      "kpt | dE (meV/atom) | if converged?\n",
      "----------------------------------------\n",
      "  4          65.647     0\n",
      "  6          12.898     0\n",
      "  8           1.096     1\n",
      " 10           0.956     1\n",
      " 12           0.000     1\n"
     ]
    }
   ],
   "source": [
    "XC = 'PBE'\n",
    "encut = 350\n",
    "sigma = 0.05\n",
    "alat = 3.6\n",
    "\n",
    "kpts = [4,6,8,10,12]\n",
    "energies = []\n",
    "\n",
    "for kpt in kpts:\n",
    "    path = \"%s/kgrid/%d\" % (XC, kpt)\n",
    "    \n",
    "    # write your code here\n",
    "    calc = ase.calculators.vasp.Vasp(\n",
    "            xc=\"pbe\",\n",
    "            kpts=[kpt,kpt,kpt],\n",
    "            encut=400,\n",
    "            ediff=1e-5,\n",
    "            ismear=0,\n",
    "            sigma=0.05,\n",
    "            lwave=False, \n",
    "            )\n",
    "    \n",
    "    atoms.set_calculator(calc)\n",
    "    energy = mywrapper.get_energy(atoms, dir=path)\n",
    "    energies.append(energy)\n",
    "    \n",
    "plt.figure(0)\n",
    "plt.plot(kpts, energies, 'ro-')\n",
    "plt.xlabel('Number of k-points in each dimension')\n",
    "plt.ylabel('Total Energy (eV)')\n",
    "plt.title('kgrid-convergence')\n",
    "plt.show()\n",
    "\n",
    "# convert energies to meV/atom\n",
    "natom = len(atoms.get_positions())\n",
    "energies = abs(1000*(np.array(energies) - energies[-1])/natom)\n",
    "print(\"kpt | dE (meV/atom) | if converged?\")\n",
    "print('-'*40)\n",
    "for kpt,e in zip(kpts, energies):\n",
    "    print('%3d %15.3f %5d' % (kpt, e, e<2))    "
   ]
  },
  {
   "cell_type": "code",
   "execution_count": 25,
   "metadata": {},
   "outputs": [],
   "source": [
    "qstat"
   ]
  },
  {
   "cell_type": "markdown",
   "metadata": {},
   "source": [
    "<a id='pbe_encut'></a>\n",
    "### PBE-Encut Convergence"
   ]
  },
  {
   "cell_type": "code",
   "execution_count": 36,
   "metadata": {},
   "outputs": [
    {
     "data": {
      "image/png": "[encoded data removed]",
      "text/plain": [
       "<Figure size 432x288 with 1 Axes>"
      ]
     },
     "metadata": {
      "needs_background": "light"
     },
     "output_type": "display_data"
    },
    {
     "name": "stdout",
     "output_type": "stream",
     "text": [
      "encut (eV) | dE (meV/atom) | if converged?\n",
      "----------------------------------------\n",
      "      250         110.655     0\n",
      "      300           1.305     1\n",
      "      350           7.309     0\n",
      "      400           1.679     1\n",
      "      450           0.639     1\n",
      "      500           0.190     1\n",
      "      550           0.108     1\n",
      "      600           0.000     1\n"
     ]
    }
   ],
   "source": [
    "XC = 'PBE'\n",
    "\n",
    "sigma = 0.05\n",
    "alat = 3.6\n",
    "\n",
    "encuts = [250,300,350,400,450,500,550,600]\n",
    "energies = []\n",
    "\n",
    "for encut in encuts:\n",
    "    \n",
    "    # dir-name for this encut calculation\n",
    "    path = 'encut/%d' % (encut)\n",
    "    \n",
    "    # set basic calculator\n",
    "    calc = ase.calculators.vasp.Vasp(\n",
    "            xc=\"pbe\",\n",
    "            kpts=[8,8,8],\n",
    "            encut=encut,\n",
    "            ediff=1e-5,\n",
    "            ismear=0,\n",
    "            sigma=0.05,\n",
    "            lwave=False,            \n",
    "            )\n",
    "    \n",
    "    atoms.set_calculator(calc)\n",
    "    energy = mywrapper.get_energy(atoms, dir=path)\n",
    "    energies.append(energy)\n",
    "    \n",
    "    \n",
    "plt.figure(1)\n",
    "plt.plot(encuts, energies, 'ro-')\n",
    "plt.xlabel('Planewave Energy Cutoff (eV)')\n",
    "plt.ylabel('Total Energy (eV)')\n",
    "plt.title('encut-convergence')\n",
    "plt.show()\n",
    "# convert energies to meV/atom\n",
    "natom = len(atoms.get_positions())\n",
    "energies = abs(1000*(np.array(energies) - energies[-1])/natom)\n",
    "print(\"encut (eV) | dE (meV/atom) | if converged?\")\n",
    "print('-'*40)\n",
    "for encut,e in zip(encuts, energies):\n",
    "    print('%9d %15.3f %5d' % (encut, e, e<2))\n"
   ]
  },
  {
   "cell_type": "code",
   "execution_count": 31,
   "metadata": {},
   "outputs": [
    {
     "name": "stdout",
     "output_type": "stream",
     "text": [
      "encut (eV) | dE (meV/atom) | if converged?\n",
      "----------------------------------------\n",
      "      250         110.655     0\n",
      "      300           1.305     1\n",
      "      350           7.309     0\n",
      "      400           1.679     1\n",
      "      450           0.639     1\n",
      "      500           0.190     1\n",
      "      550           0.108     1\n",
      "      600           0.000     1\n"
     ]
    }
   ],
   "source": []
  },
  {
   "cell_type": "markdown",
   "metadata": {},
   "source": [
    "<a id='pbe_sigma'></a>\n",
    "### PBE-Sigma Convergence"
   ]
  },
  {
   "cell_type": "code",
   "execution_count": 38,
   "metadata": {},
   "outputs": [
    {
     "data": {
      "image/png": "[encoded data removed]",
      "text/plain": [
       "<Figure size 432x288 with 1 Axes>"
      ]
     },
     "metadata": {
      "needs_background": "light"
     },
     "output_type": "display_data"
    },
    {
     "name": "stdout",
     "output_type": "stream",
     "text": [
      "sigma (eV) | dE (meV/atom) | if converged?\n",
      "----------------------------------------\n",
      "    0.100           0.280     1\n",
      "    0.050           0.201     1\n",
      "    0.010           0.037     1\n",
      "    0.005           0.017     1\n",
      "    0.001           0.000     1\n"
     ]
    }
   ],
   "source": [
    "XC = 'PBE'\n",
    "\n",
    " \n",
    "sigma = 0.05\n",
    "alat = 3.6\n",
    "\n",
    "sigmas = [0.100, 0.050, 0.010, 0.005, 0.001]\n",
    "energies = []\n",
    "\n",
    "# write your code here\n",
    "for sigma in sigmas:\n",
    "    \n",
    "    # dir-name for this kpt calculation\n",
    "    path = 'sigma/%d' % (int(1000*sigma))\n",
    "    \n",
    "    # set basic calculator\n",
    "    calc = ase.calculators.vasp.Vasp(\n",
    "            xc=\"pbe\",\n",
    "            kpts=[8,8,8],\n",
    "            encut=350,\n",
    "            ediff=1e-5,\n",
    "            ismear=0,\n",
    "            sigma=sigma,\n",
    "            lwave=False,            \n",
    "            )\n",
    "    \n",
    "    atoms.set_calculator(calc)\n",
    "    energy = mywrapper.get_energy(atoms, dir=path)\n",
    "    energies.append(energy)\n",
    "    \n",
    "plt.figure(2)\n",
    "plt.plot(sigmas, energies, 'ro-')\n",
    "plt.xlabel('sigma (eV)')\n",
    "plt.ylabel('Total Energy (eV)')\n",
    "plt.title('sigma-convergence')\n",
    "plt.show()    \n",
    "\n",
    "# convert energies to meV/atom\n",
    "natom = len(atoms.get_positions())\n",
    "energies = abs(1000* (np.array(energies) - energies[-1])/natom)\n",
    "print(\"sigma (eV) | dE (meV/atom) | if converged?\")\n",
    "print('-'*40)\n",
    "for sigma,e in zip(sigmas, energies):\n",
    "    print('%9.3f %15.3f %5d' % (sigma, e, e<2))"
   ]
  },
  {
   "cell_type": "markdown",
   "metadata": {},
   "source": [
    "<a id='pbe_alat'></a>\n",
    "### PBE: Relax the structure: Calculate energies for different lattice constants"
   ]
  },
  {
   "cell_type": "code",
   "execution_count": 66,
   "metadata": {},
   "outputs": [
    {
     "data": {
      "image/png": "[encoded data removed]",
      "text/plain": [
       "<Figure size 432x288 with 1 Axes>"
      ]
     },
     "metadata": {
      "needs_background": "light"
     },
     "output_type": "display_data"
    }
   ],
   "source": [
    "XC = 'PBE'\n",
    "kpt = [8,8,8]\n",
    "encut = 350\n",
    "sigma = .010\n",
    "\n",
    "alats = [3.6 + x/100.0 for x in range(-10,11)]\n",
    "energies = [] \n",
    "\n",
    "for a in alats:\n",
    "    \n",
    "    \n",
    "    atoms = generate_unitcell(a)\n",
    "    \n",
    "    \n",
    "    # dir-name for this kpt calculation\n",
    "    path = 'alat3/%d' % (int(1000*a))\n",
    "    \n",
    "    # set basic calculator\n",
    "    calc = ase.calculators.vasp.Vasp(\n",
    "            xc=\"pbe\",\n",
    "            kpts=kpt,\n",
    "            encut=350,\n",
    "            ediff=1e-5,\n",
    "            ismear=0,\n",
    "            sigma=sigma,\n",
    "            lwave=False,            \n",
    "            )\n",
    "    \n",
    "    atoms.set_calculator(calc)\n",
    "    energy = mywrapper.get_energy(atoms, dir=path)\n",
    "    energies.append(energy)\n",
    "    \n",
    "plt.figure(2)\n",
    "plt.plot(alats, energies, 'ro-')\n",
    "plt.xlabel('alat')\n",
    "plt.ylabel('Total Energy (eV)')\n",
    "plt.title('alat')\n",
    "plt.show()    \n",
    "# write your code here"
   ]
  },
  {
   "cell_type": "markdown",
   "metadata": {},
   "source": [
    "<a id='pbe_modulus'></a>\n",
    "### PBE: Use Energy vs alat to calculate the Bulk Modulus\n",
    "Use [`ase.eos.EquationOfState`](https://wiki.fysik.dtu.dk/ase/tutorials/eos/eos.html) to fit calculated `volumes` (from `alats`) and `energies` and finally to calculate the Bulk Modulus"
   ]
  },
  {
   "cell_type": "code",
   "execution_count": null,
   "metadata": {},
   "outputs": [],
   "source": [
    "z= np.polyfit(volume, energies, 3)\n",
    "\n",
    "p = np.poly1d(z)  # p is polynomial\n"
   ]
  },
  {
   "cell_type": "code",
   "execution_count": 78,
   "metadata": {},
   "outputs": [
    {
     "name": "stdout",
     "output_type": "stream",
     "text": [
      "           3             2\n",
      "-4.74e+86 x + 7.737e+58 x - 4.149e+30 x + 58.39\n",
      " \n",
      "-2.844e+87 x + 1.547e+59\n",
      "8.943735365251177e+29\n",
      "bulk_modulus   8.943735365251177e+20\n"
     ]
    }
   ],
   "source": [
    "alats = np.array(alats)\n",
    "\n",
    "vol = []\n",
    "for i in alats:\n",
    "    vol.append(i**3 *(1e-30))\n",
    "z= np.polyfit(vol, energies, 3)\n",
    "p = np.poly1d(z) \n",
    "print(p)\n",
    "\n",
    "a = np.polyder(p)\n",
    "a_a = np.polyder(a)\n",
    "print(a_a)\n",
    "\n",
    "index = np.argmin(energies)\n",
    "relaxed_vol = vol[index]\n",
    "\n",
    "bulk_bulk = a_a(relaxed_vol)\n",
    "print(bulk_bulk*relaxed_vol)\n",
    "bulk_modulus = relaxed_vol * bulk_bulk\n",
    "print(\"bulk_modulus  \", bulk_modulus * 1e-9)\n",
    "\n"
   ]
  },
  {
   "cell_type": "code",
   "execution_count": null,
   "metadata": {},
   "outputs": [],
   "source": [
    "# write your code here\n",
    "print(\"XC: %s | relaxed-alat: %5.3f (A) | Bulk-modulus: %5.3f GPa\" % (XC, a0, B/ase.units.GPa))"
   ]
  },
  {
   "cell_type": "markdown",
   "metadata": {},
   "source": [
    "# Repeat the process for LDA"
   ]
  },
  {
   "cell_type": "markdown",
   "metadata": {},
   "source": [
    "<a id='lda_kgrid'></a>\n",
    "### LDA: Kgrid"
   ]
  },
  {
   "cell_type": "code",
   "execution_count": null,
   "metadata": {},
   "outputs": [],
   "source": [
    "XC = 'LDA'\n",
    "encut = 350\n",
    "sigma = 0.05\n",
    "alat = 3.6\n",
    "\n",
    "kpts = [4,6,8,10,12]\n",
    "energies = []\n",
    "\n",
    "# write your code here"
   ]
  },
  {
   "cell_type": "markdown",
   "metadata": {},
   "source": [
    "<a id='lda_encut'></a>\n",
    "### LDA-Encut Convergence"
   ]
  },
  {
   "cell_type": "code",
   "execution_count": null,
   "metadata": {},
   "outputs": [],
   "source": [
    "XC = 'LDA'\n",
    "kpt = \n",
    "sigma = 0.05\n",
    "alat = 3.6\n",
    "\n",
    "encuts = [250,300,350,400,450,500,550,600]\n",
    "energies = []\n",
    "\n",
    "# write your code here"
   ]
  },
  {
   "cell_type": "markdown",
   "metadata": {},
   "source": [
    "<a id='lda_sigma'></a>\n",
    "### LDA-sigma convergence"
   ]
  },
  {
   "cell_type": "code",
   "execution_count": null,
   "metadata": {},
   "outputs": [],
   "source": [
    "XC = 'LDA'\n",
    "kpt = \n",
    "encut = \n",
    "sigma = 0.05\n",
    "alat = 3.6\n",
    "\n",
    "sigmas = [0.100, 0.050, 0.010, 0.005, 0.001]\n",
    "energies = []\n",
    "\n",
    "# write your code here"
   ]
  },
  {
   "cell_type": "markdown",
   "metadata": {},
   "source": [
    "<a id='lda_alat'></a>\n",
    "### LDA: Energies vs alat"
   ]
  },
  {
   "cell_type": "code",
   "execution_count": null,
   "metadata": {},
   "outputs": [],
   "source": [
    "XC = 'LDA'\n",
    "kpt = \n",
    "encut = \n",
    "sigma = \n",
    "\n",
    "alats = [3.5 + x/100.0 for x in range(-10,11)]\n",
    "energies = [] \n",
    "# write your code here"
   ]
  },
  {
   "cell_type": "markdown",
   "metadata": {},
   "source": [
    "<a id='lda_modulus'></a>\n",
    "### LDA: Bulk Modulus"
   ]
  },
  {
   "cell_type": "code",
   "execution_count": null,
   "metadata": {},
   "outputs": [],
   "source": [
    "# write your code here\n",
    "print(\"XC: %s | alat: %5.3f (A) | Bulk-modulus: %5.3f GPa\" % (XC, a0, B/ase.units.GPa))"
   ]
  },
  {
   "cell_type": "code",
   "execution_count": null,
   "metadata": {},
   "outputs": [],
   "source": []
  },
  {
   "cell_type": "code",
   "execution_count": null,
   "metadata": {},
   "outputs": [],
   "source": []
  },
  {
   "cell_type": "code",
   "execution_count": null,
   "metadata": {},
   "outputs": [],
   "source": []
  },
  {
   "cell_type": "code",
   "execution_count": null,
   "metadata": {},
   "outputs": [],
   "source": [
    "!/opt/pbs/bin/qstat "
   ]
  },
  {
   "cell_type": "code",
   "execution_count": null,
   "metadata": {},
   "outputs": [],
   "source": []
  }
 ],
 "metadata": {
  "kernelspec": {
   "display_name": "Python 3",
   "language": "python",
   "name": "python3"
  },
  "language_info": {
   "codemirror_mode": {
    "name": "ipython",
    "version": 3
   },
   "file_extension": ".py",
   "mimetype": "text/x-python",
   "name": "python",
   "nbconvert_exporter": "python",
   "pygments_lexer": "ipython3",
   "version": "3.6.8"
  }
 },
 "nbformat": 4,
 "nbformat_minor": 2
}

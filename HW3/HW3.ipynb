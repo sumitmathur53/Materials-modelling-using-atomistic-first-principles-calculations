{
 "cells": [
  {
   "cell_type": "markdown",
   "metadata": {},
   "source": [
    "# HW-3\n",
    "\n",
    "### General Instructions: \n",
    "- Due Date: Mon Mar 11, 5 PM \n",
    "- Submission: Please work on this Notebook and leave it in your account on the server. We have a crontab job which will copy your submission Notebook from your account at sharp 5 PM on Mon, Mar 11. Any changes made to Notebook after 5 PM, Mon, Mar 11 will not be reflected in the submitted assignment. DO NOT change the name or location of this file on the server.\n",
    "- __Plagiarism will not be tolerated in any form. Zero points will be awarded for the entire assignment in such cases__."
   ]
  },
  {
   "cell_type": "code",
   "execution_count": 1,
   "metadata": {},
   "outputs": [],
   "source": [
    "alias qstat /opt/pbs/bin/qstat -u $USER"
   ]
  },
  {
   "cell_type": "code",
   "execution_count": 2,
   "metadata": {},
   "outputs": [],
   "source": [
    "import os, sys\n",
    "import ase\n",
    "import ase.calculators.vasp\n",
    "import ase.io \n",
    "import ase.units\n",
    "import ase.eos\n",
    "from ase.visualize import view\n",
    "import matplotlib\n",
    "from matplotlib import pyplot as plt\n",
    "import numpy as np\n",
    "import mywrapper\n",
    "pwd = os.getcwd()"
   ]
  },
  {
   "cell_type": "markdown",
   "metadata": {},
   "source": [
    "### Pressure Driven Phase Transformation [80 points]\n",
    "\n",
    "TiO$_2$ exists in many different structural phases such as Rutile, Anatase, Brookite, Hollandite, etc. Amongst others, the stability of these phases depends on the pressure and conditions. \n",
    "\n",
    "In this question, you are going to investigate the pressure driven phase change between Anatase and Rutile phases of TiO$_2$. \n",
    "\n",
    "One can determine pressure-driven phase transition by comparing enthalpies, `H`, of two phases. Enthalpy is defined as `H = E + PV`, where E is the internal/potential energy, and P, V are pressure and volume respectively.  The pressure is defined as $$P = -\\frac{dE}{dV}$$ at const $T$ and enthalpy, $H$ is $$H = E + PV$$\n",
    "\n",
    "You have to carry out the following steps:\n",
    "- [10 points] Write a function capable of calculating enthalpies and pressure given internal-energies and volumes\n",
    "- [26 points] Anatase-Phase\n",
    "  - [4 points] kgrid convergence [be sure that simulation cell size is/could be different in different directions]\n",
    "  - [2 points] encut convergence\n",
    "  - [2 points] sigma convergence\n",
    "  - [6 points] structure relaxation using ISIF=3 \n",
    "  - [12 points] Calculate enthalpy of Anatase phase as a function of pressure. For this you have to isotropically change the cell-volume and do only internal degrees relaxation using ISIF=4\n",
    " \n",
    "- [26 points] Rutile-Phase\n",
    "  - [4 points] kgrid convergence \n",
    "  - [2 points] encut convergence\n",
    "  - [2 points] sigma convergence\n",
    "  - [6 points] structure relaxation using ISIF=3 \n",
    "  - [12 points] Calculate enthalpy of Rutile phase as a function of pressure. For this you have to isotropically change the cell-volume and do only internal degrees relaxation using ISIF=4\n",
    "  \n",
    "- [18 points] Plot enthalpies of Rutile and Anatase phases on the same plot and answer the following questions:\n",
    "  - [4 points] plot of Enthalpies with Pressure [in GPa] with proper title, units, legend, etc.\n",
    "  - [5 points] which phase is more stable at 0 Pressure?\n",
    "  - [9 points] At what pressure phase transition happens from one of these phases to other [in GPa]? You may have to zoom-in on the pressure-axis to figure this out!\n",
    "  \n",
    "__Notes:__  \n",
    "- __Use ediff of 1e-5 eV/atom in all calculations__\n",
    "- __Relax all structures to 1e-3 eV/atom in all calculations__\n",
    "- __Do convergence to within 1e-3 eV/atom for simulation parameters__"
   ]
  },
  {
   "cell_type": "markdown",
   "metadata": {},
   "source": [
    "### Global parameters"
   ]
  },
  {
   "cell_type": "code",
   "execution_count": 3,
   "metadata": {},
   "outputs": [],
   "source": [
    "ediff_natom = 1e-5\n",
    "ediffg_natom = 1e-3\n",
    "threshold_convergence_natom = 1e-3 "
   ]
  },
  {
   "cell_type": "markdown",
   "metadata": {},
   "source": [
    "### Function to calculate enthalpies and pressure given energies and volumes "
   ]
  },
  {
   "cell_type": "code",
   "execution_count": null,
   "metadata": {},
   "outputs": [],
   "source": [
    "def get_enthalpy_pressure(volumes, energies):\n",
    "    '''\n",
    "    Function takes list of volumes and list of energies as an input\n",
    "    Function returns corresponding list of enthalpies and pressures\n",
    "    '''\n",
    "    \n",
    "    enthalpies = []\n",
    "    pressures = []\n",
    "    for v,e in zip(volumes, energies):\n",
    "        \n",
    "        ...\n",
    "        \n",
    "        \n",
    "        enthalpy = \n",
    "        pressure = \n",
    "        enthalpies.append(enthalpy)\n",
    "        pressures.append(pressure)\n",
    "    \n",
    "    return enthalpies, pressures"
   ]
  },
  {
   "cell_type": "markdown",
   "metadata": {},
   "source": [
    "### Anatase"
   ]
  },
  {
   "cell_type": "code",
   "execution_count": null,
   "metadata": {},
   "outputs": [],
   "source": [
    "anatase = ase.io.read('anatase.cif')\n",
    "anatase_cell = anatase.get_cell()\n",
    "\n",
    "# calculate lattice-vector magnitudes in amag; needed for kgrid later\n",
    "#  amag[0] = sqrt(a1_x**2 + a1_y**2 + a1_z**2) and so on for amag[1] and amag[2]\n"
   ]
  },
  {
   "cell_type": "markdown",
   "metadata": {},
   "source": [
    "#### kgrid convergence"
   ]
  },
  {
   "cell_type": "code",
   "execution_count": null,
   "metadata": {},
   "outputs": [],
   "source": [
    "# make sure we are in the right path\n",
    "os.chdir(pwd)\n",
    "\n",
    "# normalize global variables by natom\n",
    "ediff = ediff_natom * len(anatase)\n",
    "ediffg = ediffg_natom * len(anatase)\n",
    "threshold_convergence = threshold_convergence_natom * len(anatase)\n",
    "\n",
    "# other simmulation parameetrs\n",
    "XC = 'pbe'\n",
    "encut = 350\n",
    "sigma = 0.05\n",
    "kpts = [4,6,8,10,12]     \n",
    "\n",
    "# note that ANatase cell is not cubic! As such, a1, a2, and a3 are not equal and we need \n",
    "# to be careful to use different number of kpts in b1, b2, and b3 directions, so that \n",
    "# eventually the spacing between kpts in the reciprocal space, i.e. \n",
    "# the product of (amag[i] * kpts[i]),  is same in all three\n",
    "# direction, where amag[i] is the length of lattice vector i and kpts[i] is the number of\n",
    "# kpts in the ith direction\n",
    "\n",
    "energies = []\n",
    "for kpt in kpts:\n",
    "    \n",
    "    # get kpts in three directions\n",
    "    kgrid = [kpt, int(round((kpt * anatase_amag[0])/anatase_amag[1])), \n",
    "                                int(round((kpt * anatase_amag[0])/anatase_amag[2]))]\n",
    "    \n",
    "    path = \"TiO2/Anatase/kgrid/%d\" % (kpt)\n",
    "    calc = ase.calculators.vasp.Vasp(\n",
    "            ...\n",
    "            )  \n",
    "\n",
    "    ...\n",
    "\n",
    "plt.figure(0)\n",
    "plt.plot(kpts, energies, 'ro-')\n",
    "plt.xlabel('Number of k-points in each dimension')\n",
    "plt.ylabel('Total Energy (eV)')\n",
    "plt.title('kgrid-convergence')\n",
    "plt.show()\n",
    "\n",
    "# check convergence\n",
    "energies = abs(np.array(energies) - energies[-1])\n",
    "print(\"kpt | dE (meV/atom) | if converged?\")\n",
    "print('-'*40)\n",
    "for kpt,e in zip(kpts, energies):\n",
    "    print('%3d %15.3f %5d' % (kpt, 1000*e, e<threshold_convergence)) "
   ]
  },
  {
   "cell_type": "markdown",
   "metadata": {},
   "source": [
    "#### encut convergence"
   ]
  },
  {
   "cell_type": "code",
   "execution_count": null,
   "metadata": {},
   "outputs": [],
   "source": [
    "# make sure we are in the right path\n",
    "os.chdir(pwd)\n",
    "\n",
    "encuts = [250,300,350,400,450,500,550,600]\n",
    "energies = []\n",
    "\n",
    "..."
   ]
  },
  {
   "cell_type": "markdown",
   "metadata": {},
   "source": [
    "#### sigma convergence"
   ]
  },
  {
   "cell_type": "code",
   "execution_count": null,
   "metadata": {},
   "outputs": [],
   "source": [
    "# make sure we are in the right path\n",
    "os.chdir(pwd)\n",
    "\n",
    "sigmas = [0.10, 0.05, 0.01, 0.005, 0.001]\n",
    "energies = []\n",
    "\n",
    "..."
   ]
  },
  {
   "cell_type": "markdown",
   "metadata": {},
   "source": [
    "#### Structure relaxation"
   ]
  },
  {
   "cell_type": "code",
   "execution_count": null,
   "metadata": {},
   "outputs": [],
   "source": [
    "# make sure we are in the right path\n",
    "os.chdir(pwd)\n",
    "\n",
    "..."
   ]
  },
  {
   "cell_type": "markdown",
   "metadata": {},
   "source": [
    "#### Isotropic volume change and pressure calculation"
   ]
  },
  {
   "cell_type": "code",
   "execution_count": null,
   "metadata": {},
   "outputs": [],
   "source": [
    "# make sure we are in the right path\n",
    "os.chdir(pwd)\n",
    "\n",
    "# volumes to scale by\n",
    "scales = [0.95,0.96,0.97,0.98,0.99,1.0,1.01,1.02,1.03,1.04,1.05]\n",
    "\n",
    "# read the relaxed anatase structure and isotropically change the volume\n",
    "calc = mywrapper.get_calculator(dir=anatase_relax_path)\n",
    "if calc is not None:\n",
    "    volumes = []\n",
    "    energies = []\n",
    "    \n",
    "    atoms = calc.atoms\n",
    "    cell = np.array(atoms.get_cell())\n",
    "    natom = len(atoms)\n",
    "    \n",
    "    for scale in scales:\n",
    "        \n",
    "        ...\n",
    "  "
   ]
  },
  {
   "cell_type": "markdown",
   "metadata": {},
   "source": [
    "#### get enthapies and pressure"
   ]
  },
  {
   "cell_type": "code",
   "execution_count": null,
   "metadata": {},
   "outputs": [],
   "source": [
    "anatase_h, anatase_p = get_enthalpy_pressure(volumes, energies)"
   ]
  },
  {
   "cell_type": "markdown",
   "metadata": {},
   "source": [
    "### Now repeat for Rutile"
   ]
  },
  {
   "cell_type": "code",
   "execution_count": null,
   "metadata": {},
   "outputs": [],
   "source": [
    "rutile = ase.io.read('rutile.cif')\n",
    "rutile_cell = rutile.get_cell()\n",
    "\n",
    "..."
   ]
  },
  {
   "cell_type": "markdown",
   "metadata": {},
   "source": [
    "#### kgrid-convergence"
   ]
  },
  {
   "cell_type": "code",
   "execution_count": null,
   "metadata": {},
   "outputs": [],
   "source": [
    "# make sure we are in the right path\n",
    "os.chdir(pwd)\n",
    "\n",
    "# normalize global variables by natom\n",
    "ediff = ediff_natom * len(rutile)\n",
    "ediffg = ediffg_natom * len(rutile)\n",
    "threshold_convergence = threshold_convergence_natom * len(rutile)\n",
    "\n",
    "kpts = [4,6,8,10,12]     \n",
    "\n",
    "# note that Rutile cell is not cubic! As such, a1, a2, and a3 are not equal and we need \n",
    "# to be careful to use different number of kpts in b1, b2, and b3 directions, so that \n",
    "# eventually the spacing between kpts in the reciprocal space, i.e. \n",
    "# the product of (amag[i] * kpts[i]),  is same in all three\n",
    "# direction, where amag[i] is the length of lattice vector i and kpts[i] is the number of\n",
    "# kpts in the ith direction\n",
    "\n",
    "energies = []\n",
    "for kpt in kpts:\n",
    "    \n",
    "    ..."
   ]
  },
  {
   "cell_type": "markdown",
   "metadata": {},
   "source": [
    "#### encut convergence"
   ]
  },
  {
   "cell_type": "code",
   "execution_count": null,
   "metadata": {},
   "outputs": [],
   "source": [
    "# make sure we are in the right path\n",
    "os.chdir(pwd)\n",
    "\n",
    "encuts = [250,300,350,400,450,500,550,600]\n",
    "energies = []\n",
    "\n",
    "for encut in encuts:\n",
    "    \n",
    "    ..."
   ]
  },
  {
   "cell_type": "markdown",
   "metadata": {},
   "source": [
    "#### sigma convergence"
   ]
  },
  {
   "cell_type": "code",
   "execution_count": null,
   "metadata": {},
   "outputs": [],
   "source": [
    "# make sure we are in the right path\n",
    "os.chdir(pwd)\n",
    "\n",
    "sigmas = [0.10, 0.05, 0.01, 0.005, 0.001]\n",
    "energies = []\n",
    "\n",
    "for sigma in sigmas:\n",
    "    \n",
    "    ..."
   ]
  },
  {
   "cell_type": "markdown",
   "metadata": {},
   "source": [
    "#### structure relaxation"
   ]
  },
  {
   "cell_type": "code",
   "execution_count": null,
   "metadata": {},
   "outputs": [],
   "source": [
    "# make sure we are in the right path\n",
    "os.chdir(pwd)\n",
    "\n",
    "..."
   ]
  },
  {
   "cell_type": "markdown",
   "metadata": {},
   "source": [
    "#### isotropic volume change and pressure calculation"
   ]
  },
  {
   "cell_type": "code",
   "execution_count": null,
   "metadata": {},
   "outputs": [],
   "source": [
    "# make sure we are in the right path\n",
    "os.chdir(pwd)\n",
    "\n",
    "# volumes to scale by\n",
    "scales = [0.95,0.96,0.97,0.98,0.99,1.0,1.01,1.02,1.03,1.04,1.05]\n",
    "\n",
    "# read the relaxed anatase structure and isotropically change the volume\n",
    "calc = mywrapper.get_calculator(dir=rutile_relax_path)\n",
    "if calc is not None:\n",
    "    volumes = []\n",
    "    energies = []\n",
    "    \n",
    "    atoms = calc.atoms\n",
    "    cell = np.array(atoms.get_cell())\n",
    "    natom = len(atoms)\n",
    "    \n",
    "    for scale in scales:\n",
    "        \n",
    "        ..."
   ]
  },
  {
   "cell_type": "code",
   "execution_count": null,
   "metadata": {},
   "outputs": [],
   "source": [
    "rutile_h, rutile_p = get_enthalpy_pressure(volumes, energies)"
   ]
  },
  {
   "cell_type": "code",
   "execution_count": null,
   "metadata": {},
   "outputs": [],
   "source": [
    "# plot now\n",
    "plt.figure(0)\n",
    "...\n",
    "plt.grid()\n",
    "plt.show()"
   ]
  },
  {
   "cell_type": "code",
   "execution_count": null,
   "metadata": {},
   "outputs": [],
   "source": [
    "# zoom-in\n",
    "plt.figure(1)\n",
    "...\n",
    "plt.grid()\n",
    "plt.ylim([...])\n",
    "plt.xlim([...])\n",
    "plt.show()"
   ]
  }
 ],
 "metadata": {
  "kernelspec": {
   "display_name": "Python 3",
   "language": "python",
   "name": "python3"
  },
  "language_info": {
   "codemirror_mode": {
    "name": "ipython",
    "version": 3
   },
   "file_extension": ".py",
   "mimetype": "text/x-python",
   "name": "python",
   "nbconvert_exporter": "python",
   "pygments_lexer": "ipython3",
   "version": "3.6.8"
  }
 },
 "nbformat": 4,
 "nbformat_minor": 2
}

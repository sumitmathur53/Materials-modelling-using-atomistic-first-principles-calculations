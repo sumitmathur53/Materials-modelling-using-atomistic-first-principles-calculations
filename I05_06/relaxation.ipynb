{
 "cells": [
  {
   "cell_type": "code",
   "execution_count": 1,
   "metadata": {},
   "outputs": [],
   "source": [
    "import numpy\n",
    "from matplotlib import pyplot as plt\n",
    "\n",
    "#declare global variable\n",
    "epsilon = 1.67e-21\n",
    "sigma = 3.4e-10\n",
    "cutoff = 3.5*sigma"
   ]
  },
  {
   "cell_type": "code",
   "execution_count": 20,
   "metadata": {},
   "outputs": [],
   "source": [
    "def getRelaxedLatticeConstant():\n",
    "    \n",
    "    alat = [(5.0 + x/10) for x in range(0,11)]   #angstrom\n",
    "    alat = 1e-10 * numpy.array(alat)   #meters\n",
    "    \n",
    "    energies = []\n",
    "    for a in alat:\n",
    "        energy = getPotentialEnergy(a)\n",
    "        energies.append(energy)\n",
    "    \n",
    "    plt.plot(alat * (1e+10), energies, 'ro-')\n",
    "    plt.xlabel('[alat (Angs)]')\n",
    "    plt.ylabel('Energy (in J)')\n",
    "    plt.show()\n",
    "    \n",
    "    index = numpy.argmin(energies)\n",
    "    relaxed_alat = alat[index]\n",
    "    \n",
    "    \n",
    "    return relaxed_alat"
   ]
  },
  {
   "cell_type": "code",
   "execution_count": 21,
   "metadata": {},
   "outputs": [],
   "source": [
    "def getPotentialEnergy(alat):\n",
    "    \n",
    "    unitcell = getUnitcell(alat)\n",
    "    \n",
    "    supercell = getSupercell(unitcell)\n",
    "    \n",
    "    energy = float(getEnergy(unitcell, supercell))\n",
    "\n",
    "    return energy"
   ]
  },
  {
   "cell_type": "code",
   "execution_count": 22,
   "metadata": {},
   "outputs": [],
   "source": [
    "def getUnitcell(a):\n",
    "    \n",
    "    alat = numpy.array([[a, 0, 0], [0,a,0], [0,0,a]])\n",
    "    direct = numpy.array([[0,0,0], [0.5,0.5,0.0], [0.5,0.0,0.5], [0.0,0.5,0.5]])\n",
    "    cart = numpy.matmul(direct, alat)\n",
    "    \n",
    "    return {'direct' : direct,\n",
    "            'cart' : cart,\n",
    "             'alat' : alat}"
   ]
  },
  {
   "cell_type": "code",
   "execution_count": 23,
   "metadata": {},
   "outputs": [],
   "source": [
    "def getSupercell(ucell):\n",
    "    \n",
    "    N = 1\n",
    "    \n",
    "    scell = getRepeatedCell(ucell, N)\n",
    "    current_count = getNeighborCount(ucell, scell)\n",
    "    \n",
    "    while True:\n",
    "        N = N + 1\n",
    "        scell = getRepeatedCell(ucell, N)\n",
    "        next_count = getNeighborCount(ucell, scell)\n",
    "        if next_count == current_count:\n",
    "            break\n",
    "        current_count = next_count\n",
    "     \n",
    "    N = N-1\n",
    "    scell = getRepeatedCell(ucell, N)\n",
    "    return scell"
   ]
  },
  {
   "cell_type": "code",
   "execution_count": 24,
   "metadata": {},
   "outputs": [],
   "source": [
    "def getRepeatedCell(ucell, N):\n",
    "    \n",
    "    direct = []\n",
    "    for i in range(-N, N+1):\n",
    "        for j in range(-N, N+1):\n",
    "            for k in range(-N, N+1):\n",
    "                ucell_corner = numpy.array([i,j,k])\n",
    "                \n",
    "                for direct_atom in ucell['direct']:\n",
    "                    repeat_atom = direct_atom + ucell_corner\n",
    "                    direct.append(repeat_atom)\n",
    "     \n",
    "    cart = numpy.matmul(direct, ucell['alat'])\n",
    "    alat = (2*N+1) * ucell['alat']\n",
    "    \n",
    "    inv_alat = numpy.linalg.inv(alat)\n",
    "    direct = numpy.matmul(cart, inv_alat)\n",
    "    \n",
    "    \n",
    "    return {'alat' : alat, 'cart' : cart, 'direct' : direct}\n",
    "                    "
   ]
  },
  {
   "cell_type": "code",
   "execution_count": 25,
   "metadata": {},
   "outputs": [],
   "source": [
    "def getNeighborCount(ucell, scell):\n",
    "    \n",
    "    uatoms_cart = ucell['cart']\n",
    "    satoms_cart = scell['cart']\n",
    "    \n",
    "    count = 0\n",
    "    for uatom in uatoms_cart:\n",
    "        for satom in satoms_cart:\n",
    "            \n",
    "            dist = numpy.sqrt(numpy.sum((uatom - satom)**2))\n",
    "            \n",
    "            if dist < cutoff:\n",
    "                count = count + 1\n",
    "                \n",
    "    return count            "
   ]
  },
  {
   "cell_type": "code",
   "execution_count": 26,
   "metadata": {},
   "outputs": [],
   "source": [
    "def getEnergy(ucell, scell):\n",
    "    \n",
    "    potential_energy = 0.0\n",
    "    uatoms_cart = ucell['cart']\n",
    "    satoms_cart = scell['cart']\n",
    "    \n",
    "    for uatom in uatoms_cart:\n",
    "        for satom in satoms_cart:\n",
    "            \n",
    "            dist = numpy.sqrt(numpy.sum((uatom - satom)**2))\n",
    "            if dist < 1e-15:\n",
    "                continue\n",
    "                \n",
    "            correction = 1.0    \n",
    "            if atomInUnitcell(satom, ucell):\n",
    "                correction = 0.5\n",
    "                \n",
    "            energy = correction*4*epsilon*((sigma/dist)**12 - (sigma/dist)**6)\n",
    "            potential_energy = potential_energy + energy\n",
    "    \n",
    "    \n",
    "    return potential_energy"
   ]
  },
  {
   "cell_type": "code",
   "execution_count": 27,
   "metadata": {},
   "outputs": [],
   "source": [
    "def atomInUnitcell(satom, ucell):\n",
    "    \n",
    "    uatoms_cart = ucell['cart']\n",
    "    for uatom in uatoms_cart:\n",
    "        dist = numpy.sqrt(numpy.sum((uatom - satom)**2))\n",
    "        if dist < 1e-15:\n",
    "            return True\n",
    "        \n",
    "    return False"
   ]
  },
  {
   "cell_type": "code",
   "execution_count": 28,
   "metadata": {},
   "outputs": [
    {
     "data": {
      "image/png": "[encoded data removed]",
      "text/plain": [
       "<Figure size 432x288 with 1 Axes>"
      ]
     },
     "metadata": {
      "needs_background": "light"
     },
     "output_type": "display_data"
    },
    {
     "data": {
      "text/plain": [
       "5.200000000000001e-10"
      ]
     },
     "execution_count": 28,
     "metadata": {},
     "output_type": "execute_result"
    }
   ],
   "source": [
    "getRelaxedLatticeConstant()"
   ]
  },
  {
   "cell_type": "code",
   "execution_count": null,
   "metadata": {},
   "outputs": [],
   "source": []
  }
 ],
 "metadata": {
  "kernelspec": {
   "display_name": "Python 3",
   "language": "python",
   "name": "python3"
  },
  "language_info": {
   "codemirror_mode": {
    "name": "ipython",
    "version": 3
   },
   "file_extension": ".py",
   "mimetype": "text/x-python",
   "name": "python",
   "nbconvert_exporter": "python",
   "pygments_lexer": "ipython3",
   "version": "3.6.8"
  }
 },
 "nbformat": 4,
 "nbformat_minor": 2
}

{
 "cells": [
  {
   "cell_type": "markdown",
   "metadata": {},
   "source": [
    "# Lennard-Jones Potential"
   ]
  },
  {
   "cell_type": "markdown",
   "metadata": {},
   "source": [
    "Imagine two rubber balls separated by a large distance. Both objects are far enough apart that they are not interacting. \n",
    "\n",
    "The two balls can be brought closer together with minimal energy, allowing interaction. The balls can continuously be brought closer together until they are touching. \n",
    "\n",
    "At this point, it becomes difficult to further decrease the distance between the two balls. To bring the balls any closer together, increasing amounts of energy must be added.\n",
    "This is because eventually, as the balls begin to invade each other’s space, they repel each other; the force of repulsion is far greater than the force of attraction."
   ]
  },
  {
   "cell_type": "code",
   "execution_count": 160,
   "metadata": {},
   "outputs": [],
   "source": [
    "import os\n",
    "import numpy as np\n",
    "from matplotlib import pyplot as plt\n",
    "\n",
    "# initialize global variables here\n",
    "epsilon = 1.67e-21         # energy parameter\n",
    "sigma = 3.4e-10            # length parameter\n",
    "cutoff = 3.5*sigma         # interaction cutoff"
   ]
  },
  {
   "cell_type": "code",
   "execution_count": 161,
   "metadata": {},
   "outputs": [
    {
     "name": "stdout",
     "output_type": "stream",
     "text": [
      "[5.0, 5.1, 5.2, 5.3, 5.4, 5.5, 5.6, 5.7, 5.8, 5.9]\n",
      "\n",
      " [5.0, 5.1, 5.2, 5.3, 5.4, 5.5, 5.6, 5.7, 5.8, 5.9, 6.0]\n"
     ]
    }
   ],
   "source": [
    "pos_vector  = [(5+x/10) for x in range(10)]\n",
    "pos_vector1  = [(5+x/10) for x in range(0,11)]\n",
    "\n",
    "print(pos_vector)\n",
    "print('\\n', pos_vector1)"
   ]
  },
  {
   "cell_type": "code",
   "execution_count": 162,
   "metadata": {},
   "outputs": [],
   "source": [
    "def getRelaxedLatticeConstant():\n",
    "\n",
    "    # initialize the array of lattice constants \n",
    "\n",
    "    pos_vector  = [(5+x/10) for x in range(10)]\n",
    "    print(pos_vector,'\\n')\n",
    "    print(\"converted to angstrome\")\n",
    "    pos_vector = 1e-10*np.array(pos_vector)\n",
    "    print(pos_vector,'\\n')\n",
    "\n",
    "    # make a list of energies to store energy corresponding to the positions of\n",
    "    # each atom in the position vector\n",
    "\n",
    "    energies = []\n",
    "\n",
    "    for i in pos_vector:\n",
    "        energies.append(get_potential_energy(i))\n",
    "\n",
    "    print(\"calculated energies corresponding to positions of each atom\")\n",
    "    for i in energies:\n",
    "        print(i,' ')\n",
    "\n",
    "    \n",
    "    # plot the graph of energies for position in position vector\n",
    "    \n",
    "    plt.plot(pos_vector * (1e+10) , energies, 'ro-')\n",
    "\n",
    "    plt.xlabel('Lattice constant (angstrome)')\n",
    "    plt.ylabel('Energy ( J )')\n",
    "    plt.show()\n",
    "\n",
    "    return pos_vector[np.argmin(energies)]\n",
    "\n",
    "\n",
    "    "
   ]
  },
  {
   "cell_type": "markdown",
   "metadata": {},
   "source": [
    "to calculate the potential energy at each position"
   ]
  },
  {
   "cell_type": "markdown",
   "metadata": {},
   "source": [
    "'''\n",
    "    function to calculate the potential energy given the lattice constant\n",
    "    Input: lattice constant\n",
    "    Output: corresponding potential energy\n",
    "    '''"
   ]
  },
  {
   "cell_type": "code",
   "execution_count": 163,
   "metadata": {},
   "outputs": [],
   "source": [
    "def get_potential_energy(atom_position):\n",
    "\n",
    "    # generating the unit cell \n",
    "\n",
    "    unit_cell = get_unit_cell(atom_position)\n",
    "\n",
    "    # generating the supercell with all interations corresponding to given unit cell\n",
    "\n",
    "    super_cell = get_super_cell(unit_cell)\n",
    "\n",
    "    # calculate energy corresponding to given unit cell and super cell\n",
    "\n",
    "    return get_energy(unit_cell, super_cell)\n"
   ]
  },
  {
   "cell_type": "markdown",
   "metadata": {},
   "source": [
    "to get unit cell from the atomic positions"
   ]
  },
  {
   "cell_type": "code",
   "execution_count": 164,
   "metadata": {},
   "outputs": [
    {
     "data": {
      "text/plain": [
       "array([[1., 0., 0.],\n",
       "       [0., 1., 0.],\n",
       "       [0., 0., 1.]])"
      ]
     },
     "execution_count": 164,
     "metadata": {},
     "output_type": "execute_result"
    }
   ],
   "source": [
    "a = np.eye(3,3)\n",
    "a"
   ]
  },
  {
   "cell_type": "code",
   "execution_count": 165,
   "metadata": {},
   "outputs": [],
   "source": [
    "def get_unit_cell(atom_position):\n",
    "\n",
    "    lattice_vector = atom_position * np.eye(3,3)\n",
    "\n",
    "    # as it is in fcc given which is given\n",
    "    # we know this is in fcc coordinates \n",
    "    direct = [[0.0,0.0,0.0],\n",
    "              [0.0,0.5,0.5],\n",
    "              [0.5,0.0,0.5],\n",
    "              [0.5,0.5,0.0]]\n",
    "    \n",
    "    direct = np.array(direct)\n",
    "\n",
    "    # to get cartesian coordinate \n",
    "\n",
    "    cartesian = np.matmul(direct, lattice_vector)\n",
    "\n",
    "    # storing all the information into the a dictionary\n",
    "\n",
    "    unit_cell_data = {'position vector' : lattice_vector,\n",
    "                      'direct coordinates': direct,\n",
    "                      'cartesian coordinates': cartesian}\n",
    "    \n",
    "    return unit_cell_data\n",
    "\n",
    "\n",
    "\n",
    "    "
   ]
  },
  {
   "cell_type": "markdown",
   "metadata": {},
   "source": [
    " getting super cell"
   ]
  },
  {
   "cell_type": "markdown",
   "metadata": {},
   "source": [
    "'''\n",
    "    function to generate Supercell including all interactions of the unitcell atoms\n",
    "    Input: unitcell\n",
    "    Output: dictionary consisting of lattice vectors and basis of supercell\n",
    "    '''\n",
    "\n",
    " '''\n",
    "    here we need to repeat the ucell in x,y,z directions until we include all interactions.\n",
    "    However, we do not know 'how many times to repeat' beforehand.\n",
    "    As such, we need to iterate here.\n",
    "    '''\n",
    "\n",
    "\n",
    " '''\n",
    "    We will start with some initial number of rep, Nrep=[1,1,1] in x,y,z directions.\n",
    "    For this Nrep, we will count the number of neighbors of unitcell atoms within the cutoff cloud.\n",
    "    Next, we will increase Nrep by one and check if the number of neighbors change.\n",
    "    if neighbors_count do not change on increasing Nrep, then supercell is of right size.\n",
    "    else we need to increas ethe size.\n",
    "    '''"
   ]
  },
  {
   "cell_type": "code",
   "execution_count": 166,
   "metadata": {},
   "outputs": [],
   "source": [
    "def get_super_cell(unit_cell):\n",
    "\n",
    "    repetition_counter = 1\n",
    "\n",
    "    while True:\n",
    "\n",
    "        # get super cell to repetition counter size and count neighbors\n",
    "        super_cell = get_repeated_cell(unit_cell,repetition_counter)\n",
    "        neighbour_current = count_neighbour(unit_cell,super_cell)\n",
    "\n",
    "        # get super cell for the next counter for the comparision\n",
    "\n",
    "        super_cell = get_repeated_cell(unit_cell,repetition_counter+1)\n",
    "        neighbour_next = count_neighbour(unit_cell,super_cell)\n",
    "\n",
    "        if neighbour_current == neighbour_next:\n",
    "            break\n",
    "\n",
    "        repetition_counter += 1\n",
    "\n",
    "    return get_repeated_cell(unit_cell,repetition_counter)\n",
    "\n",
    "\n",
    "        "
   ]
  },
  {
   "cell_type": "markdown",
   "metadata": {},
   "source": [
    "to get repeated cell "
   ]
  },
  {
   "cell_type": "markdown",
   "metadata": {},
   "source": [
    "'''\n",
    "    function to generate a supercell of given size\n",
    "    Input: unitcell and Number of repetitions\n",
    "    Output: supercell\n",
    "    '''"
   ]
  },
  {
   "cell_type": "code",
   "execution_count": 167,
   "metadata": {},
   "outputs": [],
   "source": [
    "def get_repeated_cell(unit_cell,repetition_counter):\n",
    "\n",
    "    direct  = []\n",
    "\n",
    "    for i in range(-repetition_counter,repetition_counter+1):\n",
    "\n",
    "        for j in range(-repetition_counter,repetition_counter+1):\n",
    "\n",
    "            for k in range(-repetition_counter,repetition_counter+1):\n",
    "\n",
    "\n",
    "                # for every atom in the uni cell\n",
    "                for unit_cell_atom in unit_cell['direct coordinates']:\n",
    "\n",
    "                    # position in super cell is [ position of unit cell atom ] + position of unit cell\n",
    "                    position = unit_cell_atom + [i,j,k]\n",
    "\n",
    "                    direct.append(position)\n",
    "\n",
    "\n",
    "\n",
    "    # to get cartesian coordinates\n",
    "    \n",
    "    cartesian = np.matmul(direct,unit_cell['position vector'])\n",
    "\n",
    "    position_lattice_vector_of_super_cell = (2*repetition_counter+1) * unit_cell['position vector']\n",
    "\n",
    "\n",
    "    super_cell = {'cartesian' : cartesian,\n",
    "                  'direct': direct,\n",
    "                  'position vector': position_lattice_vector_of_super_cell}\n",
    "    \n",
    "    return super_cell\n",
    "\n",
    "    "
   ]
  },
  {
   "cell_type": "markdown",
   "metadata": {},
   "source": [
    "to count the neighbours"
   ]
  },
  {
   "cell_type": "markdown",
   "metadata": {},
   "source": [
    " '''\n",
    "    function to count the number of neighbors between atoms in unitcell and supercell\n",
    "    \n",
    "    Input: unitcell and supercell\n",
    "    Output: number of neighbors\n",
    "    '''"
   ]
  },
  {
   "cell_type": "code",
   "execution_count": 168,
   "metadata": {},
   "outputs": [],
   "source": [
    "def count_neighbour(unit_cell,super_cell):\n",
    "\n",
    "    count = 0\n",
    "\n",
    "    for unit_cell_atom in unit_cell['cartesian coordinates']:\n",
    "\n",
    "        for super_cell_atom in super_cell['cartesian']:\n",
    "\n",
    "            dist2 = np.sum((unit_cell_atom - super_cell_atom)**2)\n",
    "            distance = np.sqrt(dist2)\n",
    "\n",
    "            if distance < (cutoff + 1e-15):\n",
    "                count += 1\n",
    "    \n",
    "\n",
    "    return count\n",
    "\n",
    "    \n"
   ]
  },
  {
   "cell_type": "markdown",
   "metadata": {},
   "source": [
    " '''\n",
    "    function to calculate energy/atom of given ucell-scell\n",
    "    Input: unitcell and supercell\n",
    "    Output: Correspodning energy of system\n",
    "    '''"
   ]
  },
  {
   "cell_type": "code",
   "execution_count": 169,
   "metadata": {},
   "outputs": [],
   "source": [
    "def get_energy(unit_cell,super_cell):\n",
    "    \n",
    "    energy = 0\n",
    "\n",
    "    for unit_cell_atom in unit_cell['cartesian coordinates']:\n",
    "\n",
    "        for super_cell_atom in super_cell['cartesian']:\n",
    "\n",
    "            distance = np.sum((unit_cell_atom - super_cell_atom)**2)\n",
    "            distance = np.sqrt(distance)\n",
    "            \n",
    "\n",
    "            # make sure that they are not the same atoms\n",
    "            if distance < 1e-15:\n",
    "                continue\n",
    "\n",
    "            factor = 1.0\n",
    "\n",
    "            if atom_in_unit_cell(unit_cell,super_cell_atom):\n",
    "                factor = 0.5\n",
    "            \n",
    "            energy += factor * 4 * epsilon*((sigma/distance)**12 - (sigma/distance)**6)\n",
    "\n",
    "    '''\n",
    "    Note that we have made one mistake here. In calculating energy, we looped over\n",
    "    all atoms in the unitcell and all atoms in the supercell. As such, some pairs are double-counted.\n",
    "    for instance, take an atom i in the ucell and atom j in the supercell, such that j is also in the unitcell.\n",
    "    In this case, we will include E_ij. But when we loop over unitcell atoms and find j, we will include E_ji.\n",
    "    We need to fix this and this will be a part of your HW assignment.\n",
    "    '''\n",
    "\n",
    "    return energy/(len(unit_cell['cartesian coordinates']))\n",
    "\n"
   ]
  },
  {
   "cell_type": "markdown",
   "metadata": {},
   "source": [
    " '''\n",
    "    function to check if given atom is in unitcell\n",
    "    Input: unitcell and atom to check\n",
    "    Output: boolean specifying if atom is in cell\n",
    "    '''"
   ]
  },
  {
   "cell_type": "code",
   "execution_count": 170,
   "metadata": {},
   "outputs": [],
   "source": [
    "def atom_in_unit_cell(unit_cell,super_cell_atom):\n",
    "\n",
    "    for unit_cell_atom in unit_cell['cartesian coordinates']:\n",
    "\n",
    "        distance = np.sum((unit_cell_atom-super_cell_atom)**2)\n",
    "        distance = np.sqrt(distance)\n",
    "\n",
    "        if distance < 1e-6:\n",
    "            return True\n",
    "        \n",
    "\n",
    "    return False\n"
   ]
  },
  {
   "cell_type": "code",
   "execution_count": 171,
   "metadata": {},
   "outputs": [
    {
     "name": "stdout",
     "output_type": "stream",
     "text": [
      "[5.0, 5.1, 5.2, 5.3, 5.4, 5.5, 5.6, 5.7, 5.8, 5.9] \n",
      "\n",
      "converted to angstrome\n",
      "[5.0e-10 5.1e-10 5.2e-10 5.3e-10 5.4e-10 5.5e-10 5.6e-10 5.7e-10 5.8e-10\n",
      " 5.9e-10] \n",
      "\n"
     ]
    },
    {
     "name": "stdout",
     "output_type": "stream",
     "text": [
      "calculated energies corresponding to positions of each atom\n",
      "-1.2612907560695753e-20  \n",
      "-1.3721576147677706e-20  \n",
      "-1.4168939905472465e-20  \n",
      "-1.4163974922903837e-20  \n",
      "-1.3856009441761062e-20  \n",
      "-1.3351539814959686e-20  \n",
      "-1.2726232206406335e-20  \n",
      "-1.2033524028273819e-20  \n",
      "-1.1310811464883952e-20  \n",
      "-1.0583915092827261e-20  \n"
     ]
    },
    {
     "data": {
      "image/png": "[encoded data removed]",
      "text/plain": [
       "<Figure size 640x480 with 1 Axes>"
      ]
     },
     "metadata": {},
     "output_type": "display_data"
    },
    {
     "data": {
      "text/plain": [
       "5.200000000000001e-10"
      ]
     },
     "execution_count": 171,
     "metadata": {},
     "output_type": "execute_result"
    }
   ],
   "source": [
    "getRelaxedLatticeConstant()"
   ]
  },
  {
   "cell_type": "code",
   "execution_count": null,
   "metadata": {},
   "outputs": [],
   "source": []
  }
 ],
 "metadata": {
  "kernelspec": {
   "display_name": "Python 3",
   "language": "python",
   "name": "python3"
  },
  "language_info": {
   "codemirror_mode": {
    "name": "ipython",
    "version": 3
   },
   "file_extension": ".py",
   "mimetype": "text/x-python",
   "name": "python",
   "nbconvert_exporter": "python",
   "pygments_lexer": "ipython3",
   "version": "3.12.1"
  }
 },
 "nbformat": 4,
 "nbformat_minor": 2
}

{
 "cells": [
  {
   "cell_type": "markdown",
   "metadata": {},
   "source": [
    "### General Instructions: \n",
    "- Due Date: Monday Feb 12, 5 PM \n",
    "- Submission: Please work on this Notebook and leave it in your account on the server. We have a crontab job which will copy your submission Notebook from your account at sharp 5 PM on Monday, Feb 12. Any changes made to Notebook after 5 PM, Monday, Feb 12 will not be reflected in the submitted assignment. DO NOT change the name or location of this file on the server.\n",
    "- __Plagiarism will not be tolerated in any form. Zero points will be awarded for the entire assignment in such cases__."
   ]
  },
  {
   "cell_type": "markdown",
   "metadata": {},
   "source": [
    "# Grade 75.0 / 85.0"
   ]
  },
  {
   "cell_type": "code",
   "execution_count": 3,
   "metadata": {},
   "outputs": [],
   "source": [
    "import os\n",
    "import numpy as np\n",
    "import ase\n",
    "import ase.io\n",
    "import ase.build\n",
    "import ase.visualize\n",
    "import matplotlib.pyplot as plt"
   ]
  },
  {
   "cell_type": "raw",
   "metadata": {},
   "source": [
    "Question 1:\n",
    "Total: 30 points\n",
    "Topic: Pressure and Bulk Modulus from Energies\n",
    "\n",
    "Reference: In lectures 5,6 and 7, we implemented Python code to calculate the energy of LJ FCC-solid [Notebook Name: 9_LJRelaxedLatticeConstant.ipynb]. We used this function to calculate the energy of solid for different lattice constants and used Energy vs lattice ocnstant to identify the relaxed lattice constant of the solid.\n",
    "- (a) [10 points] Use 50 values of lattice constants between 5.1 and 5.4 Angstrom [both inclusive] and calculate the energy corresponding to these lattice constants. Using numpy, fit a cubic polynomial to crystal-volume (from lattice-constant) and energy data that you obtained in part (a). [Hint: look into numpy function polyfit]\n",
    "- (b) [10 points] The pressure is defined as P = -dE/dV at constant temperature. Use numpy function polyder to calculate the pressure at each of the lattice constant of part(a).\n",
    "- (c) [10 points] The bulk modulus can be obtained as B = V*(d2E/dV2) at the relaxed volume. Using numpy,polyfit, numpy.polyder, and numpy.polyval, evaluate the Buld Modulus of FCC-Ar.\n",
    "\n",
    "- For part(a), print the output in a tabular format with col-1 being the lattice constant (in Angstrom) and col-2 being the corresponding energy (in eV)\n",
    "- For part(b), print data in tabular format with col-1 being the lattice constant (in Angstrom) and col-2 being the pressure (in GPa).\n",
    "- For part(c), print the Bulk modulus in GPa.\n",
    "\n",
    "For your convinience, the code to calculate the energy of LJ FCC Ar for given epsilon, sigma, and cutoff is included in the module mywrapper. You can call this function as: \n",
    "\n",
    "import mywrapper\n",
    "epsilon = 1.67e-21\n",
    "sigma = 3.4e-10\n",
    "cutoff = 3.5*sigma\n",
    "alat = 5.0e-10\n",
    "energy = mywrapper.get_LJEnergy(alat, epsilon, sigma, cutoff)\n",
    "\n",
    "Note that the units for length and energy scale in the above function are Meter and Joule."
   ]
  },
  {
   "cell_type": "markdown",
   "metadata": {},
   "source": [
    "## Q1) Grade 30.0 / 30.0"
   ]
  },
  {
   "cell_type": "code",
   "execution_count": 57,
   "metadata": {},
   "outputs": [
    {
     "name": "stdout",
     "output_type": "stream",
     "text": [
      "-1.2612907560695753e-20\n"
     ]
    }
   ],
   "source": [
    "# Answer 1:\n",
    "\n",
    "import mywrapper\n",
    "\n",
    "epsilon = 1.67e-21\n",
    "sigma = 3.4e-10\n",
    "cutoff = 3.5*sigma\n",
    "\n",
    "energy = mywrapper.LJ.get_LJEnergy(5.0e-10, epsilon, sigma, cutoff)\n",
    "print(energy)"
   ]
  },
  {
   "cell_type": "code",
   "execution_count": 58,
   "metadata": {},
   "outputs": [
    {
     "name": "stdout",
     "output_type": "stream",
     "text": [
      "lattice_vector in Angstrome         energy in ev\n",
      "5.1000                         |          -0.08564\n",
      "5.1061                         |          -0.08592\n",
      "5.1122                         |          -0.08618\n",
      "5.1184                         |          -0.08642\n",
      "5.1245                         |          -0.08665\n",
      "5.1306                         |          -0.08687\n",
      "5.1367                         |          -0.08707\n",
      "5.1429                         |          -0.08726\n",
      "5.1490                         |          -0.08744\n",
      "5.1551                         |          -0.08760\n",
      "5.1612                         |          -0.08775\n",
      "5.1673                         |          -0.08789\n",
      "5.1735                         |          -0.08802\n",
      "5.1796                         |          -0.08813\n",
      "5.1857                         |          -0.08824\n",
      "5.1918                         |          -0.08833\n",
      "5.1980                         |          -0.08841\n",
      "5.2041                         |          -0.08848\n",
      "5.2102                         |          -0.08854\n",
      "5.2163                         |          -0.08859\n",
      "5.2224                         |          -0.08864\n",
      "5.2286                         |          -0.08867\n",
      "5.2347                         |          -0.08869\n",
      "5.2408                         |          -0.08870\n",
      "5.2469                         |          -0.08871\n",
      "5.2531                         |          -0.08870\n",
      "5.2592                         |          -0.08869\n",
      "5.2653                         |          -0.08867\n",
      "5.2714                         |          -0.08864\n",
      "5.2776                         |          -0.08860\n",
      "5.2837                         |          -0.08856\n",
      "5.2898                         |          -0.08851\n",
      "5.2959                         |          -0.08845\n",
      "5.3020                         |          -0.08838\n",
      "5.3082                         |          -0.08831\n",
      "5.3143                         |          -0.08823\n",
      "5.3204                         |          -0.08814\n",
      "5.3265                         |          -0.08805\n",
      "5.3327                         |          -0.08795\n",
      "5.3388                         |          -0.08784\n",
      "5.3449                         |          -0.08773\n",
      "5.3510                         |          -0.08761\n",
      "5.3571                         |          -0.08749\n",
      "5.3633                         |          -0.08736\n",
      "5.3694                         |          -0.08723\n",
      "5.3755                         |          -0.08709\n",
      "5.3816                         |          -0.08694\n",
      "5.3878                         |          -0.08679\n",
      "5.3939                         |          -0.08664\n",
      "5.4000                         |          -0.08648\n"
     ]
    }
   ],
   "source": [
    "lattice_vector = np.linspace(5.1,5.4,50)\n",
    "\n",
    "# to convert into meter\n",
    "lattice_vector = (10**(-10))*lattice_vector\n",
    "\n",
    "energies = []\n",
    "\n",
    "for i in lattice_vector:\n",
    "    energies.append(mywrapper.LJ.get_LJEnergy(i, epsilon, sigma, cutoff))\n",
    "\n",
    "print(\"lattice_vector in Angstrome    \",\"    energy in ev\" )\n",
    "\n",
    "for i in range(50):\n",
    "    print(\"%.4f                         |          %.5f\" %(lattice_vector[i]*(10**(10)), energies[i]*(6.2415e+18)))"
   ]
  },
  {
   "cell_type": "code",
   "execution_count": 59,
   "metadata": {},
   "outputs": [
    {
     "data": {
      "image/png": "[encoded data removed]",
      "text/plain": [
       "<Figure size 432x288 with 1 Axes>"
      ]
     },
     "metadata": {
      "needs_background": "light"
     },
     "output_type": "display_data"
    }
   ],
   "source": [
    "volume = []\n",
    "for i in lattice_vector:\n",
    "    volume.append(i**3) # m cube\n",
    "plt.plot(volume,energies)\n",
    "\n",
    "plt.xlabel('Volume meter cube')\n",
    "plt.title('volume vs energies ')\n",
    "plt.ylabel('Energy joule')\n",
    "plt.show()"
   ]
  },
  {
   "cell_type": "code",
   "execution_count": 60,
   "metadata": {},
   "outputs": [
    {
     "name": "stdout",
     "output_type": "stream",
     "text": [
      "polynomial \n",
      "             3             2\n",
      "-5.648e+64 x + 2.731e+37 x - 4.355e+09 x + 2.152e-19\n"
     ]
    },
    {
     "data": {
      "image/png": "[encoded data removed]",
      "text/plain": [
       "<Figure size 432x288 with 1 Axes>"
      ]
     },
     "metadata": {
      "needs_background": "light"
     },
     "output_type": "display_data"
    }
   ],
   "source": [
    "z= np.polyfit(volume, energies, 3)\n",
    "\n",
    "p = np.poly1d(z)  # p is polynomial\n",
    "print(\"polynomial \\n\",   p)\n",
    "\n",
    "plt.plot(volume,p(volume))\n",
    "\n",
    "\n",
    "plt.xlabel('x_vol meter cube')\n",
    "plt.title('energies fitted curve with volume')\n",
    "plt.ylabel('Energy joule')\n",
    "plt.show()"
   ]
  },
  {
   "cell_type": "code",
   "execution_count": 61,
   "metadata": {},
   "outputs": [
    {
     "name": "stdout",
     "output_type": "stream",
     "text": [
      "pressure at in general  \n",
      "             2\n",
      "1.694e+65 x - 5.463e+37 x + 4.355e+09 \n",
      "\n",
      "lattice vector in angstrome              presure at giga pascal\n",
      "5.1000                         |          0.09062\n",
      "5.1061                         |          0.08603\n",
      "5.1122                         |          0.08151\n",
      "5.1184                         |          0.07706\n",
      "5.1245                         |          0.07267\n",
      "5.1306                         |          0.06835\n",
      "5.1367                         |          0.06411\n",
      "5.1429                         |          0.05993\n",
      "5.1490                         |          0.05582\n",
      "5.1551                         |          0.05178\n",
      "5.1612                         |          0.04782\n",
      "5.1673                         |          0.04392\n",
      "5.1735                         |          0.04010\n",
      "5.1796                         |          0.03635\n",
      "5.1857                         |          0.03267\n",
      "5.1918                         |          0.02907\n",
      "5.1980                         |          0.02555\n",
      "5.2041                         |          0.02209\n",
      "5.2102                         |          0.01872\n",
      "5.2163                         |          0.01542\n",
      "5.2224                         |          0.01220\n",
      "5.2286                         |          0.00905\n",
      "5.2347                         |          0.00598\n",
      "5.2408                         |          0.00300\n",
      "5.2469                         |          0.00009\n",
      "5.2531                         |          -0.00274\n",
      "5.2592                         |          -0.00549\n",
      "5.2653                         |          -0.00816\n",
      "5.2714                         |          -0.01074\n",
      "5.2776                         |          -0.01324\n",
      "5.2837                         |          -0.01566\n",
      "5.2898                         |          -0.01800\n",
      "5.2959                         |          -0.02025\n",
      "5.3020                         |          -0.02242\n",
      "5.3082                         |          -0.02450\n",
      "5.3143                         |          -0.02650\n",
      "5.3204                         |          -0.02840\n",
      "5.3265                         |          -0.03023\n",
      "5.3327                         |          -0.03196\n",
      "5.3388                         |          -0.03360\n",
      "5.3449                         |          -0.03516\n",
      "5.3510                         |          -0.03663\n",
      "5.3571                         |          -0.03800\n",
      "5.3633                         |          -0.03929\n",
      "5.3694                         |          -0.04048\n",
      "5.3755                         |          -0.04158\n",
      "5.3816                         |          -0.04259\n",
      "5.3878                         |          -0.04350\n",
      "5.3939                         |          -0.04432\n",
      "5.4000                         |          -0.04504\n"
     ]
    },
    {
     "data": {
      "text/plain": [
       "[<matplotlib.lines.Line2D at 0x7fcdefc1da58>]"
      ]
     },
     "execution_count": 61,
     "metadata": {},
     "output_type": "execute_result"
    },
    {
     "data": {
      "image/png": "[encoded data removed]",
      "text/plain": [
       "<Figure size 432x288 with 1 Axes>"
      ]
     },
     "metadata": {
      "needs_background": "light"
     },
     "output_type": "display_data"
    }
   ],
   "source": [
    "pressure = []\n",
    "\n",
    "derivative = -np.polyder(p)\n",
    "\n",
    "\n",
    "print(\"pressure at in general  \\n \", derivative,'\\n')\n",
    "# print(deriv)\n",
    "\n",
    "\n",
    "for i in volume:\n",
    "    pressure.append(derivative(i))\n",
    "\n",
    "    \n",
    "pressure = np.array(pressure)\n",
    "\n",
    "print(\"lattice vector in angstrome      \", \"       presure at giga pascal\")\n",
    "\n",
    "for i in range(50):\n",
    "    print(\"%.4f                         |          %.5f\"%(lattice_vector[i]*(10**(10)), pressure[i]* 1e-09))\n",
    "    \n",
    "plt.plot(volume,derivative(volume))\n",
    "\n"
   ]
  },
  {
   "cell_type": "code",
   "execution_count": 62,
   "metadata": {},
   "outputs": [
    {
     "name": "stdout",
     "output_type": "stream",
     "text": [
      "bulk_modulus   0.8194833645075855\n"
     ]
    }
   ],
   "source": [
    "min_index = np.argmin(energies)\n",
    "relaxed_vol = volume[min_index]\n",
    "a = np.polyder(p)\n",
    "a_a = np.polyder(a)\n",
    "bulk_bulk = a_a(relaxed_vol)\n",
    "\n",
    "bulk_modulus = relaxed_vol * bulk_bulk\n",
    "print(\"bulk_modulus  \", bulk_modulus * 1e-9)"
   ]
  },
  {
   "cell_type": "raw",
   "metadata": {},
   "source": [
    "Question 2: Antisite defect in periodic lattice [25 points]\n",
    "\n",
    "In lecture 8 notebook [A01/problems.ipynb], we performed an in-class activity, where our task was to create an antisite defect in a 4x4x4 supercell of PbTiO3 unitcell. In that activity, we replaced the position of one Pb atom with that of a nearest-neighboring Ti atom [Pb-Ti antisite defect]. To ensure that the nearest neighbor is on the same side of cell (nearest neighbor could be on the other side of the cell due to periodic boundary conditions), we chose Pb atom close to the center of the supercell.\n",
    "\n",
    "In this activity, we will relax this requirement. That is, we are not allowed to choose only from close to center of the supercell. We have to choose any Pb atom randomly from the entire supercell. Next we need to find nearest-neighboring Ti. Note that the Ti could be on the other-side of the cell. Your job in this activity is to find the nearest Ti atom [use periodic boundary condition (PBC), i.e., atom with direct/fractional/scaled/reduced coordinate (0.2,0.8,0.4) could be moved to (1.2, 0.8,0.4) or (1.2,1.8.1.4) and likewise without any change in the structure]. So, for example, if Pb is at direct-coord (0.90, 0.95, 0.85) and one Ti at direct-coord (0.60, 0.60, 0.55) and another Ti at direct-coord (0.10, 0.10, 0.05) then the second Ti atom is the nearest neighor even though first Ti atom seems closer.\n",
    "\n",
    "Caution: All the atoms in the provided perturbed_supercell_PbTiO3_POSCAR file are displaced from their equilirium positions by some random amount. As such, there is only one neighboring Ti with minimum distance.\n",
    "\n",
    "Hint: To solve this problem, first select a random Pb atom. Next loop over all Ti atoms. For each Ti atom, check what is the nearest distance of this Ti atom with the chosen Pb atom by considering PBC. For this, shift the Ti atom by [n1*a1 + n2*a2 + n3*a3], where n1,n2,n3 are integers and a1,a2,a3 are lattice vectors and calculate distances using generated cartesian coordinates. Finally for the chosen Pb atom and current Ti atom, the distance would be minimum of all of these [n1*a1 + n2*a2 + n3*a3] Ti-image distances. Note that you need to consider negative n1,n2,n3 as well! Think about what should be range of n1, n2, and n3. "
   ]
  },
  {
   "cell_type": "markdown",
   "metadata": {},
   "source": [
    "# Q2) Grade: 15.0 / 25.0"
   ]
  },
  {
   "cell_type": "raw",
   "metadata": {},
   "source": [
    "TA: Periodic images have been ignored. Refer to solutions"
   ]
  },
  {
   "cell_type": "code",
   "execution_count": 63,
   "metadata": {},
   "outputs": [
    {
     "name": "stdout",
     "output_type": "stream",
     "text": [
      "[0, 1, 2, 3, 5, 6, 7, 8, 10, 11, 12, 13, 15, 16, 17, 18, 20, 21, 22, 23, 25, 26, 27, 28, 30, 31, 32, 33, 35, 36, 37, 38, 40, 41, 42, 43, 45, 46, 47, 48, 50, 51, 52, 53, 55, 56, 57, 58, 60, 61, 62, 63, 65, 66, 67, 68, 70, 71, 72, 73, 75, 76, 77, 78, 80, 81, 82, 83, 85, 86, 87, 88, 90, 91, 92, 93, 95, 96, 97, 98, 100, 101, 102, 103, 105, 106, 107, 108, 110, 111, 112, 113, 115, 116, 117, 118, 120, 121, 122, 123, 125, 126, 127, 128, 130, 131, 132, 133, 135, 136, 137, 138, 140, 141, 142, 143, 145, 146, 147, 148, 150, 151, 152, 153, 155, 156, 157, 158, 160, 161, 162, 163, 165, 166, 167, 168, 170, 171, 172, 173, 175, 176, 177, 178, 180, 181, 182, 183, 185, 186, 187, 188, 190, 191, 192, 193, 195, 196, 197, 198, 200, 201, 202, 203, 205, 206, 207, 208, 210, 211, 212, 213, 215, 216, 217, 218, 220, 221, 222, 223, 225, 226, 227, 228, 230, 231, 232, 233, 235, 236, 237, 238, 240, 241, 242, 243, 245, 246, 247, 248, 250, 251, 252, 253, 255, 256, 257, 258, 260, 261, 262, 263, 265, 266, 267, 268, 270, 271, 272, 273, 275, 276, 277, 278, 280, 281, 282, 283, 285, 286, 287, 288, 290, 291, 292, 293, 295, 296, 297, 298, 300, 301, 302, 303, 305, 306, 307, 308, 310, 311, 312, 313, 315, 316, 317, 318]\n",
      "40\n",
      "[ 2.535 12.995  2.565]\n"
     ]
    },
    {
     "name": "stderr",
     "output_type": "stream",
     "text": [
      "/usr/local/lib/python3.6/site-packages/ipykernel_launcher.py:32: RuntimeWarning: invalid value encountered in sqrt\n"
     ]
    }
   ],
   "source": [
    "# read the structure\n",
    "atoms = ase.io.read('perturbed_supercell_PbTiO3_POSCAR', format='vasp')\n",
    "\n",
    "ase.visualize.view(atoms)\n",
    "\n",
    "scaled_positions = atoms.get_scaled_positions()\n",
    "positions = atoms.get_positions()\n",
    "symbols = atoms.get_chemical_symbols()\n",
    "\n",
    "index_pb = []\n",
    "for i in range(len(symbols)):\n",
    "    if symbols[i] != 'Ti':\n",
    "        index_pb.append(i)\n",
    "        \n",
    "print(index_pb)\n",
    "        \n",
    "index = np.random.randint(0,len(index_pb))\n",
    "desired_pb_index = index_pb[index]  # random pb index \n",
    "print(desired_pb_index)\n",
    "\n",
    "print(positions[desired_pb_index])\n",
    "\n",
    "neighbour_dist = 1e+6\n",
    "neighbour_index = -1\n",
    "\n",
    "for i in range(len(symbols)):\n",
    "    if symbols[i]!= \"Ti\":\n",
    "        continue\n",
    "\n",
    "    dist = np.sum((np.array(positions[i])) - np.array(positions[desired_pb_index])**2)\n",
    "\n",
    "    dist = np.sqrt(dist)\n",
    "\n",
    "    if dist < neighbour_dist:\n",
    "        neighbour_dist = dist\n",
    "        neighbour_index = i\n",
    "\n",
    "symbols[desired_pb_index] = 'Ti'\n",
    "symbols[neighbour_index] = 'Pb'\n",
    "\n",
    "atoms.set_chemical_symbols(symbols)\n",
    "\n",
    "ase.visualize.view(atoms)\n",
    "    \n",
    "'''\n",
    "..............\n",
    "write your code here\n",
    "'atoms' (atomic-object) will be modified here\n",
    "..............\n",
    "'''\n",
    "    \n",
    "# save the structure\n",
    "# write the final atomic structure 'atoms' to file\n",
    "ase.io.write('antisite_defect_POSCAR', atoms, format='vasp')"
   ]
  },
  {
   "cell_type": "raw",
   "metadata": {},
   "source": [
    "Question 3: Constraints using ASE [30 points]\n",
    "\n",
    "For studying the surface catalytic activities of heterogeneous catalysts, the activity of material is predicted by calculating the adsorption energies of involved reaction species on the catalyst surface. This is acheived by creating a surface/slab of catalytic material and adsorbing reaction species on different surface sites. For modelling of catalytic surface, typically bottom few layers of atoms are fixed to their bulk environment during the relaxation process using constraints. \n",
    "\n",
    "Read the documentation of ASE Constraints at: https://wiki.fysik.dtu.dk/ase/ase/constraints.html#the-fixatoms-class\n",
    "and that of ASE sort function at:\n",
    "https://wiki.fysik.dtu.dk/ase/ase/build/tools.html?highlight=sort#ase.build.sort\n",
    "\n",
    "Using above two functionalities of ASE, we will generate a Cu-surface slab in this activity.\n",
    "\n",
    "1. [5 points] Generate atomic-object corresponding to bulk Cu with 4 atoms in the unitcell (conventional FCC cell) and a lattice constant of 3.6 Angstrom.\n",
    "2. [3 points] Cut the surface (111) of Conventional FCC-Cu using ASE function 'surface'. Fix the number of layers to 4 and vacuum to 15 Angstrom.\n",
    "3. [2 points] Increase the size of surface by (2,2,1)\n",
    "4. [10 points] use ase.build.sort to sort the atoms in the atomic-object according to their z-coordinate, i.e., atoms with lower value of cart-z will have smaller index and atoms with higher value of coord-z will have higher index. \n",
    "5. [10 points] Use ase.build.FixAtoms to constraints the fix the atoms belonging to bottom two layers of the surface. \n",
    "\n",
    "Save the final atomic object as \"surface_POSCAR\" in the 'vasp' format.\n",
    "\n",
    "For your reference, the final generated reference_surface_POSCAR file is provided as an reference. Visualize this file using \"ase gui\". Visualize the frile from different angles to understand how does (111) surface of FCC-metals look like. Also, keep in mind that by default, ASE orients the surface along the z-direction. As such you will see that the vacuum is added in the z-direction."
   ]
  },
  {
   "cell_type": "markdown",
   "metadata": {},
   "source": [
    "## Q3) Grade: 30.0 / 30.0"
   ]
  },
  {
   "cell_type": "code",
   "execution_count": 4,
   "metadata": {},
   "outputs": [],
   "source": [
    "atoms = ase.build.bulk('Cu', 'fcc', a=3.8, cubic=True)\n",
    "# ase.visualize.view(atoms)"
   ]
  },
  {
   "cell_type": "code",
   "execution_count": 5,
   "metadata": {},
   "outputs": [],
   "source": [
    "from ase.build import surface,sort\n",
    "atoms = surface(atoms, (1, 1, 1), 4, vacuum=15.0)\n",
    "# ase.visualize.view(atoms)"
   ]
  },
  {
   "cell_type": "code",
   "execution_count": 6,
   "metadata": {},
   "outputs": [],
   "source": [
    " atoms *= (2, 2, 1)\n",
    "#  ase.visualize.view(atoms)"
   ]
  },
  {
   "cell_type": "code",
   "execution_count": 7,
   "metadata": {},
   "outputs": [],
   "source": [
    " atoms1 = sort(atoms, tags=atoms.positions[:, 2]) # sort according to z position"
   ]
  },
  {
   "cell_type": "code",
   "execution_count": 8,
   "metadata": {},
   "outputs": [],
   "source": [
    "# ase.visualize.view(atoms1)"
   ]
  },
  {
   "cell_type": "code",
   "execution_count": 9,
   "metadata": {},
   "outputs": [
    {
     "data": {
      "text/plain": [
       "<subprocess.Popen at 0x7fdb0b6fa438>"
      ]
     },
     "execution_count": 9,
     "metadata": {},
     "output_type": "execute_result"
    }
   ],
   "source": [
    "from ase.constraints import FixAtoms\n",
    "\n",
    "atoms_index = []\n",
    "for i in range(32):\n",
    "    atoms_index.append(i)\n",
    "\n",
    "cons = FixAtoms(indices = atoms_index)\n",
    "atoms1.set_constraint(cons)\n",
    "\n",
    "ase.visualize.view(atoms1)"
   ]
  },
  {
   "cell_type": "code",
   "execution_count": 78,
   "metadata": {},
   "outputs": [],
   "source": [
    "ase.io.write('surface_POSCAR', atoms1, format='vasp')"
   ]
  },
  {
   "cell_type": "code",
   "execution_count": 79,
   "metadata": {},
   "outputs": [],
   "source": [
    "atoms3 = ase.io.read('reference_surface_POSCAR', format='vasp')\n",
    "ase.visualize.view(atoms3)"
   ]
  },
  {
   "cell_type": "code",
   "execution_count": null,
   "metadata": {},
   "outputs": [],
   "source": []
  }
 ],
 "metadata": {
  "celltoolbar": "Raw Cell Format",
  "kernelspec": {
   "display_name": "Python 3",
   "language": "python",
   "name": "python3"
  },
  "language_info": {
   "codemirror_mode": {
    "name": "ipython",
    "version": 3
   },
   "file_extension": ".py",
   "mimetype": "text/x-python",
   "name": "python",
   "nbconvert_exporter": "python",
   "pygments_lexer": "ipython3",
   "version": "3.6.8"
  }
 },
 "nbformat": 4,
 "nbformat_minor": 2
}

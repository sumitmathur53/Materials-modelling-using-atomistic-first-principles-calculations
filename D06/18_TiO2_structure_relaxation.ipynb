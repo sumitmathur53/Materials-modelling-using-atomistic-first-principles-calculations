{
 "cells": [
  {
   "cell_type": "code",
   "execution_count": 1,
   "metadata": {},
   "outputs": [],
   "source": [
    "import os, sys\n",
    "import ase\n",
    "import ase.calculators.vasp\n",
    "import ase.io \n",
    "import ase.units\n",
    "from ase.visualize import view\n",
    "import matplotlib\n",
    "from matplotlib import pyplot as plt\n",
    "import numpy as np\n",
    "import mywrapper"
   ]
  },
  {
   "cell_type": "markdown",
   "metadata": {},
   "source": [
    "# When we are mixing two or more species, VASP manual suggests that its typically a good idea to use `1.3*max(ENMAX)` of all involved species\n",
    "\n"
   ]
  },
  {
   "cell_type": "code",
   "execution_count": 2,
   "metadata": {},
   "outputs": [
    {
     "name": "stdout",
     "output_type": "stream",
     "text": [
      "   ENMAX  =  178.330; ENMIN  =  133.747 eV\n",
      "   ENMAX  =  400.000; ENMIN  =  300.000 eV\n"
     ]
    }
   ],
   "source": [
    "!grep \"ENMAX\" $VASP_PP_PATH/potpaw_PBE/Ti/POTCAR\n",
    "!grep \"ENMAX\" $VASP_PP_PATH/potpaw_PBE/O/POTCAR"
   ]
  },
  {
   "cell_type": "code",
   "execution_count": 3,
   "metadata": {},
   "outputs": [
    {
     "name": "stdout",
     "output_type": "stream",
     "text": [
      "[[3.80613435 0.         0.        ]\n",
      " [0.         3.80613435 0.        ]\n",
      " [0.         0.         9.78435544]]\n"
     ]
    }
   ],
   "source": [
    "atoms = ase.io.read('TiO2_conventional.cif')\n",
    "natom = len(atoms.get_positions())\n",
    "view(atoms)\n",
    "cell = atoms.get_cell()\n",
    "ase.visualize.view(atoms)\n",
    "print(cell)"
   ]
  },
  {
   "cell_type": "markdown",
   "metadata": {},
   "source": [
    "## defining k grid as it is not cubic"
   ]
  },
  {
   "cell_type": "code",
   "execution_count": 6,
   "metadata": {},
   "outputs": [
    {
     "name": "stdout",
     "output_type": "stream",
     "text": [
      "[3.80613435, 3.80613435, 9.78435544]\n",
      "[8, 8, 3]\n"
     ]
    }
   ],
   "source": [
    "alatmag_kpt = 30    # why 30 we know na (a1*k1 ~ 30)\n",
    "amag = []\n",
    "for i in range(3):\n",
    "    amag.append(np.sqrt(np.sum(cell[i]**2)))  # \n",
    "print(amag)    \n",
    "kgrid = [int(round(alatmag_kpt/amag[0])), int(round(alatmag_kpt/amag[1])), int(round(alatmag_kpt/amag[2]))]\n",
    "print(kgrid)\n"
   ]
  },
  {
   "cell_type": "code",
   "execution_count": 7,
   "metadata": {},
   "outputs": [
    {
     "name": "stdout",
     "output_type": "stream",
     "text": [
      "[6, 6, 2]\n",
      "[8, 8, 3]\n",
      "[9, 9, 4]\n",
      "[11, 11, 4]\n"
     ]
    }
   ],
   "source": [
    "for alatmag_kpt in [24,30,36,42]:\n",
    "    kgrid = [int(round(alatmag_kpt/amag[0])), int(round(alatmag_kpt/amag[1])), int(round(alatmag_kpt/amag[2]))]\n",
    "    print(kgrid)"
   ]
  },
  {
   "cell_type": "code",
   "execution_count": 9,
   "metadata": {},
   "outputs": [
    {
     "name": "stdout",
     "output_type": "stream",
     "text": [
      "energy after relaxation with ISIF-2: -105.958\n"
     ]
    }
   ],
   "source": [
    "# relax directly with isif=3\n",
    "path = \"TiO2/one_step_relax\"\n",
    "\n",
    "calc = ase.calculators.vasp.Vasp(\n",
    "            xc=\"pbe\",\n",
    "            kpts=kgrid,   # typically we prefer equal sampling [kpts*cell_length] in each direction\n",
    "            encut=520,\n",
    "            ediff=1e-5,\n",
    "            algo='fast',\n",
    "            prec='accurate',\n",
    "            nelmin=4,\n",
    "            nelm=100,\n",
    "            ismear=0,\n",
    "            sigma=0.05,\n",
    "            lwave=False,   \n",
    "            npar=2, \n",
    "            isif=3,\n",
    "            nsw=100,\n",
    "            ediffg=1e-4,\n",
    "            ibrion=2\n",
    "            )   \n",
    "atoms.set_calculator(calc)\n",
    "energy_oneStep = mywrapper.get_energy(atoms, dir=path)\n",
    "print('energy after relaxation with ISIF-2: %5.3f' % (energy_oneStep))"
   ]
  },
  {
   "cell_type": "markdown",
   "metadata": {},
   "source": [
    "Now lets do a multi-step relaxation with: <br/>\n",
    "- Step-1: ISIF=2\n",
    "- Step-2: ISIF=4\n",
    "- Step-3: ISIF=3"
   ]
  },
  {
   "cell_type": "code",
   "execution_count": 10,
   "metadata": {},
   "outputs": [
    {
     "name": "stdout",
     "output_type": "stream",
     "text": [
      "energy after relaxation with ISIF-2: -105.955\n"
     ]
    }
   ],
   "source": [
    "# step-1\n",
    "step1_done = False\n",
    "step2_done = False\n",
    "atoms = ase.io.read('TiO2_conventional.cif')\n",
    "\n",
    "path = \"TiO2/multistep/step1\"\n",
    "calc = ase.calculators.vasp.Vasp(\n",
    "            xc=\"pbe\",\n",
    "            kpts=[8,8,4],   # typically we prefer equal sampling [kpts*cell_length] in each direction\n",
    "            encut=520,\n",
    "            ediff=1e-5,\n",
    "            algo='fast',\n",
    "            prec='accurate',\n",
    "            nelmin=4,\n",
    "            nelm=100,\n",
    "            ismear=0,\n",
    "            sigma=0.05,\n",
    "            lwave=False,   \n",
    "            npar=2, \n",
    "            isif=2,\n",
    "            nsw=100,\n",
    "            ediffg=natom*(1e-3),\n",
    "            ibrion=2\n",
    "            )   \n",
    "\n",
    "atoms.set_calculator(calc)\n",
    "energy_step1 = mywrapper.get_energy(atoms, dir=path)\n",
    "calc = mywrapper.get_calculator(dir=path)\n",
    "\n",
    "if calc is not None:\n",
    "    step1_done = True\n",
    "    atoms = calc.atoms      # vasp writes latest relaxed coordinate sin the CONTCAR file\n",
    "\n",
    "print('energy after relaxation with ISIF-2: %5.3f' % (energy_step1))"
   ]
  },
  {
   "cell_type": "code",
   "execution_count": 11,
   "metadata": {},
   "outputs": [
    {
     "name": "stdout",
     "output_type": "stream",
     "text": [
      "energy after relaxation with ISIF-4: -105.958\n"
     ]
    }
   ],
   "source": [
    "# step-2\n",
    "\n",
    "if step1_done:\n",
    "    path = \"TiO2/multistep/step2\"\n",
    "    calc = ase.calculators.vasp.Vasp(\n",
    "            xc=\"pbe\",\n",
    "            kpts=kgrid,   # typically we prefer equal sampling [kpts*cell_length] in each direction\n",
    "            encut=520,\n",
    "            ediff=1e-5,\n",
    "            algo='fast',\n",
    "            prec='accurate',\n",
    "            nelmin=4,\n",
    "            nelm=100,\n",
    "            ismear=0,\n",
    "            sigma=0.05,\n",
    "            lwave=False,   \n",
    "            npar=2, \n",
    "            isif=4,\n",
    "            nsw=100,\n",
    "            ediffg=natom*(1e-3),\n",
    "            ibrion=2\n",
    "            )   \n",
    "\n",
    "    atoms.set_calculator(calc)\n",
    "    energy_step2 = mywrapper.get_energy(atoms, dir=path)\n",
    "    calc = mywrapper.get_calculator(dir=path)\n",
    "\n",
    "    if calc is not None:\n",
    "        step2_done = True\n",
    "        atoms = calc.atoms     # vasp writes latest relaxed coordinate sin the CONTCAR file\n",
    "    \n",
    "    print('energy after relaxation with ISIF-4: %5.3f' % (energy_step2))"
   ]
  },
  {
   "cell_type": "code",
   "execution_count": 12,
   "metadata": {},
   "outputs": [
    {
     "name": "stdout",
     "output_type": "stream",
     "text": [
      "\n",
      "Summary:\n",
      "Energy after single-step relaxation: -105.958 \n",
      "Energy after multi-step step-1: -105.955 \n",
      "Energy after multi-step step-2: -105.958 \n",
      "Energy after multi-step step-3: -105.960 \n"
     ]
    }
   ],
   "source": [
    "# do the third and final step\n",
    "# step-3\n",
    "\n",
    "if step2_done:\n",
    "    path = \"TiO2/multistep/step3\"\n",
    "    calc = ase.calculators.vasp.Vasp(\n",
    "            xc=\"pbe\",\n",
    "            kpts=kgrid,   # typically we prefer equal sampling [kpts*cell_length] in each direction\n",
    "            encut=520,\n",
    "            ediff=1e-5,\n",
    "            algo='fast',\n",
    "            prec='accurate',\n",
    "            nelmin=4,\n",
    "            nelm=100,\n",
    "            ismear=0,\n",
    "            sigma=0.05,\n",
    "            lwave=False,   \n",
    "            npar=2, \n",
    "            isif=3,\n",
    "            nsw=100,\n",
    "            ediffg=natom*(1e-3),\n",
    "            ibrion=2\n",
    "            )   \n",
    "\n",
    "    atoms.set_calculator(calc)\n",
    "    energy_multiStep = mywrapper.get_energy(atoms, dir=path)\n",
    "    calc = mywrapper.get_calculator(dir=path)\n",
    "\n",
    "    if calc is not None:\n",
    "        atoms = calc.atoms      # vasp writes latest relaxed coordinate sin the CONTCAR file\n",
    "        \n",
    "    \n",
    "    # let us know look at the energy difference\n",
    "    print('\\nSummary:')\n",
    "    print(\"Energy after single-step relaxation: %5.3f \" % (energy_oneStep))\n",
    "    print(\"Energy after multi-step step-1: %5.3f \" % (energy_step1))\n",
    "    print(\"Energy after multi-step step-2: %5.3f \" % (energy_step2))\n",
    "    print(\"Energy after multi-step step-3: %5.3f \" % (energy_multiStep))"
   ]
  }
 ],
 "metadata": {
  "kernelspec": {
   "display_name": "Python 3",
   "language": "python",
   "name": "python3"
  },
  "language_info": {
   "codemirror_mode": {
    "name": "ipython",
    "version": 3
   },
   "file_extension": ".py",
   "mimetype": "text/x-python",
   "name": "python",
   "nbconvert_exporter": "python",
   "pygments_lexer": "ipython3",
   "version": "3.6.8"
  }
 },
 "nbformat": 4,
 "nbformat_minor": 2
}

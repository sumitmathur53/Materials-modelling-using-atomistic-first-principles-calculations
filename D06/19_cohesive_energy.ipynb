{
 "cells": [
  {
   "cell_type": "code",
   "execution_count": 1,
   "metadata": {},
   "outputs": [],
   "source": [
    "alias qstat /opt/pbs/bin/qstat -u $USER"
   ]
  },
  {
   "cell_type": "code",
   "execution_count": 1,
   "metadata": {},
   "outputs": [],
   "source": [
    "import os, sys\n",
    "import ase\n",
    "import ase.calculators.vasp\n",
    "import ase.io \n",
    "import ase.units\n",
    "import ase.eos\n",
    "from ase.visualize import view\n",
    "import matplotlib\n",
    "from matplotlib import pyplot as plt\n",
    "import numpy as np\n",
    "import mywrapper"
   ]
  },
  {
   "cell_type": "markdown",
   "metadata": {},
   "source": [
    "The cohesive energy is defined as the energy required to bring the atoms together to form the solid. We will calculate it as the difference between the energies of isolated atom and atoms in solid. <br />\n",
    "\n",
    "The calculation of atom inside solid is straightforward, we simply get the energy of periodic solid and divide it be number of atoms. <br />\n",
    "\n",
    "For isolated atom, we need to put the atom inside the vacuum. We need to add enough vacuum to make sure that atom does not interact with its periodic image (periodic images will present due to planewave DFT)."
   ]
  },
  {
   "cell_type": "code",
   "execution_count": 2,
   "metadata": {},
   "outputs": [
    {
     "name": "stdout",
     "output_type": "stream",
     "text": [
      "-3.75147482\n"
     ]
    }
   ],
   "source": [
    "# energy of atoms inside solid\n",
    "\n",
    "# get atomic object\n",
    "a = 5.5\n",
    "cell = [[a,0,0], [0,a,0], [0,0,a]]\n",
    "atoms = ase.Atoms([ase.Atom('Cu', [0.0,0.0,0.0]), \n",
    "                    ase.Atom('Cu', [0.5*a, 0.5*a, 0.0*a]),\n",
    "                    ase.Atom('Cu', [0.5*a, 0.0*a, 0.5*a]),\n",
    "                    ase.Atom('Cu', [0.0*a, 0.5*a, 0.5*a]),])\n",
    "atoms.set_cell(cell)\n",
    "natom = len(atoms.get_positions())\n",
    "\n",
    "# set calculator to relax everything\n",
    "calc = ase.calculators.vasp.Vasp(\n",
    "            xc=\"pbe\",\n",
    "            kpts=[8,8,8],\n",
    "            encut=400,\n",
    "            ediff=1e-5,\n",
    "            algo='fast',\n",
    "            prec='accurate',\n",
    "            nelmin=4,\n",
    "            nelm=100,\n",
    "            ismear=0,\n",
    "            sigma=0.05,\n",
    "            lwave=False,   \n",
    "            npar=2, \n",
    "            isif=3,\n",
    "            ibrion=2,\n",
    "            nsw=100,\n",
    "            ediffg=(1e-3),\n",
    "            )\n",
    "atoms.set_calculator(calc)\n",
    "\n",
    "path = \"Cu/bulk/\"\n",
    "bulk_energy = mywrapper.get_energy(atoms, dir=path) / natom\n",
    "print(bulk_energy)\n",
    "ase.visualize.view(atoms)"
   ]
  },
  {
   "cell_type": "code",
   "execution_count": 3,
   "metadata": {},
   "outputs": [
    {
     "name": "stdout",
     "output_type": "stream",
     "text": [
      "Vacuum (A) | dE (meV) | if converged?\n",
      "----------------------------------------\n",
      "  6         278.574     0\n",
      "  8          30.934     0\n",
      " 10           2.685     0\n",
      " 12           0.555     1\n",
      " 14           0.382     1\n",
      " 16           0.000     1\n"
     ]
    },
    {
     "data": {
      "image/png": "[encoded data removed]",
      "text/plain": [
       "<Figure size 432x288 with 1 Axes>"
      ]
     },
     "metadata": {
      "needs_background": "light"
     },
     "output_type": "display_data"
    }
   ],
   "source": [
    "# now lets do vacuum convergence to make sure that there are no interactions\n",
    "\n",
    "atoms = ase.Atoms([ase.Atom('Cu', [0.0,0.0,0.0])])\n",
    "cell = np.array([[1,0,0],[0,1,0], [0,0,1]])\n",
    "\n",
    "vacuums = [6,8,10,12,14,16]\n",
    "energies = []\n",
    "\n",
    "pwd = os.getcwd()\n",
    "for vac in vacuums:\n",
    "    \n",
    "    os.chdir(pwd)\n",
    "    path = 'Cu/vaccum/%d' % (vac)\n",
    "    calc = ase.calculators.vasp.Vasp(\n",
    "            xc=\"pbe\",\n",
    "            kpts=[1,1,1],               # Notice that we are using only [1,1,1] here as system is non-periodic\n",
    "            encut=400,\n",
    "            ediff=1e-5,\n",
    "            algo='fast',\n",
    "            prec='accurate',\n",
    "            nelmin=4,\n",
    "            nelm=100,\n",
    "            ismear=0,\n",
    "            sigma=0.05,\n",
    "            lwave=False,   \n",
    "            npar=2, \n",
    "            )    \n",
    "    \n",
    "    atoms.set_cell(vac * cell, scale_atoms=True)\n",
    "    atoms.set_calculator(calc)\n",
    "    energy = mywrapper.get_energy(atoms, dir=path)\n",
    "    energies.append(energy)\n",
    "    os.chdir(path)\n",
    "    \n",
    "    \n",
    "\n",
    "ase.visualize.view(atoms)   \n",
    "    \n",
    "plt.figure(0)\n",
    "plt.plot(vacuums, energies, 'ro-')\n",
    "plt.xlabel('Vacuum (in A)')\n",
    "plt.ylabel('Energy (eV)')\n",
    "plt.title('vacuum convergence')\n",
    "\n",
    "\n",
    "diff_energies = abs(1000*(np.array(energies)-np.array(energies[-1])))\n",
    "print(\"Vacuum (A) | dE (meV) | if converged?\")\n",
    "print('-'*40)\n",
    "for v,e in zip(vacuums, diff_energies):\n",
    "    print('%3d %15.3f %5d' % (v, e, e<2))"
   ]
  },
  {
   "cell_type": "code",
   "execution_count": 4,
   "metadata": {},
   "outputs": [
    {
     "name": "stdout",
     "output_type": "stream",
     "text": [
      "Cohesive enegry of Cu: 3.728 eV/atom\n"
     ]
    }
   ],
   "source": [
    "print('Cohesive enegry of Cu: %5.3f eV/atom' % (energies[-3] - bulk_energy))"
   ]
  },
  {
   "cell_type": "markdown",
   "metadata": {},
   "source": [
    "The literature reported value is [`3.49 eV/atom`](https://sites.google.com/site/zrftum/home/l/physical-properties/cohesive-energy-of-elements). Could you think of some reasons why our value is higher?"
   ]
  },
  {
   "cell_type": "code",
   "execution_count": null,
   "metadata": {},
   "outputs": [],
   "source": []
  }
 ],
 "metadata": {
  "kernelspec": {
   "display_name": "Python 3",
   "language": "python",
   "name": "python3"
  },
  "language_info": {
   "codemirror_mode": {
    "name": "ipython",
    "version": 3
   },
   "file_extension": ".py",
   "mimetype": "text/x-python",
   "name": "python",
   "nbconvert_exporter": "python",
   "pygments_lexer": "ipython3",
   "version": "3.6.8"
  }
 },
 "nbformat": 4,
 "nbformat_minor": 2
}

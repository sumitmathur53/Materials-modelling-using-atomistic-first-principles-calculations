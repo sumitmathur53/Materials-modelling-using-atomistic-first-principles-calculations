{
 "cells": [
  {
   "cell_type": "code",
   "execution_count": 1,
   "metadata": {},
   "outputs": [],
   "source": [
    "alias qstat /opt/pbs/bin/qstat -u $USER"
   ]
  },
  {
   "cell_type": "code",
   "execution_count": 2,
   "metadata": {},
   "outputs": [],
   "source": [
    "qstat"
   ]
  },
  {
   "cell_type": "code",
   "execution_count": 1,
   "metadata": {},
   "outputs": [],
   "source": [
    "import os\n",
    "import ase\n",
    "import ase.calculators.vasp\n",
    "import ase.io \n",
    "import ase.units\n",
    "import ase.visualize\n",
    "import matplotlib\n",
    "from matplotlib import pyplot as plt\n",
    "import numpy as np\n",
    "import mywrapper\n",
    "\n",
    "os.chdir('/home/ankit/dft_class/S23/D06')\n",
    "pwd = os.getcwd()"
   ]
  },
  {
   "cell_type": "code",
   "execution_count": 2,
   "metadata": {},
   "outputs": [],
   "source": [
    "atoms = ase.io.read('conventional.cif')\n",
    "ase.visualize.view(atoms)  "
   ]
  },
  {
   "cell_type": "code",
   "execution_count": 6,
   "metadata": {},
   "outputs": [
    {
     "name": "stdout",
     "output_type": "stream",
     "text": [
      "Original Lattice Vectors\n",
      "[[3.8 0.  0. ]\n",
      " [0.  3.8 0. ]\n",
      " [0.  0.  3.8]]\n",
      "Stress-Tensor (GPa):  [14.580172 14.580172 14.580172 -0.       -0.        0.      ]\n",
      "\n",
      "Atomic-Symbol | position (A) | force (eV/A)\n",
      "---------------------------------------------\n",
      "Cu [0. 0. 0.] [-0. -0. -0.]\n",
      "Cu [0.  1.9 1.9] [0. 0. 0.]\n",
      "Cu [1.9 0.  1.9] [-0. -0. -0.]\n",
      "Cu [1.9 1.9 0. ] [-0.  0.  0.]\n",
      "\n",
      "Lattice-Vectors:\n",
      " [[3.8 0.  0. ]\n",
      " [0.  3.8 0. ]\n",
      " [0.  0.  3.8]]\n"
     ]
    }
   ],
   "source": [
    "os.chdir(pwd)\n",
    "\n",
    "# get stress and forces from simple SCF calculations\n",
    "atoms = ase.io.read('conventional.cif')\n",
    "print(\"Original Lattice Vectors\")\n",
    "print(atoms.get_cell())\n",
    "\n",
    "path = 'structure_relax/scf/'\n",
    "\n",
    "# set basic calculator\n",
    "calc = ase.calculators.vasp.Vasp(\n",
    "            xc=\"pbe\",\n",
    "            kpts=[6,6,6],\n",
    "            encut=300,\n",
    "            ediff=1e-5,\n",
    "            algo='fast',         # algo in vasp implemented in vasp, we can also add normal and vey fast , normal is robust\n",
    "            prec='accurate',     # set some parameter like it will set encut by self , but specify on your own\n",
    "            nelmin=4,            # minimum electronic/scf iterations\n",
    "            nelm=100,            # maximum elecreonic/scf iterations\n",
    "            ismear=0,\n",
    "            sigma=0.05,\n",
    "            lwave=False,   \n",
    "            npar=2,                # how many parallel calculation you want in CPUs \n",
    "            )\n",
    "    \n",
    "atoms.set_calculator(calc)\n",
    "energy = mywrapper.get_energy(atoms, dir=path)\n",
    "calc = mywrapper.get_calculator(dir=path)\n",
    "\n",
    "if calc is not None:\n",
    "    atoms = calc.atoms\n",
    "    print('Stress-Tensor (GPa): ', \n",
    "                      mywrapper.read_property(dir=path, property='stress')/ase.units.GPa)\n",
    "    forces = mywrapper.read_property(dir=path, property='forces')\n",
    "    print('\\nAtomic-Symbol | position (A) | force (eV/A)')\n",
    "    print('-'*45)\n",
    "    for i, atom in enumerate(atoms):\n",
    "        print(atom.symbol, atom.position, forces[i])   # forces shold we zero if atoms are not moving due to symmetry\n",
    "    print(\"\\nLattice-Vectors:\\n\", atoms.get_cell())\n",
    "\n",
    "ase.visualize.view(atoms)    "
   ]
  },
  {
   "cell_type": "code",
   "execution_count": 6,
   "metadata": {},
   "outputs": [
    {
     "data": {
      "image/png": "[encoded data removed]",
      "text/plain": [
       "<Figure size 432x288 with 1 Axes>"
      ]
     },
     "metadata": {
      "needs_background": "light"
     },
     "output_type": "display_data"
    },
    {
     "name": "stdout",
     "output_type": "stream",
     "text": [
      "[-1.135942 -1.135942 -1.135942 -0.       -0.       -0.      ]\n",
      "[21.197972 21.197972 21.197972 -0.       -0.       -0.      ]\n"
     ]
    }
   ],
   "source": [
    "# relax manually by setting the lattice-vectors\n",
    "\n",
    "atoms = ase.io.read('conventional.cif')\n",
    "\n",
    "alat = [x/10. for x in range(34,43)]\n",
    "energies = []\n",
    "\n",
    "# set basic calculator\n",
    "calc = ase.calculators.vasp.Vasp(\n",
    "            xc=\"pbe\",\n",
    "            kpts=[6,6,6],\n",
    "            encut=300,\n",
    "            ediff=1e-5,\n",
    "            algo='fast',\n",
    "            prec='accurate',\n",
    "            nelmin=4,\n",
    "            nelm=100,\n",
    "            ismear=0,\n",
    "            sigma=0.05,\n",
    "            lwave=False,   \n",
    "            npar=2,             \n",
    "            )\n",
    "\n",
    "for a in alat:\n",
    "    path = 'structure_relax/manual/%d' % (int(a*100))\n",
    "                                         \n",
    "    cell = [[a, 0, 0], [0, a, 0], [0, 0, a]]\n",
    "    atoms.set_cell(cell, scale_atoms=True)\n",
    "                                         \n",
    "    atoms.set_calculator(calc)\n",
    "    energy = mywrapper.get_energy(atoms, dir=path)\n",
    "    energies.append(energy)              \n",
    "                                                                            \n",
    "plt.plot(alat, energies, 'ro-')\n",
    "plt.xlabel('Lattice-Constant (A)')\n",
    "plt.ylabel('Energy (eV)')\n",
    "plt.title('Manual Lattice Constant Relaxation')\n",
    "plt.show()\n",
    "\n",
    "print(mywrapper.read_property(dir='structure_relax/manual/%d' % (int(3.6*100)), property='stress')/ase.units.GPa)\n",
    "print(mywrapper.read_property(dir='structure_relax/manual/%d' % (int(4.2*100)), property='stress')/ase.units.GPa)"
   ]
  },
  {
   "cell_type": "code",
   "execution_count": 25,
   "metadata": {},
   "outputs": [
    {
     "name": "stdout",
     "output_type": "stream",
     "text": [
      "Stress-Tensor (GPa):  [-0.063921 -0.063921 -0.063921 -0.        0.       -0.      ]\n",
      "\n",
      "Atomic-Symbol | position (A) | force (eV/A)\n",
      "---------------------------------------------\n",
      "Cu [0. 0. 0.] [-0. -0. -0.]\n",
      "Cu [0.         1.81503832 1.81503832] [-0.  0.  0.]\n",
      "Cu [1.81503832 0.         1.81503832] [ 0.  0. -0.]\n",
      "Cu [1.81503832 1.81503832 0.        ] [-0. -0. -0.]\n",
      "\n",
      "Lattice-vectors:\n",
      " [[ 3.63007663  0.         -0.        ]\n",
      " [-0.          3.63007663  0.        ]\n",
      " [ 0.          0.          3.63007663]]\n"
     ]
    }
   ],
   "source": [
    "# relax atoms using vasp internal algo\n",
    "# Note new-relaxation related parameters\n",
    "\n",
    "atoms = ase.io.read('conventional.cif')\n",
    "natom = len(atoms.get_positions())\n",
    "path = 'structure_relax/vasp_relax/'\n",
    "\n",
    "# set basic calculator\n",
    "calc = ase.calculators.vasp.Vasp(\n",
    "            xc=\"pbe\",\n",
    "            kpts=[6,6,6],\n",
    "            encut=300,\n",
    "            ediff=1e-5,\n",
    "            algo='fast',\n",
    "            prec='accurate',\n",
    "            nelmin=4,\n",
    "            nelm=100,\n",
    "            ismear=0,\n",
    "            sigma=0.05,\n",
    "            lwave=False,   \n",
    "            npar=2,                \n",
    "            \n",
    "            # following are new relaxation-related parameets\n",
    "            nsw=100,        # ionic movement maximum number of ionic step\n",
    "            ibrion=2,       # \n",
    "            isif=3          # degree of freedom \n",
    "            ediffg=1e-4,  # criterion of 0.1 meV/atom change in energy \n",
    "            )\n",
    "    \n",
    "atoms.set_calculator(calc)\n",
    "energy = mywrapper.get_energy(atoms, dir=path)\n",
    "calc = mywrapper.get_calculator(dir=path)\n",
    "\n",
    "if calc is not None:\n",
    "    atoms = calc.atoms\n",
    "    print('Stress-Tensor (GPa): ', calc.stress/ase.units.GPa)\n",
    "    forces = calc.forces\n",
    "    print('\\nAtomic-Symbol | position (A) | force (eV/A)')\n",
    "    print('-'*45)\n",
    "    for i, atom in enumerate(atoms):\n",
    "        print(atom.symbol, atom.position, forces[i])\n",
    "\n",
    "    print(\"\\nLattice-vectors:\\n\", atoms.get_cell())"
   ]
  },
  {
   "cell_type": "code",
   "execution_count": null,
   "metadata": {},
   "outputs": [],
   "source": [
    "# visualize relaxation\n",
    "!ase gui structure_relax/vasp_relax/OUTCAR"
   ]
  },
  {
   "cell_type": "code",
   "execution_count": null,
   "metadata": {},
   "outputs": [],
   "source": []
  }
 ],
 "metadata": {
  "kernelspec": {
   "display_name": "Python 3",
   "language": "python",
   "name": "python3"
  },
  "language_info": {
   "codemirror_mode": {
    "name": "ipython",
    "version": 3
   },
   "file_extension": ".py",
   "mimetype": "text/x-python",
   "name": "python",
   "nbconvert_exporter": "python",
   "pygments_lexer": "ipython3",
   "version": "3.6.8"
  }
 },
 "nbformat": 4,
 "nbformat_minor": 2
}

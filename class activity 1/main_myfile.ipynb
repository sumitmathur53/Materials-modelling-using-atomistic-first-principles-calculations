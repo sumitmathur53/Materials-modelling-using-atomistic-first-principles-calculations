{
 "cells": [
  {
   "cell_type": "code",
   "execution_count": 51,
   "metadata": {},
   "outputs": [],
   "source": [
    "# import ase modules\n",
    "import ase\n",
    "import ase.io\n",
    "import ase.build\n",
    "import ase.visualize\n",
    "\n",
    "# import numpy and other modules\n",
    "import os\n",
    "import numpy as np"
   ]
  },
  {
   "cell_type": "markdown",
   "metadata": {},
   "source": [
    "## Activity 1 [structures from scratch]: \n",
    "\n",
    "Quite often it is required that we are working on a new/hypotheical material for which the structure-file is not available from any of the material-databases and/or experiments. In such, we can use ASE to help in building a structure from scratch. \n",
    "\n",
    "Assuming that PbTiO3 is one such material for which we know the direct coordinates of atoms inside the unitcell, but we do now have structure-file available from any material database. Your objective is to use ASE to build the atomic-object with PbTiO3 structure and save the atomic-object as a POSCAR file. The atomic positions of atoms for PbTiO3 are:\n",
    "- cubic lattice with lattice-constant: 5 Angstrom\n",
    "- direct/fractional/reduced/scaled coordintes of atoms:\n",
    "     Pb at (0.5,0.5,0.5)\n",
    "     O at (0.5,0.5,0.0), (0.0,0.5,0.5), (0.5,0.0,0.5)\n",
    "     Ti at (0.0,0.0,0.0)\n",
    "save the final atomic object as a POSCAR format in a file named 'PbTiO3_POSCAR'     "
   ]
  },
  {
   "cell_type": "raw",
   "metadata": {},
   "source": [
    "Activity 1 [structures from scratch]: \n",
    "\n",
    "Quite often it is required that we are working on a new/hypotheical material for which the structure-file is not available from any of the material-databases and/or experiments. In such, we can use ASE to help in building a structure from scratch. \n",
    "\n",
    "Assuming that PbTiO3 is one such material for which we know the direct coordinates of atoms inside the unitcell, but we do now have structure-file available from any material database. Your objective is to use ASE to build the atomic-object with PbTiO3 structure and save the atomic-object as a POSCAR file. The atomic positions of atoms for PbTiO3 are:\n",
    "- cubic lattice with lattice-constant: 5 Angstrom\n",
    "- direct/fractional/reduced/scaled coordintes of atoms:\n",
    "     Pb at (0.5,0.5,0.5)\n",
    "     O at (0.5,0.5,0.0), (0.0,0.5,0.5), (0.5,0.0,0.5)\n",
    "     Ti at (0.0,0.0,0.0)\n",
    "save the final atomic object as a POSCAR format in a file named 'PbTiO3_POSCAR'     "
   ]
  },
  {
   "cell_type": "code",
   "execution_count": 52,
   "metadata": {},
   "outputs": [],
   "source": [
    "\n",
    "Pb = ase.Atom(position=(0.5,0.5,0.5), symbol='Pb')\n",
    "O1 = ase.Atom(position=(0.5,0.5,0.0), symbol='O')\n",
    "O2 = ase.Atom(position=(0.0,0.5,0.5), symbol='O')\n",
    "O3 = ase.Atom(position=(0.5,0.0,0.5), symbol='O')\n",
    "Ti = ase.Atom(position=(0.0,0.0,0.0), symbol='Ti')\n",
    "\n",
    "atoms = ase.Atoms((Pb,O1,O2,O3,Ti), cell=[1.0,1.0,1.0])\n",
    "cell = atoms.get_cell()\n",
    "\n",
    "cell *= 5.0\n",
    "\n",
    "atoms.set_cell(cell,scale_atoms = True)\n",
    "ase.visualize.view(atoms)\n",
    "\n",
    "ase.io.write('PbTiO3_POSCAR', atoms, format='vasp')"
   ]
  },
  {
   "cell_type": "code",
   "execution_count": 53,
   "metadata": {},
   "outputs": [],
   "source": [
    "positions = {'Pb': (0.5, 0.5, 0.5),\n",
    "             'O1': (0.5, 0.5, 0.0),\n",
    "             'O2': (0.0, 0.5, 0.5),\n",
    "             'O3': (0.5, 0.0, 0.5),\n",
    "             'Ti': (0.0, 0.0, 0.0)}\n",
    "\n",
    "# Create Atoms object\n",
    "atoms = ase.Atoms(symbols=['Pb', 'O', 'O', 'O', 'Ti'],\n",
    "              scaled_positions=[positions['Pb'],\n",
    "                         positions['O1'],\n",
    "                         positions['O2'],\n",
    "                         positions['O3'],\n",
    "                         positions['Ti']],\n",
    "              cell=[5, 5, 5])\n",
    "\n",
    "cell = atoms.get_cell()\n",
    "atoms.set_cell(cell,scale_atoms = True)\n",
    "\n",
    "cell *= 5.0\n",
    "\n",
    "ase.visualize.view(atoms)\n",
    "\n",
    "ase.io.write('pb_poscar',atoms,format=\"vasp\")"
   ]
  },
  {
   "cell_type": "markdown",
   "metadata": {},
   "source": [
    "## Activity 2 [super-lattices]:\n",
    "    \n",
    "Many interesting properties arise when we stack multiple materials together. These stackings are called 'superlattices'. \n",
    "\n",
    "In one-dimensional space, let say if I have a material with unitcell A and another material with untiecell B, then ABABABAB..., AABAAB..., AABBAABB..., AAABB, are all examples of superlattices. \n",
    "\n",
    "In two dimensions AABB would look something like:\n",
    "..........\n",
    "...AABB...\n",
    "...AABB...\n",
    "...AABB...\n",
    "...AABB...\n",
    "..........\n",
    "so only in one of the two-directions we have stacing. Similarly we can think of stacking in three-dimensions as a plane of one-material followed by a plane of another material and so on.\n",
    "\n",
    "In this activity, we would like to create one such superlattice of 2-unitcell-thick-PbTiO3 and 3-unitcell-thick-SrTiO3. We will have superlattice oriented along the z-direction, i.e., if we go along z direction we will see 2 unitcells of PbTiO3 and then 3 unitcells of SrTiO3 and then 2 unitcells of PbTiO3 and so on. But in the x and y directions, if we start with PbTiO3 then it would only be PbTiO3 and so on.\n",
    "\n",
    "The bulk files of PbTiO3 and SrTiO3 are provided as PbTiO3_POSCAR and SrTiO3_POSCAR.\n",
    "save the atomic object as a POSCAR format in a file named 'superlattice_POSCAR'"
   ]
  },
  {
   "cell_type": "raw",
   "metadata": {},
   "source": [
    "Activity 2 [super-lattices]:\n",
    "    \n",
    "Many interesting properties arise when we stack multiple materials together. These stackings are called 'superlattices'. \n",
    "\n",
    "In one-dimensional space, let say if I have a material with unitcell A and another material with untiecell B, then ABABABAB..., AABAAB..., AABBAABB..., AAABB, are all examples of superlattices. \n",
    "\n",
    "In two dimensions AABB would look something like:\n",
    "..........\n",
    "...AABB...\n",
    "...AABB...\n",
    "...AABB...\n",
    "...AABB...\n",
    "..........\n",
    "so only in one of the two-directions we have stacing. Similarly we can think of stacking in three-dimensions as a plane of one-material followed by a plane of another material and so on.\n",
    "\n",
    "In this activity, we would like to create one such superlattice of 2-unitcell-thick-PbTiO3 and 3-unitcell-thick-SrTiO3. We will have superlattice oriented along the z-direction, i.e., if we go along z direction we will see 2 unitcells of PbTiO3 and then 3 unitcells of SrTiO3 and then 2 unitcells of PbTiO3 and so on. But in the x and y directions, if we start with PbTiO3 then it would only be PbTiO3 and so on.\n",
    "\n",
    "The bulk files of PbTiO3 and SrTiO3 are provided as PbTiO3_POSCAR and SrTiO3_POSCAR.\n",
    "save the atomic object as a POSCAR format in a file named 'superlattice_POSCAR'"
   ]
  },
  {
   "cell_type": "code",
   "execution_count": 54,
   "metadata": {},
   "outputs": [],
   "source": [
    "positions = {'Sr': (0.5, 0.5, 0.5),\n",
    "             'O1': (0.5, 0.5, 0.0),\n",
    "             'O2': (0.0, 0.5, 0.5),\n",
    "             'O3': (0.5, 0.0, 0.5),\n",
    "             'Ti': (0.0, 0.0, 0.0)}\n",
    "\n",
    "# Create Atoms object\n",
    "atoms = ase.Atoms(symbols=['Sr', 'O', 'O', 'O', 'Ti'],\n",
    "              scaled_positions=[positions['Sr'],\n",
    "                         positions['O1'],\n",
    "                         positions['O2'],\n",
    "                         positions['O3'],\n",
    "                         positions['Ti']],\n",
    "              cell=[5, 5, 5])\n",
    "\n",
    "cell = atoms.get_cell()\n",
    "atoms.set_cell(cell,scale_atoms = True)\n",
    "\n",
    "\n",
    "# Save Atoms object as POSCAR file\n",
    "ase.visualize.view(atoms)\n",
    "\n",
    "ase.io.write('sr_poscar',atoms,format=\"vasp\")"
   ]
  },
  {
   "cell_type": "code",
   "execution_count": 55,
   "metadata": {},
   "outputs": [
    {
     "name": "stdout",
     "output_type": "stream",
     "text": [
      "Cell([5.0, 5.0, 5.0])\n",
      "[0. 0. 5.]\n",
      "5.0\n"
     ]
    },
    {
     "name": "stderr",
     "output_type": "stream",
     "text": [
      "C:\\Users\\skraw\\AppData\\Local\\Temp\\ipykernel_18240\\1633989787.py:13: DeprecationWarning: `product` is deprecated as of NumPy 1.25.0, and will be removed in NumPy 2.0. Please use `prod` instead.\n",
      "  pbtio3 *= (1,1,2)\n",
      "C:\\Users\\skraw\\AppData\\Local\\Temp\\ipykernel_18240\\1633989787.py:17: DeprecationWarning: `product` is deprecated as of NumPy 1.25.0, and will be removed in NumPy 2.0. Please use `prod` instead.\n",
      "  srtio3 *= (1,1,3)\n"
     ]
    }
   ],
   "source": [
    "# Load bulk structures of PbTiO3 and SrTiO3\n",
    "pbtio3 = ase.io.read('pb_poscar')\n",
    "srtio3 = ase.io.read('sr_poscar')\n",
    "\n",
    "# get the unitcell length of PbTiO3 in the z-direction\n",
    "cell = pbtio3.get_cell()\n",
    "print(cell)\n",
    "print(cell[2])\n",
    "z_pbtio3 = cell[2][2]\n",
    "print(z_pbtio3)\n",
    "\n",
    "# get two-reps of PbTiO3 in the z-direction\n",
    "pbtio3 *= (1,1,2)\n",
    "\n",
    "# get 3-reps of SrTiO3 in the z-direction\n",
    "cell = srtio3.get_cell()\n",
    "srtio3 *= (1,1,3)\n",
    "# we want to translate in z direction\n",
    "\n",
    "z_srtio3 = cell[2][2]\n",
    "\n",
    "# translate SrTiO3 in the z-direction by two times z_PbTiO3\n",
    "\n",
    "srtio3.translate([0,0,2*z_pbtio3])\n",
    "\n",
    "\n",
    "# combine atoms together\n",
    "\n",
    "atoms = pbtio3 + srtio3\n",
    "\n",
    "# new lattice vector now\n",
    "\n",
    "cell[2][2] = 2*z_pbtio3 + 3*z_srtio3\n",
    "atoms.set_cell(cell)\n",
    "\n",
    "ase.visualize.view(atoms)\n",
    "ase.io.write('superlattice_POSCAR', atoms, format='vasp')\n"
   ]
  },
  {
   "cell_type": "markdown",
   "metadata": {},
   "source": [
    "## Activity 3 [Vacancy defects]:\n",
    "    \n",
    "Defects are defined as deviations of atoms from otherwise periodic arrangement in solids. Defects play a major role in determing the material properties for many applications, such as in photovoltaics, light-emmision, etc. Some of the simple defects are: vacancy [atom missing from its normal positions], antisite [two-atoms switch their positions], and substitution [one two is changed by atom of other kind].\n",
    "\n",
    "In this activity we will use ASE to create a structure with one such defect. Remember that all the calculations that we will do with DFT will be periodic, i.e., even though we will use only one unitcell to calculate properties, the preoperties will correspond to as if infinite periodic arrangement of atoms are simulated. So if we want to have a defect (typically defects have very small concentrations like, 1 in 1000), we need to make a large supercell so that defect will not interact with its periodic image.\n",
    "\n",
    "Start with 'PbTiO3_POSCAR' file which is a unit cell of PbTiO3. Make a supercell of size 4x4x4 of PbTiO3 using ASE. Look into ASE documentation for use of 'del' function and use it to delete one randomly selected Pb atom  [check numpy for getting integer in a range] to have a Pb-vacancy defect.\n",
    "\n",
    "save the atomic object as a POSCAR format in a file named 'vacancy_POSCAR'"
   ]
  },
  {
   "cell_type": "code",
   "execution_count": 56,
   "metadata": {},
   "outputs": [
    {
     "name": "stdout",
     "output_type": "stream",
     "text": [
      "[0, 5, 10, 15, 20, 25, 30, 35, 40, 45, 50, 55, 60, 65, 70, 75, 80, 85, 90, 95, 100, 105, 110, 115, 120, 125, 130, 135, 140, 145, 150, 155, 160, 165, 170, 175, 180, 185, 190, 195, 200, 205, 210, 215, 220, 225, 230, 235, 240, 245, 250, 255, 260, 265, 270, 275, 280, 285, 290, 295, 300, 305, 310, 315]\n",
      "0\n"
     ]
    },
    {
     "name": "stderr",
     "output_type": "stream",
     "text": [
      "C:\\Users\\skraw\\AppData\\Local\\Temp\\ipykernel_18240\\1968547894.py:4: DeprecationWarning: `product` is deprecated as of NumPy 1.25.0, and will be removed in NumPy 2.0. Please use `prod` instead.\n",
      "  atoms *= (4,4,4)\n"
     ]
    }
   ],
   "source": [
    "atoms = ase.io.read('pb_poscar')\n",
    "\n",
    "# making super cell of size (4,4,4)\n",
    "atoms *= (4,4,4)\n",
    "\n",
    "\n",
    "# storing the atom index of all pb atoms in that super_cell\n",
    "pb_indices = []\n",
    "for atom in atoms:\n",
    "    if atom.symbol == 'Pb':\n",
    "        pb_indices.append(atom.index)\n",
    "print(pb_indices)\n",
    "\n",
    "# random index that we want to delete\n",
    "random_index_to_delete = np.random.randint(0,len(pb_indices))\n",
    "print(random_index_to_delete)\n",
    "\n",
    "pb_indices[random_index_to_delete]\n",
    "\n",
    "atoms[random_index_to_delete].symbol = 'Sr'\n",
    "\n",
    "ase.visualize.view(atoms)\n",
    "\n",
    "ase.io.write('vacancy_POSCAR', atoms, format='vasp')"
   ]
  },
  {
   "cell_type": "markdown",
   "metadata": {},
   "source": [
    "Activity 4 [antisite defects]:\n",
    "\n",
    "Defects are defined as deviations of atoms from otherwise periodic arrangement in solids. Defects play a major role in determing the material properties for many applications, such as in photovoltaics, light-emmision, etc. Some of the simple defects are: vacancy [atom missing from its normal positions], antisite [two-atoms switch their positions], and substitution [one two is changed by atom of other kind].\n",
    "\n",
    "In this activity we will use ASE to create a structure with one such defect. Remember that all the calculations that we will do with DFT will be periodic, i.e., even though we will use only one unitcell to calculate properties, the preoperties will correspond to as if infinite periodic arrangement of atoms are simulated. So if we want to have a defect (typically defects have very small concentrations like, 1 in 1000), we need to make a large supercell so that defect will not interact with its periodic image.\n",
    "\n",
    "Start with 'PbTiO3_POSCAR' file which is a unit cell of PbTiO3. Make a supercell of size 4x4x4 of PbTiO3 using ASE. Pick any random Pb atom [check numpy for getting integer in a range] and it neighboring Ti atom. Replace the position of these atoms to create an antisite Pb-Ti defect. \n",
    "\n",
    "NOTE that due to periodic boundary conditions, the neighbor Ti of Pb could be on the other-size of the simulation cell! To avoid this complexity, we should select the Pb atom which is not at the boundary of the cell!\n",
    "\n",
    "save the atomic object as a POSCAR format in a file named 'antisite_POSCAR'"
   ]
  },
  {
   "cell_type": "raw",
   "metadata": {},
   "source": [
    "Activity 4 [antisite defects]:\n",
    "\n",
    "Defects are defined as deviations of atoms from otherwise periodic arrangement in solids. Defects play a major role in determing the material properties for many applications, such as in photovoltaics, light-emmision, etc. Some of the simple defects are: vacancy [atom missing from its normal positions], antisite [two-atoms switch their positions], and substitution [one two is changed by atom of other kind].\n",
    "\n",
    "In this activity we will use ASE to create a structure with one such defect. Remember that all the calculations that we will do with DFT will be periodic, i.e., even though we will use only one unitcell to calculate properties, the preoperties will correspond to as if infinite periodic arrangement of atoms are simulated. So if we want to have a defect (typically defects have very small concentrations like, 1 in 1000), we need to make a large supercell so that defect will not interact with its periodic image.\n",
    "\n",
    "Start with 'PbTiO3_POSCAR' file which is a unit cell of PbTiO3. Make a supercell of size 4x4x4 of PbTiO3 using ASE. Pick any random Pb atom [check numpy for getting integer in a range] and it neighboring Ti atom. Replace the position of these atoms to create an antisite Pb-Ti defect. \n",
    "\n",
    "NOTE that due to periodic boundary conditions, the neighbor Ti of Pb could be on the other-size of the simulation cell! To avoid this complexity, we should select the Pb atom which is not at the boundary of the cell!\n",
    "\n",
    "save the atomic object as a POSCAR format in a file named 'antisite_POSCAR'"
   ]
  },
  {
   "cell_type": "markdown",
   "metadata": {},
   "source": [
    "## Get positions relative to unit cell.\n",
    "\n",
    "If wrap is True, atoms outside the unit cell will be wrapped into the cell in those directions with periodic boundary conditions so that the scaled coordinates are between zero and one.\n",
    "\n",
    "If any cell vectors are zero, the corresponding coordinates are evaluated as if the cell were completed using cell.complete(). This means coordinates will be Cartesian as long as the non-zero cell vectors span a Cartesian axis or plane."
   ]
  },
  {
   "cell_type": "code",
   "execution_count": 57,
   "metadata": {},
   "outputs": [
    {
     "name": "stderr",
     "output_type": "stream",
     "text": [
      "C:\\Users\\skraw\\AppData\\Local\\Temp\\ipykernel_18240\\3598635539.py:2: DeprecationWarning: `product` is deprecated as of NumPy 1.25.0, and will be removed in NumPy 2.0. Please use `prod` instead.\n",
      "  atoms *= (4,4,4)\n",
      "C:\\Users\\skraw\\AppData\\Local\\Temp\\ipykernel_18240\\3598635539.py:54: RuntimeWarning: invalid value encountered in sqrt\n",
      "  dist = np.sqrt(dist)\n"
     ]
    },
    {
     "name": "stdout",
     "output_type": "stream",
     "text": [
      "0.125\n",
      "[25, 30, 45, 50, 105, 110, 125, 130, 185, 190, 205, 210]\n",
      "125\n"
     ]
    }
   ],
   "source": [
    "atoms = ase.io.read('pb_poscar')\n",
    "atoms *= (4,4,4)\n",
    "\n",
    "\n",
    "\n",
    "scaled_positions = atoms.get_scaled_positions()\n",
    "positions = atoms.get_positions()\n",
    "symbols = atoms.get_chemical_symbols()\n",
    "\n",
    "print(scaled_positions[1][1])\n",
    "\n",
    "# find Pb atom which is sufficiently away from the boundaries\n",
    "\n",
    "pb_indices = []\n",
    "\n",
    "for i in range(len(symbols)):\n",
    "\n",
    "    if symbols[i] != \"Pb\":\n",
    "        continue\n",
    "    \n",
    "    if scaled_positions[i][0] > 0.75 or scaled_positions[i][1] < 0.25:\n",
    "        continue\n",
    "\n",
    "    if scaled_positions[i][1] > 0.75 or scaled_positions[i][1] < 0.25:\n",
    "        continue\n",
    "    \n",
    "    if scaled_positions[i][2] > 0.75 or scaled_positions[i][2] < 0.25:\n",
    "        continue\n",
    "    \n",
    "    pb_indices.append(i)\n",
    "\n",
    "print(pb_indices)\n",
    "\n",
    "\n",
    "# randomly choose Pb atom from all potential Pb atoms\n",
    "\n",
    "index = np.random.randint(0,len(pb_indices),)\n",
    "\n",
    "desired_pb_index = pb_indices[index]\n",
    "\n",
    "print(desired_pb_index)\n",
    "\n",
    "# find neighboring Ti and get its index\n",
    "\n",
    "neighbour_dist = 1e+6\n",
    "neighbour_index = -1\n",
    "\n",
    "for i in range(len(symbols)):\n",
    "    if symbols[i]!= \"Ti\":\n",
    "        continue\n",
    "\n",
    "    dist = np.sum((np.array(positions[i])) - np.array(positions[desired_pb_index])**2)\n",
    "\n",
    "    dist = np.sqrt(dist)\n",
    "\n",
    "    if dist < neighbour_dist:\n",
    "        neighbour_dist = dist\n",
    "        neighbour_index = i\n",
    "\n",
    "\n",
    "symbols[desired_pb_index] = 'Ti'\n",
    "symbols[neighbour_index] = 'Pb'\n",
    "\n",
    "atoms.set_chemical_symbols(symbols)\n",
    "\n",
    "ase.visualize.view(atoms)\n",
    "\n",
    "ase.io.write('antisite_POSCAR', atoms, format='vasp')\n"
   ]
  }
 ],
 "metadata": {
  "kernelspec": {
   "display_name": "Python 3",
   "language": "python",
   "name": "python3"
  },
  "language_info": {
   "codemirror_mode": {
    "name": "ipython",
    "version": 3
   },
   "file_extension": ".py",
   "mimetype": "text/x-python",
   "name": "python",
   "nbconvert_exporter": "python",
   "pygments_lexer": "ipython3",
   "version": "3.12.1"
  }
 },
 "nbformat": 4,
 "nbformat_minor": 2
}

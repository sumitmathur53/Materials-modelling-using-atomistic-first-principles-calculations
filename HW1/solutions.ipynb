{
 "cells": [
  {
   "cell_type": "code",
   "execution_count": 1,
   "metadata": {},
   "outputs": [],
   "source": [
    "# import ase modules\n",
    "import ase\n",
    "import ase.io\n",
    "import ase.build\n",
    "import ase.visualize\n",
    "\n",
    "# import numpy and other modules\n",
    "import os\n",
    "import numpy"
   ]
  },
  {
   "cell_type": "raw",
   "metadata": {},
   "source": [
    "Activity 1 [structures from scratch]: \n",
    "\n",
    "Quite often it is required that we are working on a new/hypotheical material for which the structure-file is not available from any of the material-databases and/or experiments. In such, we can use ASE to help in building a structure from scratch. \n",
    "\n",
    "Assuming that PbTiO3 is one such material for which we know the direct coordinates of atoms inside the unitcell, but we do now have structure-file available from any material database. Your objective is to use ASE to build the atomic-object with PbTiO3 structure and save the atomic-object as a POSCAR file. The atomic positions of atoms for PbTiO3 are:\n",
    "- cubic lattice with lattice-constant: 5 Angstrom\n",
    "- direct/fractional/reduced/scaled coordintes of atoms:\n",
    "     Pb at (0.5,0.5,0.5)\n",
    "     O at (0.5,0.5,0.0), (0.0,0.5,0.5), (0.5,0.0,0.5)\n",
    "     Ti at (0.0,0.0,0.0)\n",
    "save the final atomic object as a POSCAR format in a file named 'PbTiO3_POSCAR'     "
   ]
  },
  {
   "cell_type": "code",
   "execution_count": 4,
   "metadata": {},
   "outputs": [],
   "source": [
    "Pb = ase.Atom(position=(0.5,0.5,0.5), symbol='Pb')\n",
    "O1 = ase.Atom(position=(0.5, 0.5, 0.0), symbol='O')\n",
    "O2 = ase.Atom(position=(0.5, 0.0, 0.5), symbol='O')\n",
    "O3 = ase.Atom(position=(0.0, 0.5, 0.5), symbol='O')\n",
    "Ti = ase.Atom(position=(0.0, 0.0, 0.0), symbol='Ti')\n",
    "atoms = ase.Atoms((Pb, O1, O2, O3, Ti), cell=[1.0,1.0,1.0])\n",
    "cell = atoms.get_cell()\n",
    "cell *= 5.0                               # set the lattice constant\n",
    "atoms.set_cell(cell, scale_atoms=True)    # sclae_atoms \n",
    "ase.visualize.view(atoms)\n",
    "ase.io.write('PbTiO3_POSCAR', atoms, format='vasp')"
   ]
  },
  {
   "cell_type": "raw",
   "metadata": {},
   "source": [
    "Activity 2 [super-lattices]:\n",
    "    \n",
    "Many interesting properties arise when we stack multiple materials together. These stackings are called 'superlattices'. \n",
    "\n",
    "In one-dimensional space, let say if I have a material with unitcell A and another material with untiecell B, then ABABABAB..., AABAAB..., AABBAABB..., AAABB, are all examples of superlattices. \n",
    "\n",
    "In two dimensions AABB would look something like:\n",
    "..........\n",
    "...AABB...\n",
    "...AABB...\n",
    "...AABB...\n",
    "...AABB...\n",
    "..........\n",
    "so only in one of the two-directions we have stacing. Similarly we can think of stacking in three-dimensions as a plane of one-material followed by a plane of another material and so on.\n",
    "\n",
    "In this activity, we would like to create one such superlattice of 2-unitcell-thick-PbTiO3 and 3-unitcell-thick-SrTiO3. We will have superlattice oriented along the z-direction, i.e., if we go along z direction we will see 2 unitcells of PbTiO3 and then 3 unitcells of SrTiO3 and then 2 unitcells of PbTiO3 and so on. But in the x and y directions, if we start with PbTiO3 then it would only be PbTiO3 and so on.\n",
    "\n",
    "The bulk files of PbTiO3 and SrTiO3 are provided as PbTiO3_POSCAR and SrTiO3_POSCAR.\n",
    "save the atomic object as a POSCAR format in a file named 'superlattice_POSCAR'"
   ]
  },
  {
   "cell_type": "code",
   "execution_count": 2,
   "metadata": {},
   "outputs": [],
   "source": [
    "PbTiO3 = ase.io.read('PbTiO3_POSCAR')\n",
    "SrTiO3 = ase.io.read('SrTiO3_POSCAR')\n",
    "\n",
    "# get the unitcell length of PbTiO3 in the z-direction\n",
    "cell = PbTiO3.get_cell()\n",
    "z_PbTiO3 = cell[2][2]\n",
    "\n",
    "# get two-reps of PbTiO3 in the z-direction\n",
    "PbTiO3 *= (1,1,2)\n",
    "\n",
    "# get 3-reps of SrTiO3 in the z-direction\n",
    "cell = SrTiO3.get_cell()\n",
    "z_SrTiO3 = cell[2][2]\n",
    "SrTiO3 *= (1,1,3)\n",
    "\n",
    "# translate SrTiO3 in the z-direction by two times z_PbTiO3\n",
    "SrTiO3.translate([0, 0, 2*z_PbTiO3])\n",
    "\n",
    "# combine atoms together\n",
    "atoms = PbTiO3 + SrTiO3\n",
    "\n",
    "# fir lattice vectors now\n",
    "cell[2][2] = 2*z_PbTiO3 + 3*z_SrTiO3\n",
    "atoms.set_cell(cell)\n",
    "\n",
    "ase.visualize.view(atoms)\n",
    "ase.io.write('superlattice_POSCAR', atoms, format='vasp')"
   ]
  },
  {
   "cell_type": "raw",
   "metadata": {},
   "source": [
    "Activity 3 [Vacancy defects]:\n",
    "    \n",
    "Defects are defined as deviations of atoms from otherwise periodic arrangement in solids. Defects play a major role in determing the material properties for many applications, such as in photovoltaics, light-emmision, etc. Some of the simple defects are: vacancy [atom missing from its normal positions], antisite [two-atoms switch their positions], and substitution [one two is changed by atom of other kind].\n",
    "\n",
    "In this activity we will use ASE to create a structure with one such defect. Remember that all the calculations that we will do with DFT will be periodic, i.e., even though we will use only one unitcell to calculate properties, the preoperties will correspond to as if infinite periodic arrangement of atoms are simulated. So if we want to have a defect (typically defects have very small concentrations like, 1 in 1000), we need to make a large supercell so that defect will not interact with its periodic image.\n",
    "\n",
    "Start with 'PbTiO3_POSCAR' file which is a unit cell of PbTiO3. Make a supercell of size 4x4x4 of PbTiO3 using ASE. Look into ASE documentation for use of 'del' function and use it to delete one randomly selected Pb atom  [check numpy for getting integer in a range] to have a Pb-vacancy defect.\n",
    "\n",
    "save the atomic object as a POSCAR format in a file named 'vacancy_POSCAR'"
   ]
  },
  {
   "cell_type": "code",
   "execution_count": 6,
   "metadata": {},
   "outputs": [],
   "source": [
    "atoms = ase.io.read('PbTiO3_POSCAR')\n",
    "atoms *= (4,4,4)\n",
    "Pb_indices = [atom.index for atom in atoms if atom.symbol==\"Pb\"]\n",
    "to_delete_index = Pb_indices[numpy.random.randint(0,len(Pb_indices))]\n",
    "#del atoms[to_delete_index]\n",
    "atoms[to_delete_index].symbol = \"Sr\"\n",
    "ase.visualize.view(atoms)\n",
    "ase.io.write('vacancy_POSCAR', atoms, format='vasp')"
   ]
  },
  {
   "cell_type": "raw",
   "metadata": {},
   "source": [
    "Activity 4 [antisite defects]:\n",
    "\n",
    "Defects are defined as deviations of atoms from otherwise periodic arrangement in solids. Defects play a major role in determing the material properties for many applications, such as in photovoltaics, light-emmision, etc. Some of the simple defects are: vacancy [atom missing from its normal positions], antisite [two-atoms switch their positions], and substitution [one two is changed by atom of other kind].\n",
    "\n",
    "In this activity we will use ASE to create a structure with one such defect. Remember that all the calculations that we will do with DFT will be periodic, i.e., even though we will use only one unitcell to calculate properties, the preoperties will correspond to as if infinite periodic arrangement of atoms are simulated. So if we want to have a defect (typically defects have very small concentrations like, 1 in 1000), we need to make a large supercell so that defect will not interact with its periodic image.\n",
    "\n",
    "Start with 'PbTiO3_POSCAR' file which is a unit cell of PbTiO3. Make a supercell of size 4x4x4 of PbTiO3 using ASE. Pick any random Pb atom [check numpy for getting integer in a range] and it neighboring Ti atom. Replace the position of these atoms to create an antisite Pb-Ti defect. \n",
    "\n",
    "NOTE that due to periodic boundary conditions, the neighbor Ti of Pb could be on the other-size of the simulation cell! To avoid this complexity, we should select the Pb atom which is not at the boundary of the cell!\n",
    "\n",
    "save the atomic object as a POSCAR format in a file named 'antisite_POSCAR'"
   ]
  },
  {
   "cell_type": "code",
   "execution_count": 7,
   "metadata": {},
   "outputs": [],
   "source": [
    "atoms = ase.io.read('PbTiO3_POSCAR')\n",
    "atoms *= (4,4,4)\n",
    "\n",
    "scaled_positions = atoms.get_scaled_positions()\n",
    "positions = atoms.get_positions()\n",
    "symbols = atoms.get_chemical_symbols()\n",
    "\n",
    "# find Pb atom which is suffieicnetly away from the boundaries\n",
    "Pb_indices = []\n",
    "for i in range(len(symbols)):\n",
    "    if symbols[i] != \"Pb\":\n",
    "        continue\n",
    "    if scaled_positions[i][0] > 0.75 or scaled_positions[i][0] < 0.25:\n",
    "        continue\n",
    "    if scaled_positions[i][1] > 0.75 or scaled_positions[i][1] < 0.25:\n",
    "        continue\n",
    "    if scaled_positions[i][2] > 0.75 or scaled_positions[i][2] < 0.25:\n",
    "        continue\n",
    "    Pb_indices.append(i)    \n",
    "\n",
    "# randomly choose Pb atom from all potential Pb atoms   \n",
    "desired_Pb_index = Pb_indices[numpy.random.randint(0,len(Pb_indices))]  \n",
    "\n",
    "# find neighboring Ti and get its index\n",
    "neighbor_dist = 1e+6   # initialize to some large number\n",
    "neighbor_index = -1\n",
    "for i in range(len(symbols)):\n",
    "    if symbols[i] != 'Ti':\n",
    "        continue\n",
    "    dist = numpy.sum((numpy.array(positions[i]) - numpy.array(positions[desired_Pb_index]))**2)\n",
    "    dist = numpy.sqrt(dist)\n",
    "    if dist < neighbor_dist:\n",
    "        neighbor_dist = dist\n",
    "        neighbor_index = i\n",
    "\n",
    "symbols[desired_Pb_index] = 'Ti'\n",
    "symbols[neighbor_index] = 'Pb'\n",
    "atoms.set_chemical_symbols(symbols)\n",
    "ase.visualize.view(atoms)\n",
    "ase.io.write('antisite_POSCAR', atoms, format='vasp')"
   ]
  },
  {
   "cell_type": "code",
   "execution_count": null,
   "metadata": {},
   "outputs": [],
   "source": []
  }
 ],
 "metadata": {
  "kernelspec": {
   "display_name": "Python 3",
   "language": "python",
   "name": "python3"
  },
  "language_info": {
   "codemirror_mode": {
    "name": "ipython",
    "version": 3
   },
   "file_extension": ".py",
   "mimetype": "text/x-python",
   "name": "python",
   "nbconvert_exporter": "python",
   "pygments_lexer": "ipython3",
   "version": "3.6.8"
  }
 },
 "nbformat": 4,
 "nbformat_minor": 2
}

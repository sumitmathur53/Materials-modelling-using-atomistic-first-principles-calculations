{
 "cells": [
  {
   "cell_type": "markdown",
   "metadata": {},
   "source": [
    "### General Instructions: \n",
    "- Due Date: Sunday Jan 30, 5 PM \n",
    "- Submission: Please work on this Notebook and leave it in your account on the server. We have a crontab job which will copy your submission Notebook from your account at sharp 5 PM on Sunday, Jan 30. Any changes made to Notebook after 5 PM, Sunday, Jan 30 will not be reflected in the submitted assignment. DO NOT change the name or location of this file on the server.\n",
    "- __Plagiarism will not be tolerated in any form. Zero points will be awarded for the entire assignment in such cases__."
   ]
  },
  {
   "cell_type": "raw",
   "metadata": {},
   "source": [
    "Question 1: \n",
    "Total: 5 points\n",
    "Topic: functions and conditions/loops"
   ]
  },
  {
   "cell_type": "code",
   "execution_count": null,
   "metadata": {},
   "outputs": [],
   "source": [
    "# Answer 1:\n",
    "\n",
    "def get_fibonacci_term(n):\n",
    "    '''\n",
    "    Description: function to calucalte n-th term of the fibonacci sequence\n",
    "    Input: n: term to calculate. \n",
    "           - The indexing will start from 1. So the first term is 1, \n",
    "           2nd is 1, 3rd is 2, 4th is 3, and so on.\n",
    "           - implement a test to make sure that n >= 1 inside the function. \n",
    "           - if n <=0, print an error message     \n",
    "    Output: term: value corresponding to the nth term\n",
    "    '''\n",
    "    \n",
    "    # write your code here\n",
    "    \n",
    "    \n",
    "    return term"
   ]
  },
  {
   "cell_type": "raw",
   "metadata": {},
   "source": [
    "Question 2: \n",
    "Total: 15 points\n",
    "For a hypothetical diatomic gas, X2, the energy of a molecule is a function of bond-length, r, and is given by: E(r) = r^2 - 5*r + 6\n",
    "- (a) [5 points] Using numpy, create a vector/array with 100 points between r=1 and r=4 (both inclusive) and calculate the energy of molecule for each of these 100 bond-lengths\n",
    "- (b) [5 points] Plot E(r) vs r for 1<=r<=4 using matplotlib\n",
    "- (d) [5 points] Use numpy to find at what bond-length [between 1 and 4], the minimum in energy is obtained\n",
    "\n",
    "- Your program should print r and E(r) from part(a) in a nice readable form: \n",
    "  - similar to a tabular form with col-1 being r and col-2 being E(r); \n",
    "  - one entry of r, E(r) on each line\n",
    "- Your program should plot the required graph of part(b) using black symbols and dashed line with proper x- and y-axis labels, and title of the plot.\n",
    "- Your program should print the bond-length obtained in the part(d).    "
   ]
  },
  {
   "cell_type": "code",
   "execution_count": null,
   "metadata": {},
   "outputs": [],
   "source": [
    "# Answer 2:"
   ]
  },
  {
   "cell_type": "raw",
   "metadata": {},
   "source": [
    "Question 3: \n",
    "Total: 30 points [15 points for reading xyz file and 15 to write POSCAR file]\n",
    "Topic: disk i/o"
   ]
  },
  {
   "cell_type": "code",
   "execution_count": null,
   "metadata": {},
   "outputs": [],
   "source": [
    "# Answer 3:\n",
    "\n",
    "def from_xyz_to_POSCAR(xyz_filename):\n",
    "    '''\n",
    "    Description: function to read given file (whose filename is given as input) \n",
    "             and convert it into the POSCAR file. \n",
    "        The input file name is passed as an input to function.\n",
    "    Input: xyz_filename; filename of xyz file to read the structure from\n",
    "    Output: Name of the POSCAR file.\n",
    "    '''\n",
    "    \n",
    "    return poscar_filename"
   ]
  }
 ],
 "metadata": {
  "kernelspec": {
   "display_name": "Python 3",
   "language": "python",
   "name": "python3"
  },
  "language_info": {
   "codemirror_mode": {
    "name": "ipython",
    "version": 3
   },
   "file_extension": ".py",
   "mimetype": "text/x-python",
   "name": "python",
   "nbconvert_exporter": "python",
   "pygments_lexer": "ipython3",
   "version": "3.6.8"
  }
 },
 "nbformat": 4,
 "nbformat_minor": 2
}

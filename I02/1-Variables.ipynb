{
 "cells": [
  {
   "cell_type": "markdown",
   "metadata": {},
   "source": [
    "# Basics of Python\n",
    "\n",
    "\n",
    "The first very-handy command in Python is the print statement:"
   ]
  },
  {
   "cell_type": "code",
   "execution_count": 1,
   "metadata": {},
   "outputs": [
    {
     "name": "stdout",
     "output_type": "stream",
     "text": [
      "Hello World\n",
      "My name is Ankit Jain\n"
     ]
    }
   ],
   "source": [
    "print(\"Hello World\")\n",
    "print(\"My name is \" + \"Ankit Jain\")"
   ]
  },
  {
   "cell_type": "markdown",
   "metadata": {},
   "source": [
    "## Variables\n",
    "In Python, unlike many other languages, we don't have to declare variables in advance. We can store values and use variables as and when we need them `without` declaring the `type` of used variables. Python is intelligent enough to determine the variable `type` from values. The values stored in these variables (and hence variable types in Python) falls _predominantly_ into one of the following categories:"
   ]
  },
  {
   "cell_type": "code",
   "execution_count": null,
   "metadata": {},
   "outputs": [],
   "source": []
  },
  {
   "cell_type": "markdown",
   "metadata": {},
   "source": [
    "### 1. Numeric and Boolean\n",
    "(1, 3.2, -7, etc): numbers can be integers or floating points. Boolean can either be `True`(non-zero) or `False` (zero). For instance:"
   ]
  },
  {
   "cell_type": "code",
   "execution_count": 2,
   "metadata": {},
   "outputs": [
    {
     "name": "stdout",
     "output_type": "stream",
     "text": [
      "2.6666666666666665\n",
      "2.6666666666666665\n"
     ]
    }
   ],
   "source": [
    "a = 8.0\n",
    "b = 8\n",
    "c = 3\n",
    "print(a/c)\n",
    "print(b/c)"
   ]
  },
  {
   "cell_type": "code",
   "execution_count": 3,
   "metadata": {},
   "outputs": [
    {
     "data": {
      "text/plain": [
       "int"
      ]
     },
     "execution_count": 3,
     "metadata": {},
     "output_type": "execute_result"
    }
   ],
   "source": [
    "type(b)"
   ]
  },
  {
   "cell_type": "markdown",
   "metadata": {},
   "source": [
    "Notice the finite precision of numbers in the above example!"
   ]
  },
  {
   "cell_type": "code",
   "execution_count": 4,
   "metadata": {},
   "outputs": [
    {
     "name": "stdout",
     "output_type": "stream",
     "text": [
      "2.0\n",
      "True\n"
     ]
    }
   ],
   "source": [
    "a = 6\n",
    "b = 3\n",
    "print(a/b)\n",
    "print(a/b == 2)"
   ]
  },
  {
   "cell_type": "markdown",
   "metadata": {},
   "source": [
    "Some algebraic operations that we can perform with numbers are: `+`, `-`, `*`, `/`, `**` [power], `%` [mod function, i.e., remainder of `a/b`  is `a % b`].\n",
    "\n",
    "Some conditions/comparisons on numbers: `<`, `>`, `>=`, `<=`, `==`."
   ]
  },
  {
   "cell_type": "code",
   "execution_count": 5,
   "metadata": {},
   "outputs": [
    {
     "name": "stdout",
     "output_type": "stream",
     "text": [
      "2\n"
     ]
    }
   ],
   "source": [
    "a = 8\n",
    "b = 3\n",
    "print(8%3)"
   ]
  },
  {
   "cell_type": "code",
   "execution_count": 6,
   "metadata": {},
   "outputs": [
    {
     "name": "stdout",
     "output_type": "stream",
     "text": [
      "False\n",
      "False\n",
      "11\n",
      "8\n",
      "2\n"
     ]
    }
   ],
   "source": [
    "print(8 < 3)\n",
    "print( 8 == 3)\n",
    "print(8+3)\n",
    "print(2**3)\n",
    "print(8%3)   # 8 is 2*3 + 2, so the remainder is 2"
   ]
  },
  {
   "cell_type": "markdown",
   "metadata": {},
   "source": [
    "### 2. Strings \n",
    "('Hello', \"Hello\", etc): Strings variables in Python can be initialised both single ['] or double [\"] quotes. We can concatenate two strings by using `+`."
   ]
  },
  {
   "cell_type": "code",
   "execution_count": 7,
   "metadata": {},
   "outputs": [
    {
     "name": "stdout",
     "output_type": "stream",
     "text": [
      "ajgfdjkafsbhjjkh\n",
      "ajgfdjkafsbhjjkhbhjjkhbhjjkhbhjjkhbhjjkh\n"
     ]
    }
   ],
   "source": [
    "a = \"ajgfdjkafs\"\n",
    "b = 'bhjjkh'\n",
    "c = a + b\n",
    "d = a + 5*b\n",
    "print(c)\n",
    "print(d)"
   ]
  },
  {
   "cell_type": "raw",
   "metadata": {},
   "source": [
    "Notice what happened with addition and multiplication on strings."
   ]
  },
  {
   "cell_type": "markdown",
   "metadata": {},
   "source": [
    "The characters of string can be assessed by indexed starting from 0. For instance, try:"
   ]
  },
  {
   "cell_type": "code",
   "execution_count": null,
   "metadata": {},
   "outputs": [],
   "source": [
    "a = \"My Name is Mr. X\"\n",
    "print(a[0])\n",
    "print(a[1])\n",
    "print(a[2])\n",
    "print(a[-1])\n",
    "print(a[-2])\n",
    "print(a[0:5])\n",
    "print(a[1:5])\n",
    "print(a[:4])\n"
   ]
  },
  {
   "cell_type": "markdown",
   "metadata": {},
   "source": [
    "### 3. List\n",
    "([1, \"a\", \"2\", c]): List are arrangements of variables. These variables can be numbers, dict, list, dict, etc. \n",
    "    We can get two-dimensional list as list of lists. List-elements are indexed automatically by Python starting from 0. "
   ]
  },
  {
   "cell_type": "code",
   "execution_count": null,
   "metadata": {},
   "outputs": [],
   "source": [
    "a = [\"a\", 1, 'a2', ['b', 1, 'b2']]\n",
    "print(a[0])\n",
    "print(a[2])\n",
    "print(a[3])\n",
    "print(a[3][0])\n",
    "print(a[3][1])"
   ]
  },
  {
   "cell_type": "markdown",
   "metadata": {},
   "source": [
    "To access sub-list of list we can pass index range to list. For instance, \n",
    "  - to get a list of first 3 elements of list `a` we can do `a[0:3]` or simply `a[:3]`,\n",
    "  - to get list of elements start-last, `a[start:last+1]`, Note that if we want to get element indexed 4 (5th element, remember 0-indexing), we do `a[4]`. But for elements 3-4, we do `a[3:5]` since ending-index is not -included.\n",
    "  - to get list of discrete (non-adjacent) elements, `[a[1], a[4], a[2]]`\n",
    "  - to get sublist from end: `a[-4:]`, a[-2:-1], etc."
   ]
  },
  {
   "cell_type": "markdown",
   "metadata": {},
   "source": [
    "To add a element to list simple use append:"
   ]
  },
  {
   "cell_type": "code",
   "execution_count": null,
   "metadata": {},
   "outputs": [],
   "source": [
    "a = [1,2,3]\n",
    "a.append(4)\n",
    "print(a)"
   ]
  },
  {
   "cell_type": "markdown",
   "metadata": {},
   "source": [
    "To check element exist in list:"
   ]
  },
  {
   "cell_type": "code",
   "execution_count": null,
   "metadata": {},
   "outputs": [],
   "source": [
    "a = ['a', 'b', 'c']\n",
    "if 'A' in a:\n",
    "  print(\"Hi\")\n",
    "if 'd' in a:\n",
    "  print(\"Bye\")"
   ]
  },
  {
   "cell_type": "raw",
   "metadata": {},
   "source": [
    "Notice the use of indentation here inside the for loop. This is enforced by Python."
   ]
  },
  {
   "cell_type": "markdown",
   "metadata": {},
   "source": [
    "To get the number of elements in list:"
   ]
  },
  {
   "cell_type": "code",
   "execution_count": null,
   "metadata": {},
   "outputs": [],
   "source": [
    "a = ['a', 1]\n",
    "print(len(a))"
   ]
  },
  {
   "cell_type": "markdown",
   "metadata": {},
   "source": [
    "To change the value of an element in a list:"
   ]
  },
  {
   "cell_type": "code",
   "execution_count": null,
   "metadata": {},
   "outputs": [],
   "source": [
    "a = [1,2,3]\n",
    "a[2] = 4\n",
    "print(a)"
   ]
  },
  {
   "cell_type": "code",
   "execution_count": null,
   "metadata": {},
   "outputs": [],
   "source": [
    "from copy import deepcopy\n",
    "a = [1,2,3]\n",
    "c = deepcopy(a)\n",
    "c[0] = 4\n",
    "print(a)\n",
    "print(c)"
   ]
  },
  {
   "cell_type": "markdown",
   "metadata": {},
   "source": [
    "__IMPORTANT NOTE__: lists and dictionary cannot be copied simply by doing `a = b`. We need to do `a = copy(b)`, in order to get a copy of `a`. Else, if we simply do `a = b`, then modifying `b` will change the `a` as well!"
   ]
  },
  {
   "cell_type": "markdown",
   "metadata": {},
   "source": [
    "### 4. Dictionary\n",
    "({\"a\" : 2, \"b\" : 3}): dictionary are a collection of key-pair values. There is no default-indexing in dictionary and we access the elements of dictionary by keys."
   ]
  },
  {
   "cell_type": "code",
   "execution_count": null,
   "metadata": {},
   "outputs": [],
   "source": [
    "mydict = {\"a\": 1, \"b\": 2}\n",
    "print(mydict['a'])\n",
    "print(mydict['b'])\n",
    "print(mydict.keys())"
   ]
  },
  {
   "cell_type": "code",
   "execution_count": null,
   "metadata": {},
   "outputs": [],
   "source": [
    "mydict = {4:3}\n",
    "mydict[4]"
   ]
  },
  {
   "cell_type": "raw",
   "metadata": {},
   "source": [
    "Notice that while dictionaries are defined in curly braces (`{}`), lists are defined in square brackets (`[]`). We can have list of dictionaries or dictionary of lists."
   ]
  },
  {
   "cell_type": "markdown",
   "metadata": {},
   "source": [
    "Once initialised, we can add elements into dictionary:"
   ]
  },
  {
   "cell_type": "code",
   "execution_count": null,
   "metadata": {},
   "outputs": [],
   "source": [
    "a = {}\n",
    "a['a'] = 1\n",
    "a['b'] = 2\n",
    "print(a)\n",
    "print(a.values())"
   ]
  },
  {
   "cell_type": "code",
   "execution_count": null,
   "metadata": {},
   "outputs": [],
   "source": [
    "if 1 in a.values():\n",
    "    print('Hi')"
   ]
  },
  {
   "cell_type": "raw",
   "metadata": {},
   "source": [
    "Other functions, like that to change values, copy, check if a key exist in given dict, etc, are similar to those in list."
   ]
  }
 ],
 "metadata": {
  "kernelspec": {
   "display_name": "Python 3",
   "language": "python",
   "name": "python3"
  },
  "language_info": {
   "codemirror_mode": {
    "name": "ipython",
    "version": 3
   },
   "file_extension": ".py",
   "mimetype": "text/x-python",
   "name": "python",
   "nbconvert_exporter": "python",
   "pygments_lexer": "ipython3",
   "version": "3.6.8"
  }
 },
 "nbformat": 4,
 "nbformat_minor": 2
}

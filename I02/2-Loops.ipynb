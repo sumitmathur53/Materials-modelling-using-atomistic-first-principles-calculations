{
 "cells": [
  {
   "cell_type": "markdown",
   "metadata": {},
   "source": [
    "Python forces users to keep your code readable by using indentations. Unlike in other languages, where one could use `{`, or `(` or `do`, etc to specify starting/ending of conditional statements, loops, functions, etc, Python forces users to use indented blocks!\n",
    "\n",
    "Like in any other programming language, Python also has `if/else`, `while`, and `for` loops."
   ]
  },
  {
   "cell_type": "markdown",
   "metadata": {},
   "source": [
    "##  if/else loop/condition\n",
    "if/else loops decides simple execution of program depending if the given condition is satisfied."
   ]
  },
  {
   "cell_type": "code",
   "execution_count": null,
   "metadata": {},
   "outputs": [],
   "source": [
    "a = 4\n",
    "if (a==4):\n",
    "  print(\"a is 4\")\n",
    "  print(\"secong line\")\n",
    "else:\n",
    "  print(\"a is not 4\")"
   ]
  },
  {
   "cell_type": "markdown",
   "metadata": {},
   "source": [
    "__Note__ the use of indentation. Also the use of `==` to see if left and right sides are equal. "
   ]
  },
  {
   "cell_type": "markdown",
   "metadata": {},
   "source": [
    "loops can be nested:"
   ]
  },
  {
   "cell_type": "code",
   "execution_count": null,
   "metadata": {},
   "outputs": [],
   "source": [
    "a = 4\n",
    "if (a == 3):\n",
    "  print(\"a is 3\")\n",
    "elif (a == 5):\n",
    "  print(\"a is 5\")\n",
    "else:\n",
    "  print(\"a is neither 3 nor 5\")"
   ]
  },
  {
   "cell_type": "code",
   "execution_count": null,
   "metadata": {},
   "outputs": [],
   "source": [
    "a = [\"alpha\", \"beta\", \"gamma\"]\n",
    "if \"delta\" in a:\n",
    "  print(\"delta is in a-list\")\n",
    "else:\n",
    "  print(\"delta not found\")"
   ]
  },
  {
   "cell_type": "markdown",
   "metadata": {},
   "source": [
    "__Note__ the use of Python keyword `in`"
   ]
  },
  {
   "cell_type": "code",
   "execution_count": null,
   "metadata": {},
   "outputs": [],
   "source": [
    "a = {\"a\" : 1, \"b\": 2, \"c\" : 3}\n",
    "if \"d\" in a.keys():\n",
    "  print(a[\"d\"])\n",
    "else:\n",
    "  print('\"d\" is not a valid key')"
   ]
  },
  {
   "cell_type": "code",
   "execution_count": null,
   "metadata": {},
   "outputs": [],
   "source": [
    "5 != 4"
   ]
  },
  {
   "cell_type": "code",
   "execution_count": null,
   "metadata": {},
   "outputs": [],
   "source": [
    "a = 3\n",
    "if (a%2 == 0):\n",
    "  print(\"a is even\")\n",
    "else:\n",
    "  print(\"a is odd\")"
   ]
  },
  {
   "cell_type": "code",
   "execution_count": null,
   "metadata": {},
   "outputs": [],
   "source": [
    "a = 2\n",
    "if (a % 2 == 0 and a < 3):\n",
    "  print(\"a is even and less than 3\")\n",
    "if (a % 2 == 0 and a > 3):\n",
    "  print(\"a is even and greater than 3\")\n",
    "if (a % 2 == 0 or a % 3 ==0):\n",
    "  print(\"a is either a multiple 2 or 3\")"
   ]
  },
  {
   "cell_type": "markdown",
   "metadata": {},
   "source": [
    "__Note__ the use of `and` and  `or` logical operators here."
   ]
  },
  {
   "cell_type": "markdown",
   "metadata": {},
   "source": [
    "##  while loop \n",
    "the commands inside `while` loop keep on getting executed in a loop as long as `while` loop condition is satisfied:"
   ]
  },
  {
   "cell_type": "code",
   "execution_count": null,
   "metadata": {},
   "outputs": [],
   "source": [
    "a = 0\n",
    "while(a < 5):\n",
    "  a = a + 1\n",
    "  print(a**2)"
   ]
  },
  {
   "cell_type": "code",
   "execution_count": null,
   "metadata": {},
   "outputs": [],
   "source": [
    "a = True\n",
    "while(a):\n",
    "  print(a)\n",
    "  if a == True:\n",
    "     a = False"
   ]
  },
  {
   "cell_type": "code",
   "execution_count": null,
   "metadata": {},
   "outputs": [],
   "source": [
    "a = 0\n",
    "while(1):\n",
    "  print(a)\n",
    "  a = a+1\n",
    "  if(a == 6):\n",
    "    break\n",
    "print('out')"
   ]
  },
  {
   "cell_type": "markdown",
   "metadata": {},
   "source": [
    "__Note__ that here we did something very different. We set the condition of while loop to True, which means it should keep getting executed forever. However, inside the while loop, we said that if `a` is divisible by 3, then `break`. `break` is simply used to exit from the loop and execute the command immediately following the loop. It can also be used with `for` loops."
   ]
  },
  {
   "cell_type": "code",
   "execution_count": null,
   "metadata": {},
   "outputs": [],
   "source": [
    "a = 0\n",
    "while(True):\n",
    "  a = a + 1\n",
    "  if(a % 3 == 0):\n",
    "    continue\n",
    "  if(a % 5 == 0):\n",
    "    break\n",
    "  print(a)"
   ]
  },
  {
   "cell_type": "markdown",
   "metadata": {},
   "source": [
    "In this case, examine the output carefully. You will notice that 3 is not printed. The reason for this is the use of `continue` statement. `continue` statement tells Python to skip the current iteration from this line onward inside the loop and skip to next iteration."
   ]
  },
  {
   "cell_type": "markdown",
   "metadata": {},
   "source": [
    "## for loop\n",
    "One of the most useful loops in Python is the `for` loop. The `for` loop is used to iterate over certain collections of objects. It has several syntax which are highlighted here:"
   ]
  },
  {
   "cell_type": "code",
   "execution_count": null,
   "metadata": {},
   "outputs": [],
   "source": [
    "for i in range(10,0,-2):\n",
    "  print(i)\n"
   ]
  },
  {
   "cell_type": "code",
   "execution_count": null,
   "metadata": {},
   "outputs": [],
   "source": [
    "range?"
   ]
  },
  {
   "cell_type": "markdown",
   "metadata": {},
   "source": [
    "__Note__ the use of `range` function here. [Search Google to know the exact functionality of `range`](https://www.w3schools.com/python/ref_func_range.asp)."
   ]
  },
  {
   "cell_type": "code",
   "execution_count": null,
   "metadata": {},
   "outputs": [],
   "source": [
    "a = [\"a\", \"b\", \"c\"]\n",
    "for i in a:\n",
    "  print(i)"
   ]
  },
  {
   "cell_type": "code",
   "execution_count": null,
   "metadata": {},
   "outputs": [],
   "source": [
    "a = [\"a\", \"b\", \"c\"]\n",
    "for _ in range(len(a)):\n",
    "  print(a[_])"
   ]
  },
  {
   "cell_type": "code",
   "execution_count": null,
   "metadata": {},
   "outputs": [],
   "source": [
    "a = {\"a\" : 1, \"b\": 2, \"c\" : 3}\n",
    "for key in a.keys(): \n",
    " print(key, a[key])"
   ]
  },
  {
   "cell_type": "code",
   "execution_count": null,
   "metadata": {},
   "outputs": [],
   "source": [
    "a = [\"a\", \"b\", \"c\"]\n",
    "A = [\"A\", \"B\", \"C\"]\n",
    "for i,j in zip(a,A):\n",
    "  print(i,j)"
   ]
  },
  {
   "cell_type": "markdown",
   "metadata": {},
   "source": [
    "__Note__ the use of `zip` function here. [Learn more about `zip` function here.](https://www.w3schools.com/python/ref_func_zip.asp)"
   ]
  },
  {
   "cell_type": "code",
   "execution_count": null,
   "metadata": {},
   "outputs": [],
   "source": [
    "a = [\"a\", \"b\", \"c\"]\n",
    "for i, j in enumerate(a):\n",
    "  print(i,j)"
   ]
  },
  {
   "cell_type": "markdown",
   "metadata": {},
   "source": [
    "__Note__ the use of `enumerate` function here. [learn more about `enumerate` function here.](https://www.w3schools.com/python/ref_func_enumerate.asp)"
   ]
  },
  {
   "cell_type": "markdown",
   "metadata": {},
   "source": [
    "## Combining loops/ list-comprehension:\n",
    "Some common combination of `if`/`for` loops in Python:"
   ]
  },
  {
   "cell_type": "code",
   "execution_count": null,
   "metadata": {},
   "outputs": [],
   "source": [
    "a = range(0,10)\n",
    "res = [i for i in a if (i%2 == 0)]\n",
    "print(res)"
   ]
  },
  {
   "cell_type": "code",
   "execution_count": null,
   "metadata": {},
   "outputs": [],
   "source": [
    "odd_square = [x ** 2 for x in range(1, 11) if x % 2 == 1] \n",
    "print(odd_square) "
   ]
  },
  {
   "cell_type": "code",
   "execution_count": null,
   "metadata": {},
   "outputs": [],
   "source": []
  }
 ],
 "metadata": {
  "kernelspec": {
   "display_name": "Python 3",
   "language": "python",
   "name": "python3"
  },
  "language_info": {
   "codemirror_mode": {
    "name": "ipython",
    "version": 3
   },
   "file_extension": ".py",
   "mimetype": "text/x-python",
   "name": "python",
   "nbconvert_exporter": "python",
   "pygments_lexer": "ipython3",
   "version": "3.6.8"
  }
 },
 "nbformat": 4,
 "nbformat_minor": 2
}

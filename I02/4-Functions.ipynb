{
 "cells": [
  {
   "cell_type": "markdown",
   "metadata": {},
   "source": [
    "Functions offers a convenient way to use the same block of code at different places in a program with different input parameters.\n",
    "\n",
    "The functions are defined in Python using a `def` keyword. Following code defines a function to calculate the difference of two numbers:"
   ]
  },
  {
   "cell_type": "code",
   "execution_count": 1,
   "metadata": {},
   "outputs": [],
   "source": [
    "def mySub(x,y):\n",
    "  print(\"(x,y) inside function are (%f,%f)\" % (x,y))\n",
    "  return (x-y)"
   ]
  },
  {
   "cell_type": "code",
   "execution_count": 2,
   "metadata": {},
   "outputs": [
    {
     "name": "stdout",
     "output_type": "stream",
     "text": [
      "Input (x,y) are (4.000000,3.000000)\n",
      "(x,y) inside function are (4.000000,3.000000)\n",
      "1\n"
     ]
    }
   ],
   "source": [
    "x = 4\n",
    "y = 3\n",
    "print(\"Input (x,y) are (%f,%f)\" % (x,y))\n",
    "print(mySub(x,y))"
   ]
  },
  {
   "cell_type": "code",
   "execution_count": 3,
   "metadata": {},
   "outputs": [
    {
     "name": "stdout",
     "output_type": "stream",
     "text": [
      "Input (x,y) are (4.000000,3.000000)\n",
      "(x,y) inside function are (3.000000,4.000000)\n",
      "-1\n"
     ]
    }
   ],
   "source": [
    "print(\"Input (x,y) are (%f,%f)\" % (x,y))\n",
    "print(mySub(y,x))"
   ]
  },
  {
   "cell_type": "markdown",
   "metadata": {},
   "source": [
    "__Notice__ the values of `x` and `y` inside `mySub` function are local and are different from calling function! "
   ]
  },
  {
   "cell_type": "code",
   "execution_count": null,
   "metadata": {},
   "outputs": [],
   "source": [
    "def myprint(a):\n",
    "    print(a)"
   ]
  },
  {
   "cell_type": "code",
   "execution_count": null,
   "metadata": {},
   "outputs": [],
   "source": [
    "myprint('5')"
   ]
  },
  {
   "cell_type": "markdown",
   "metadata": {},
   "source": [
    "The `return` keyword in above code is used to return the value(s) of local variables from functions."
   ]
  },
  {
   "cell_type": "markdown",
   "metadata": {},
   "source": [
    "__Note__ that unlike in other languages, it is possible to define function inside a function in Python. Also it is possible to return multiple values in Python. For instance:"
   ]
  },
  {
   "cell_type": "code",
   "execution_count": null,
   "metadata": {},
   "outputs": [],
   "source": [
    "def myfun(x, y):\n",
    "  \n",
    "  def mysum(x, y):\n",
    "    return (x+y)\n",
    "\n",
    "  def mydiff(x, y):\n",
    "    return (x-y)\n",
    "\n",
    "  return mysum(x,y) / mydiff(x,y), mydiff(x,y) / mysum(x,y) \n",
    "\n",
    "X, Y = myfun(4.0,3.0)\n",
    "print(\"X and Y are: (%f, %f)\" % (X,Y))"
   ]
  },
  {
   "cell_type": "markdown",
   "metadata": {},
   "source": [
    "### Some commonly used in-built functions in Python are:\n",
    "- abs\n",
    "- all\n",
    "- any\n",
    "- enumerate\n",
    "- len\n",
    "- list\n",
    "- max\n",
    "- min\n",
    "- open\n",
    "- pow\n",
    "- print\n",
    "- range\n",
    "- reversed\n",
    "- round\n",
    "- set\n",
    "- sorted\n",
    "- str\n",
    "- sum\n",
    "- type\n",
    "- zip\n",
    "\n",
    "Learn more about these functions [here](https://www.w3schools.com/python/python_ref_functions.asp) or [here](https://docs.python.org/3.3/library/functions.html)"
   ]
  }
 ],
 "metadata": {
  "kernelspec": {
   "display_name": "Python 3",
   "language": "python",
   "name": "python3"
  },
  "language_info": {
   "codemirror_mode": {
    "name": "ipython",
    "version": 3
   },
   "file_extension": ".py",
   "mimetype": "text/x-python",
   "name": "python",
   "nbconvert_exporter": "python",
   "pygments_lexer": "ipython3",
   "version": "3.6.8"
  }
 },
 "nbformat": 4,
 "nbformat_minor": 2
}

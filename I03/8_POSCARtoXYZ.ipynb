{
 "cells": [
  {
   "cell_type": "code",
   "execution_count": 2,
   "metadata": {},
   "outputs": [],
   "source": [
    "import os\n",
    "import numpy as np"
   ]
  },
  {
   "cell_type": "code",
   "execution_count": 3,
   "metadata": {},
   "outputs": [],
   "source": [
    "#read POSCAR files\n",
    "with open(\"POSCAR\", \"r\") as f:\n",
    "    \n",
    "    # read all lines\n",
    "    lines = f.readlines()\n",
    "    \n",
    "    # get header\n",
    "    scale = float(lines[1].split()[0])\n",
    "    a1 = [float(x) for x in lines[2].split()]    \n",
    "    a2 = [float(x) for x in lines[3].split()]\n",
    "    a3 = [float(x) for x in lines[4].split()]\n",
    "    alat = numpy.array([a1, a2, a3])\n",
    "    alat = scale * alat\n",
    "    symbols = lines[5].split()\n",
    "    count = [int(x) for x in lines[6].split()]\n",
    "    direct_cartesian = lines[7].split()[0]\n",
    "    \n",
    "    # get coordinates\n",
    "    coord = []\n",
    "    types = []\n",
    "    loc = 8\n",
    "    for i in range(len(count)):\n",
    "        for j in range(count[i]):\n",
    "            coord.append([float(x) for x in lines[loc].split()])\n",
    "            types.append(symbols[i])    \n",
    "            loc += 1\n",
    "    \n",
    "    # get direct and cart coordinates\n",
    "    if \"D\" == direct_cartesian[0] or \"d\" == direct_cartesian[0]:\n",
    "        direct = numpy.array(coord)\n",
    "        cart = numpy.matmul(direct, alat)\n",
    "    else:\n",
    "        cart = scale * numpy.array(coord)\n",
    "        direct = numpy.matmul(cart, numpy.linalg.inv(alat))\n",
    "\n"
   ]
  },
  {
   "cell_type": "code",
   "execution_count": 4,
   "metadata": {},
   "outputs": [],
   "source": [
    "# write xyz file\n",
    "with open(\"structure.xyz\", \"w\") as f:\n",
    "    \n",
    "    # number of atoms\n",
    "    f.write(\"%d \\n\" % (len(cart)))\n",
    "    \n",
    "    # get a1,a2,a3 as strings\n",
    "    a1 = \" \".join([str(x) for x in alat[0]])\n",
    "    a2 = \" \".join([str(x) for x in alat[1]])\n",
    "    a3 = \" \".join([str(x) for x in alat[2]])\n",
    "    f.write('Lattice=\"%s %s %s\"\\n' % (a1,a2,a3))\n",
    "    \n",
    "    # write all atoms\n",
    "    for i in range(len(cart)):\n",
    "        f.write(\"%s %f %f %f\\n\" % (types[i], cart[i][0], cart[i][1], cart[i][2]))\n",
    "    "
   ]
  },
  {
   "cell_type": "code",
   "execution_count": null,
   "metadata": {},
   "outputs": [],
   "source": []
  },
  {
   "cell_type": "code",
   "execution_count": null,
   "metadata": {},
   "outputs": [],
   "source": []
  },
  {
   "cell_type": "code",
   "execution_count": null,
   "metadata": {},
   "outputs": [],
   "source": []
  }
 ],
 "metadata": {
  "kernelspec": {
   "display_name": "Python 3",
   "language": "python",
   "name": "python3"
  },
  "language_info": {
   "codemirror_mode": {
    "name": "ipython",
    "version": 3
   },
   "file_extension": ".py",
   "mimetype": "text/x-python",
   "name": "python",
   "nbconvert_exporter": "python",
   "pygments_lexer": "ipython3",
   "version": "3.12.1"
  }
 },
 "nbformat": 4,
 "nbformat_minor": 2
}

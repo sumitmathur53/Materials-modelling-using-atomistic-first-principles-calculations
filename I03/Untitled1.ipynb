{
 "cells": [
  {
   "cell_type": "code",
   "execution_count": 1,
   "metadata": {},
   "outputs": [],
   "source": [
    "import numpy as np"
   ]
  },
  {
   "cell_type": "code",
   "execution_count": 50,
   "metadata": {},
   "outputs": [],
   "source": [
    "def read_POSCAR(filename):\n",
    "    \n",
    "    f = open(filename, \"r\")\n",
    "    lines = f.readlines()\n",
    "    f.close()\n",
    "    \n",
    "    scale = float(lines[1])\n",
    "    alat = []\n",
    "    for i in range(3):\n",
    "        a = [float(val) for val in lines[i+2].split()]\n",
    "        alat.append(a)\n",
    "    alat = np.array(alat)  \n",
    "    alat = alat*scale\n",
    "    \n",
    "    symbols = lines[5].split()\n",
    "    count = [int(val) for val in lines[6].split()]\n",
    "    \n",
    "    direct_cartesian = lines[7].split()[0]\n",
    "    direct_cartesian = direct_cartesian.lower()\n",
    "    \n",
    "    coordinates = []\n",
    "    atoms = []\n",
    "    line_count = 8\n",
    "    for s in range(len(symbols)):\n",
    "        symbol = symbols[s]\n",
    "        c = count[s]\n",
    "        for i in range(c):\n",
    "            coord = [float(val) for val in lines[line_count].split()]\n",
    "            line_count = line_count + 1\n",
    "            coordinates.append(coord)\n",
    "            atoms.append(symbol)\n",
    "            \n",
    "    # handle direct/cartesian coordinates\n",
    "    if direct_cartesian[0]  == \"c\":\n",
    "        cart = np.array(coordinates)\n",
    "        inv_alat = np.linalg.inv(alat)\n",
    "        direct = np.matmul(cart, inv_alat)\n",
    "    else:\n",
    "        direct = np.array(coordinates)\n",
    "        cart = np.matmul(direct, alat)\n",
    "    \n",
    "    structure = {'cart' : cart, 'direct' : direct, 'alat' : alat, 'atoms' : atoms}\n",
    "    return structure"
   ]
  },
  {
   "cell_type": "code",
   "execution_count": 74,
   "metadata": {},
   "outputs": [
    {
     "name": "stdout",
     "output_type": "stream",
     "text": [
      "Si [0. 0. 0.] [0. 0. 0.]\n",
      "Si [0.5 0.5 0. ] [2.715 2.715 0.   ]\n",
      "Si [0.5 0.  0.5] [2.715 0.    2.715]\n",
      "Si [0.  0.5 0.5] [0.    2.715 2.715]\n",
      "Si [0.25 0.25 0.25] [1.3575 1.3575 1.3575]\n",
      "Si [0.75 0.75 0.25] [4.0725 4.0725 1.3575]\n",
      "Si [0.75 0.25 0.75] [4.0725 1.3575 4.0725]\n",
      "Si [0.25 0.75 0.75] [1.3575 4.0725 4.0725]\n"
     ]
    }
   ],
   "source": [
    "structure = read_POSCAR('POSCAR')\n",
    "for i in range(len(data['atoms'])):\n",
    "    print(data['atoms'][i],  data['direct'][i], data['cart'][i])"
   ]
  },
  {
   "cell_type": "code",
   "execution_count": 81,
   "metadata": {},
   "outputs": [],
   "source": [
    "def write_xyz(filename, data):\n",
    "    \n",
    "    f = open(filename, \"w\")\n",
    "    \n",
    "    natom = len(data['atoms'])\n",
    "    f.write(\"%d \\n\" % (natom))\n",
    "    \n",
    "    alat = data['alat']\n",
    "    a1 = [str(val) for val in alat[0]]\n",
    "    a1 = \" \".join(a1)\n",
    "    a2 = [str(val) for val in alat[1]]\n",
    "    a2 = \" \".join(a2)\n",
    "    a3 = [str(val) for val in alat[2]]\n",
    "    a3 = \" \".join(a3)\n",
    "    f.write('Lattice= \"%s %s %s\"\\n' % (a1, a2, a3))\n",
    "\n",
    "    atoms = data['atoms']\n",
    "    cart = data['cart']\n",
    "    for i in range(natom):\n",
    "        f.write(\"%s %15.3f %10.12f %5.3f\\n\" % (atoms[i], cart[i][0], cart[i][1], cart[i][2]))\n",
    "    \n",
    "    f.close()"
   ]
  },
  {
   "cell_type": "code",
   "execution_count": 82,
   "metadata": {},
   "outputs": [],
   "source": [
    "write_xyz('test.xyz', structure)"
   ]
  },
  {
   "cell_type": "code",
   "execution_count": null,
   "metadata": {},
   "outputs": [],
   "source": []
  },
  {
   "cell_type": "code",
   "execution_count": null,
   "metadata": {},
   "outputs": [],
   "source": []
  }
 ],
 "metadata": {
  "kernelspec": {
   "display_name": "Python 3",
   "language": "python",
   "name": "python3"
  },
  "language_info": {
   "codemirror_mode": {
    "name": "ipython",
    "version": 3
   },
   "file_extension": ".py",
   "mimetype": "text/x-python",
   "name": "python",
   "nbconvert_exporter": "python",
   "pygments_lexer": "ipython3",
   "version": "3.6.8"
  }
 },
 "nbformat": 4,
 "nbformat_minor": 2
}
